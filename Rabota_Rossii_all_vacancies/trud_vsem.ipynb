{
 "cells": [
  {
   "cell_type": "code",
   "execution_count": 42,
   "metadata": {
    "pycharm": {
     "name": "#%%\n"
    }
   },
   "outputs": [
    {
     "name": "stderr",
     "output_type": "stream",
     "text": [
      "100%|██████████| 23/23 [00:33<00:00,  1.45s/it]\n"
     ]
    },
    {
     "name": "stdout",
     "output_type": "stream",
     "text": [
      "2022-08-21 04:10:00\n"
     ]
    },
    {
     "name": "stderr",
     "output_type": "stream",
     "text": [
      "100%|██████████| 24/24 [00:36<00:00,  1.52s/it]\n"
     ]
    },
    {
     "name": "stdout",
     "output_type": "stream",
     "text": [
      "2022-08-21 04:20:00\n"
     ]
    },
    {
     "name": "stderr",
     "output_type": "stream",
     "text": [
      "100%|██████████| 42/42 [01:36<00:00,  2.29s/it]\n"
     ]
    },
    {
     "name": "stdout",
     "output_type": "stream",
     "text": [
      "2022-08-21 04:30:00\n"
     ]
    },
    {
     "name": "stderr",
     "output_type": "stream",
     "text": [
      "100%|██████████| 34/34 [01:34<00:00,  2.77s/it]\n"
     ]
    },
    {
     "name": "stdout",
     "output_type": "stream",
     "text": [
      "2022-08-21 04:40:00\n"
     ]
    },
    {
     "name": "stderr",
     "output_type": "stream",
     "text": [
      "100%|██████████| 29/29 [01:17<00:00,  2.66s/it]\n"
     ]
    },
    {
     "name": "stdout",
     "output_type": "stream",
     "text": [
      "2022-08-21 04:50:00\n"
     ]
    },
    {
     "name": "stderr",
     "output_type": "stream",
     "text": [
      "100%|██████████| 22/22 [00:59<00:00,  2.70s/it]\n"
     ]
    },
    {
     "name": "stdout",
     "output_type": "stream",
     "text": [
      "2022-08-21 05:00:00\n"
     ]
    },
    {
     "name": "stderr",
     "output_type": "stream",
     "text": [
      "100%|██████████| 24/24 [01:05<00:00,  2.74s/it]\n"
     ]
    },
    {
     "name": "stdout",
     "output_type": "stream",
     "text": [
      "2022-08-21 05:10:00\n"
     ]
    },
    {
     "name": "stderr",
     "output_type": "stream",
     "text": [
      "100%|██████████| 33/33 [01:46<00:00,  3.21s/it]\n"
     ]
    },
    {
     "name": "stdout",
     "output_type": "stream",
     "text": [
      "2022-08-21 05:20:00\n"
     ]
    },
    {
     "name": "stderr",
     "output_type": "stream",
     "text": [
      "100%|██████████| 39/39 [01:59<00:00,  3.07s/it]\n"
     ]
    },
    {
     "name": "stdout",
     "output_type": "stream",
     "text": [
      "2022-08-21 05:30:00\n"
     ]
    },
    {
     "name": "stderr",
     "output_type": "stream",
     "text": [
      "100%|██████████| 38/38 [02:11<00:00,  3.46s/it]\n"
     ]
    },
    {
     "name": "stdout",
     "output_type": "stream",
     "text": [
      "2022-08-21 05:40:00\n"
     ]
    },
    {
     "name": "stderr",
     "output_type": "stream",
     "text": [
      "100%|██████████| 36/36 [01:51<00:00,  3.11s/it]\n"
     ]
    },
    {
     "name": "stdout",
     "output_type": "stream",
     "text": [
      "2022-08-21 05:50:00\n"
     ]
    },
    {
     "name": "stderr",
     "output_type": "stream",
     "text": [
      "100%|██████████| 52/52 [02:21<00:00,  2.73s/it]\n"
     ]
    },
    {
     "name": "stdout",
     "output_type": "stream",
     "text": [
      "2022-08-21 06:00:00\n"
     ]
    },
    {
     "name": "stderr",
     "output_type": "stream",
     "text": [
      "100%|██████████| 17/17 [00:38<00:00,  2.24s/it]\n"
     ]
    },
    {
     "name": "stdout",
     "output_type": "stream",
     "text": [
      "2022-08-21 06:10:00\n"
     ]
    },
    {
     "name": "stderr",
     "output_type": "stream",
     "text": [
      "0it [00:00, ?it/s]\n"
     ]
    },
    {
     "name": "stdout",
     "output_type": "stream",
     "text": [
      "2022-08-21 06:20:00\n"
     ]
    },
    {
     "name": "stderr",
     "output_type": "stream",
     "text": [
      "0it [00:00, ?it/s]\n"
     ]
    },
    {
     "name": "stdout",
     "output_type": "stream",
     "text": [
      "2022-08-21 06:30:00\n"
     ]
    },
    {
     "name": "stderr",
     "output_type": "stream",
     "text": [
      "0it [00:00, ?it/s]\n"
     ]
    },
    {
     "name": "stdout",
     "output_type": "stream",
     "text": [
      "2022-08-21 06:40:00\n"
     ]
    },
    {
     "name": "stderr",
     "output_type": "stream",
     "text": [
      "0it [00:00, ?it/s]\n"
     ]
    },
    {
     "name": "stdout",
     "output_type": "stream",
     "text": [
      "2022-08-21 06:50:00\n"
     ]
    },
    {
     "name": "stderr",
     "output_type": "stream",
     "text": [
      "0it [00:00, ?it/s]\n"
     ]
    },
    {
     "name": "stdout",
     "output_type": "stream",
     "text": [
      "2022-08-21 07:00:00\n"
     ]
    },
    {
     "name": "stderr",
     "output_type": "stream",
     "text": [
      "0it [00:00, ?it/s]\n"
     ]
    },
    {
     "name": "stdout",
     "output_type": "stream",
     "text": [
      "2022-08-21 07:10:00\n"
     ]
    },
    {
     "name": "stderr",
     "output_type": "stream",
     "text": [
      "100%|██████████| 20/20 [01:00<00:00,  3.03s/it]\n"
     ]
    },
    {
     "name": "stdout",
     "output_type": "stream",
     "text": [
      "2022-08-21 07:20:00\n"
     ]
    },
    {
     "name": "stderr",
     "output_type": "stream",
     "text": [
      "100%|██████████| 44/44 [02:02<00:00,  2.78s/it]\n"
     ]
    },
    {
     "name": "stdout",
     "output_type": "stream",
     "text": [
      "2022-08-21 07:30:00\n"
     ]
    },
    {
     "name": "stderr",
     "output_type": "stream",
     "text": [
      "100%|██████████| 37/37 [01:31<00:00,  2.48s/it]\n"
     ]
    },
    {
     "name": "stdout",
     "output_type": "stream",
     "text": [
      "2022-08-21 07:40:00\n"
     ]
    },
    {
     "name": "stderr",
     "output_type": "stream",
     "text": [
      "100%|██████████| 28/28 [01:12<00:00,  2.61s/it]\n"
     ]
    },
    {
     "name": "stdout",
     "output_type": "stream",
     "text": [
      "2022-08-21 07:50:00\n"
     ]
    },
    {
     "name": "stderr",
     "output_type": "stream",
     "text": [
      " 94%|█████████▍| 45/48 [26:01<01:44, 34.70s/it]\n"
     ]
    },
    {
     "ename": "KeyboardInterrupt",
     "evalue": "",
     "output_type": "error",
     "traceback": [
      "\u001B[0;31m---------------------------------------------------------------------------\u001B[0m",
      "\u001B[0;31mKeyboardInterrupt\u001B[0m                         Traceback (most recent call last)",
      "Input \u001B[0;32mIn [42]\u001B[0m, in \u001B[0;36m<cell line: 48>\u001B[0;34m()\u001B[0m\n\u001B[1;32m     48\u001B[0m \u001B[38;5;28;01mwhile\u001B[39;00m start_time \u001B[38;5;241m<\u001B[39m end_time:\n\u001B[1;32m     49\u001B[0m     \u001B[38;5;28;01mtry\u001B[39;00m:\n\u001B[0;32m---> 50\u001B[0m         vacancies \u001B[38;5;241m+\u001B[39m\u001B[38;5;241m=\u001B[39m \u001B[43mgetDay\u001B[49m\u001B[43m(\u001B[49m\u001B[43mstart_time\u001B[49m\u001B[43m)\u001B[49m\n\u001B[1;32m     51\u001B[0m     \u001B[38;5;28;01mexcept\u001B[39;00m \u001B[38;5;167;01mException\u001B[39;00m \u001B[38;5;28;01mas\u001B[39;00m e:\n\u001B[1;32m     52\u001B[0m         \u001B[38;5;28mprint\u001B[39m(e)\n",
      "Input \u001B[0;32mIn [42]\u001B[0m, in \u001B[0;36mgetDay\u001B[0;34m(modifiedFrom)\u001B[0m\n\u001B[1;32m     32\u001B[0m time\u001B[38;5;241m.\u001B[39msleep(\u001B[38;5;241m0.1\u001B[39m)\n\u001B[1;32m     33\u001B[0m params[\u001B[38;5;124m'\u001B[39m\u001B[38;5;124moffset\u001B[39m\u001B[38;5;124m'\u001B[39m] \u001B[38;5;241m+\u001B[39m\u001B[38;5;241m=\u001B[39m \u001B[38;5;241m1\u001B[39m\n\u001B[0;32m---> 34\u001B[0m req \u001B[38;5;241m=\u001B[39m \u001B[43mrequests\u001B[49m\u001B[38;5;241;43m.\u001B[39;49m\u001B[43mget\u001B[49m\u001B[43m(\u001B[49m\u001B[38;5;124;43m'\u001B[39;49m\u001B[38;5;124;43mhttp://opendata.trudvsem.ru/api/v1/vacancies\u001B[39;49m\u001B[38;5;124;43m'\u001B[39;49m\u001B[43m,\u001B[49m\u001B[43m \u001B[49m\u001B[43mparams\u001B[49m\u001B[43m)\u001B[49m\n\u001B[1;32m     35\u001B[0m data \u001B[38;5;241m=\u001B[39m json\u001B[38;5;241m.\u001B[39mloads(req\u001B[38;5;241m.\u001B[39mcontent\u001B[38;5;241m.\u001B[39mdecode())\n\u001B[1;32m     36\u001B[0m req\u001B[38;5;241m.\u001B[39mclose()\n",
      "File \u001B[0;32m~/Library/Python/3.8/lib/python/site-packages/requests/api.py:75\u001B[0m, in \u001B[0;36mget\u001B[0;34m(url, params, **kwargs)\u001B[0m\n\u001B[1;32m     64\u001B[0m \u001B[38;5;28;01mdef\u001B[39;00m \u001B[38;5;21mget\u001B[39m(url, params\u001B[38;5;241m=\u001B[39m\u001B[38;5;28;01mNone\u001B[39;00m, \u001B[38;5;241m*\u001B[39m\u001B[38;5;241m*\u001B[39mkwargs):\n\u001B[1;32m     65\u001B[0m     \u001B[38;5;124mr\u001B[39m\u001B[38;5;124;03m\"\"\"Sends a GET request.\u001B[39;00m\n\u001B[1;32m     66\u001B[0m \n\u001B[1;32m     67\u001B[0m \u001B[38;5;124;03m    :param url: URL for the new :class:`Request` object.\u001B[39;00m\n\u001B[0;32m   (...)\u001B[0m\n\u001B[1;32m     72\u001B[0m \u001B[38;5;124;03m    :rtype: requests.Response\u001B[39;00m\n\u001B[1;32m     73\u001B[0m \u001B[38;5;124;03m    \"\"\"\u001B[39;00m\n\u001B[0;32m---> 75\u001B[0m     \u001B[38;5;28;01mreturn\u001B[39;00m \u001B[43mrequest\u001B[49m\u001B[43m(\u001B[49m\u001B[38;5;124;43m'\u001B[39;49m\u001B[38;5;124;43mget\u001B[39;49m\u001B[38;5;124;43m'\u001B[39;49m\u001B[43m,\u001B[49m\u001B[43m \u001B[49m\u001B[43murl\u001B[49m\u001B[43m,\u001B[49m\u001B[43m \u001B[49m\u001B[43mparams\u001B[49m\u001B[38;5;241;43m=\u001B[39;49m\u001B[43mparams\u001B[49m\u001B[43m,\u001B[49m\u001B[43m \u001B[49m\u001B[38;5;241;43m*\u001B[39;49m\u001B[38;5;241;43m*\u001B[39;49m\u001B[43mkwargs\u001B[49m\u001B[43m)\u001B[49m\n",
      "File \u001B[0;32m~/Library/Python/3.8/lib/python/site-packages/requests/api.py:61\u001B[0m, in \u001B[0;36mrequest\u001B[0;34m(method, url, **kwargs)\u001B[0m\n\u001B[1;32m     57\u001B[0m \u001B[38;5;66;03m# By using the 'with' statement we are sure the session is closed, thus we\u001B[39;00m\n\u001B[1;32m     58\u001B[0m \u001B[38;5;66;03m# avoid leaving sockets open which can trigger a ResourceWarning in some\u001B[39;00m\n\u001B[1;32m     59\u001B[0m \u001B[38;5;66;03m# cases, and look like a memory leak in others.\u001B[39;00m\n\u001B[1;32m     60\u001B[0m \u001B[38;5;28;01mwith\u001B[39;00m sessions\u001B[38;5;241m.\u001B[39mSession() \u001B[38;5;28;01mas\u001B[39;00m session:\n\u001B[0;32m---> 61\u001B[0m     \u001B[38;5;28;01mreturn\u001B[39;00m \u001B[43msession\u001B[49m\u001B[38;5;241;43m.\u001B[39;49m\u001B[43mrequest\u001B[49m\u001B[43m(\u001B[49m\u001B[43mmethod\u001B[49m\u001B[38;5;241;43m=\u001B[39;49m\u001B[43mmethod\u001B[49m\u001B[43m,\u001B[49m\u001B[43m \u001B[49m\u001B[43murl\u001B[49m\u001B[38;5;241;43m=\u001B[39;49m\u001B[43murl\u001B[49m\u001B[43m,\u001B[49m\u001B[43m \u001B[49m\u001B[38;5;241;43m*\u001B[39;49m\u001B[38;5;241;43m*\u001B[39;49m\u001B[43mkwargs\u001B[49m\u001B[43m)\u001B[49m\n",
      "File \u001B[0;32m~/Library/Python/3.8/lib/python/site-packages/requests/sessions.py:529\u001B[0m, in \u001B[0;36mSession.request\u001B[0;34m(self, method, url, params, data, headers, cookies, files, auth, timeout, allow_redirects, proxies, hooks, stream, verify, cert, json)\u001B[0m\n\u001B[1;32m    524\u001B[0m send_kwargs \u001B[38;5;241m=\u001B[39m {\n\u001B[1;32m    525\u001B[0m     \u001B[38;5;124m'\u001B[39m\u001B[38;5;124mtimeout\u001B[39m\u001B[38;5;124m'\u001B[39m: timeout,\n\u001B[1;32m    526\u001B[0m     \u001B[38;5;124m'\u001B[39m\u001B[38;5;124mallow_redirects\u001B[39m\u001B[38;5;124m'\u001B[39m: allow_redirects,\n\u001B[1;32m    527\u001B[0m }\n\u001B[1;32m    528\u001B[0m send_kwargs\u001B[38;5;241m.\u001B[39mupdate(settings)\n\u001B[0;32m--> 529\u001B[0m resp \u001B[38;5;241m=\u001B[39m \u001B[38;5;28;43mself\u001B[39;49m\u001B[38;5;241;43m.\u001B[39;49m\u001B[43msend\u001B[49m\u001B[43m(\u001B[49m\u001B[43mprep\u001B[49m\u001B[43m,\u001B[49m\u001B[43m \u001B[49m\u001B[38;5;241;43m*\u001B[39;49m\u001B[38;5;241;43m*\u001B[39;49m\u001B[43msend_kwargs\u001B[49m\u001B[43m)\u001B[49m\n\u001B[1;32m    531\u001B[0m \u001B[38;5;28;01mreturn\u001B[39;00m resp\n",
      "File \u001B[0;32m~/Library/Python/3.8/lib/python/site-packages/requests/sessions.py:645\u001B[0m, in \u001B[0;36mSession.send\u001B[0;34m(self, request, **kwargs)\u001B[0m\n\u001B[1;32m    642\u001B[0m start \u001B[38;5;241m=\u001B[39m preferred_clock()\n\u001B[1;32m    644\u001B[0m \u001B[38;5;66;03m# Send the request\u001B[39;00m\n\u001B[0;32m--> 645\u001B[0m r \u001B[38;5;241m=\u001B[39m \u001B[43madapter\u001B[49m\u001B[38;5;241;43m.\u001B[39;49m\u001B[43msend\u001B[49m\u001B[43m(\u001B[49m\u001B[43mrequest\u001B[49m\u001B[43m,\u001B[49m\u001B[43m \u001B[49m\u001B[38;5;241;43m*\u001B[39;49m\u001B[38;5;241;43m*\u001B[39;49m\u001B[43mkwargs\u001B[49m\u001B[43m)\u001B[49m\n\u001B[1;32m    647\u001B[0m \u001B[38;5;66;03m# Total elapsed time of the request (approximately)\u001B[39;00m\n\u001B[1;32m    648\u001B[0m elapsed \u001B[38;5;241m=\u001B[39m preferred_clock() \u001B[38;5;241m-\u001B[39m start\n",
      "File \u001B[0;32m~/Library/Python/3.8/lib/python/site-packages/requests/adapters.py:440\u001B[0m, in \u001B[0;36mHTTPAdapter.send\u001B[0;34m(self, request, stream, timeout, verify, cert, proxies)\u001B[0m\n\u001B[1;32m    438\u001B[0m \u001B[38;5;28;01mtry\u001B[39;00m:\n\u001B[1;32m    439\u001B[0m     \u001B[38;5;28;01mif\u001B[39;00m \u001B[38;5;129;01mnot\u001B[39;00m chunked:\n\u001B[0;32m--> 440\u001B[0m         resp \u001B[38;5;241m=\u001B[39m \u001B[43mconn\u001B[49m\u001B[38;5;241;43m.\u001B[39;49m\u001B[43murlopen\u001B[49m\u001B[43m(\u001B[49m\n\u001B[1;32m    441\u001B[0m \u001B[43m            \u001B[49m\u001B[43mmethod\u001B[49m\u001B[38;5;241;43m=\u001B[39;49m\u001B[43mrequest\u001B[49m\u001B[38;5;241;43m.\u001B[39;49m\u001B[43mmethod\u001B[49m\u001B[43m,\u001B[49m\n\u001B[1;32m    442\u001B[0m \u001B[43m            \u001B[49m\u001B[43murl\u001B[49m\u001B[38;5;241;43m=\u001B[39;49m\u001B[43murl\u001B[49m\u001B[43m,\u001B[49m\n\u001B[1;32m    443\u001B[0m \u001B[43m            \u001B[49m\u001B[43mbody\u001B[49m\u001B[38;5;241;43m=\u001B[39;49m\u001B[43mrequest\u001B[49m\u001B[38;5;241;43m.\u001B[39;49m\u001B[43mbody\u001B[49m\u001B[43m,\u001B[49m\n\u001B[1;32m    444\u001B[0m \u001B[43m            \u001B[49m\u001B[43mheaders\u001B[49m\u001B[38;5;241;43m=\u001B[39;49m\u001B[43mrequest\u001B[49m\u001B[38;5;241;43m.\u001B[39;49m\u001B[43mheaders\u001B[49m\u001B[43m,\u001B[49m\n\u001B[1;32m    445\u001B[0m \u001B[43m            \u001B[49m\u001B[43mredirect\u001B[49m\u001B[38;5;241;43m=\u001B[39;49m\u001B[38;5;28;43;01mFalse\u001B[39;49;00m\u001B[43m,\u001B[49m\n\u001B[1;32m    446\u001B[0m \u001B[43m            \u001B[49m\u001B[43massert_same_host\u001B[49m\u001B[38;5;241;43m=\u001B[39;49m\u001B[38;5;28;43;01mFalse\u001B[39;49;00m\u001B[43m,\u001B[49m\n\u001B[1;32m    447\u001B[0m \u001B[43m            \u001B[49m\u001B[43mpreload_content\u001B[49m\u001B[38;5;241;43m=\u001B[39;49m\u001B[38;5;28;43;01mFalse\u001B[39;49;00m\u001B[43m,\u001B[49m\n\u001B[1;32m    448\u001B[0m \u001B[43m            \u001B[49m\u001B[43mdecode_content\u001B[49m\u001B[38;5;241;43m=\u001B[39;49m\u001B[38;5;28;43;01mFalse\u001B[39;49;00m\u001B[43m,\u001B[49m\n\u001B[1;32m    449\u001B[0m \u001B[43m            \u001B[49m\u001B[43mretries\u001B[49m\u001B[38;5;241;43m=\u001B[39;49m\u001B[38;5;28;43mself\u001B[39;49m\u001B[38;5;241;43m.\u001B[39;49m\u001B[43mmax_retries\u001B[49m\u001B[43m,\u001B[49m\n\u001B[1;32m    450\u001B[0m \u001B[43m            \u001B[49m\u001B[43mtimeout\u001B[49m\u001B[38;5;241;43m=\u001B[39;49m\u001B[43mtimeout\u001B[49m\n\u001B[1;32m    451\u001B[0m \u001B[43m        \u001B[49m\u001B[43m)\u001B[49m\n\u001B[1;32m    453\u001B[0m     \u001B[38;5;66;03m# Send the request.\u001B[39;00m\n\u001B[1;32m    454\u001B[0m     \u001B[38;5;28;01melse\u001B[39;00m:\n\u001B[1;32m    455\u001B[0m         \u001B[38;5;28;01mif\u001B[39;00m \u001B[38;5;28mhasattr\u001B[39m(conn, \u001B[38;5;124m'\u001B[39m\u001B[38;5;124mproxy_pool\u001B[39m\u001B[38;5;124m'\u001B[39m):\n",
      "File \u001B[0;32m~/Library/Python/3.8/lib/python/site-packages/urllib3/connectionpool.py:703\u001B[0m, in \u001B[0;36mHTTPConnectionPool.urlopen\u001B[0;34m(self, method, url, body, headers, retries, redirect, assert_same_host, timeout, pool_timeout, release_conn, chunked, body_pos, **response_kw)\u001B[0m\n\u001B[1;32m    700\u001B[0m     \u001B[38;5;28mself\u001B[39m\u001B[38;5;241m.\u001B[39m_prepare_proxy(conn)\n\u001B[1;32m    702\u001B[0m \u001B[38;5;66;03m# Make the request on the httplib connection object.\u001B[39;00m\n\u001B[0;32m--> 703\u001B[0m httplib_response \u001B[38;5;241m=\u001B[39m \u001B[38;5;28;43mself\u001B[39;49m\u001B[38;5;241;43m.\u001B[39;49m\u001B[43m_make_request\u001B[49m\u001B[43m(\u001B[49m\n\u001B[1;32m    704\u001B[0m \u001B[43m    \u001B[49m\u001B[43mconn\u001B[49m\u001B[43m,\u001B[49m\n\u001B[1;32m    705\u001B[0m \u001B[43m    \u001B[49m\u001B[43mmethod\u001B[49m\u001B[43m,\u001B[49m\n\u001B[1;32m    706\u001B[0m \u001B[43m    \u001B[49m\u001B[43murl\u001B[49m\u001B[43m,\u001B[49m\n\u001B[1;32m    707\u001B[0m \u001B[43m    \u001B[49m\u001B[43mtimeout\u001B[49m\u001B[38;5;241;43m=\u001B[39;49m\u001B[43mtimeout_obj\u001B[49m\u001B[43m,\u001B[49m\n\u001B[1;32m    708\u001B[0m \u001B[43m    \u001B[49m\u001B[43mbody\u001B[49m\u001B[38;5;241;43m=\u001B[39;49m\u001B[43mbody\u001B[49m\u001B[43m,\u001B[49m\n\u001B[1;32m    709\u001B[0m \u001B[43m    \u001B[49m\u001B[43mheaders\u001B[49m\u001B[38;5;241;43m=\u001B[39;49m\u001B[43mheaders\u001B[49m\u001B[43m,\u001B[49m\n\u001B[1;32m    710\u001B[0m \u001B[43m    \u001B[49m\u001B[43mchunked\u001B[49m\u001B[38;5;241;43m=\u001B[39;49m\u001B[43mchunked\u001B[49m\u001B[43m,\u001B[49m\n\u001B[1;32m    711\u001B[0m \u001B[43m\u001B[49m\u001B[43m)\u001B[49m\n\u001B[1;32m    713\u001B[0m \u001B[38;5;66;03m# If we're going to release the connection in ``finally:``, then\u001B[39;00m\n\u001B[1;32m    714\u001B[0m \u001B[38;5;66;03m# the response doesn't need to know about the connection. Otherwise\u001B[39;00m\n\u001B[1;32m    715\u001B[0m \u001B[38;5;66;03m# it will also try to release it and we'll have a double-release\u001B[39;00m\n\u001B[1;32m    716\u001B[0m \u001B[38;5;66;03m# mess.\u001B[39;00m\n\u001B[1;32m    717\u001B[0m response_conn \u001B[38;5;241m=\u001B[39m conn \u001B[38;5;28;01mif\u001B[39;00m \u001B[38;5;129;01mnot\u001B[39;00m release_conn \u001B[38;5;28;01melse\u001B[39;00m \u001B[38;5;28;01mNone\u001B[39;00m\n",
      "File \u001B[0;32m~/Library/Python/3.8/lib/python/site-packages/urllib3/connectionpool.py:449\u001B[0m, in \u001B[0;36mHTTPConnectionPool._make_request\u001B[0;34m(self, conn, method, url, timeout, chunked, **httplib_request_kw)\u001B[0m\n\u001B[1;32m    444\u001B[0m             httplib_response \u001B[38;5;241m=\u001B[39m conn\u001B[38;5;241m.\u001B[39mgetresponse()\n\u001B[1;32m    445\u001B[0m         \u001B[38;5;28;01mexcept\u001B[39;00m \u001B[38;5;167;01mBaseException\u001B[39;00m \u001B[38;5;28;01mas\u001B[39;00m e:\n\u001B[1;32m    446\u001B[0m             \u001B[38;5;66;03m# Remove the TypeError from the exception chain in\u001B[39;00m\n\u001B[1;32m    447\u001B[0m             \u001B[38;5;66;03m# Python 3 (including for exceptions like SystemExit).\u001B[39;00m\n\u001B[1;32m    448\u001B[0m             \u001B[38;5;66;03m# Otherwise it looks like a bug in the code.\u001B[39;00m\n\u001B[0;32m--> 449\u001B[0m             \u001B[43msix\u001B[49m\u001B[38;5;241;43m.\u001B[39;49m\u001B[43mraise_from\u001B[49m\u001B[43m(\u001B[49m\u001B[43me\u001B[49m\u001B[43m,\u001B[49m\u001B[43m \u001B[49m\u001B[38;5;28;43;01mNone\u001B[39;49;00m\u001B[43m)\u001B[49m\n\u001B[1;32m    450\u001B[0m \u001B[38;5;28;01mexcept\u001B[39;00m (SocketTimeout, BaseSSLError, SocketError) \u001B[38;5;28;01mas\u001B[39;00m e:\n\u001B[1;32m    451\u001B[0m     \u001B[38;5;28mself\u001B[39m\u001B[38;5;241m.\u001B[39m_raise_timeout(err\u001B[38;5;241m=\u001B[39me, url\u001B[38;5;241m=\u001B[39murl, timeout_value\u001B[38;5;241m=\u001B[39mread_timeout)\n",
      "File \u001B[0;32m<string>:3\u001B[0m, in \u001B[0;36mraise_from\u001B[0;34m(value, from_value)\u001B[0m\n",
      "File \u001B[0;32m~/Library/Python/3.8/lib/python/site-packages/urllib3/connectionpool.py:444\u001B[0m, in \u001B[0;36mHTTPConnectionPool._make_request\u001B[0;34m(self, conn, method, url, timeout, chunked, **httplib_request_kw)\u001B[0m\n\u001B[1;32m    441\u001B[0m \u001B[38;5;28;01mexcept\u001B[39;00m \u001B[38;5;167;01mTypeError\u001B[39;00m:\n\u001B[1;32m    442\u001B[0m     \u001B[38;5;66;03m# Python 3\u001B[39;00m\n\u001B[1;32m    443\u001B[0m     \u001B[38;5;28;01mtry\u001B[39;00m:\n\u001B[0;32m--> 444\u001B[0m         httplib_response \u001B[38;5;241m=\u001B[39m \u001B[43mconn\u001B[49m\u001B[38;5;241;43m.\u001B[39;49m\u001B[43mgetresponse\u001B[49m\u001B[43m(\u001B[49m\u001B[43m)\u001B[49m\n\u001B[1;32m    445\u001B[0m     \u001B[38;5;28;01mexcept\u001B[39;00m \u001B[38;5;167;01mBaseException\u001B[39;00m \u001B[38;5;28;01mas\u001B[39;00m e:\n\u001B[1;32m    446\u001B[0m         \u001B[38;5;66;03m# Remove the TypeError from the exception chain in\u001B[39;00m\n\u001B[1;32m    447\u001B[0m         \u001B[38;5;66;03m# Python 3 (including for exceptions like SystemExit).\u001B[39;00m\n\u001B[1;32m    448\u001B[0m         \u001B[38;5;66;03m# Otherwise it looks like a bug in the code.\u001B[39;00m\n\u001B[1;32m    449\u001B[0m         six\u001B[38;5;241m.\u001B[39mraise_from(e, \u001B[38;5;28;01mNone\u001B[39;00m)\n",
      "File \u001B[0;32m/Library/Developer/CommandLineTools/Library/Frameworks/Python3.framework/Versions/3.8/lib/python3.8/http/client.py:1344\u001B[0m, in \u001B[0;36mHTTPConnection.getresponse\u001B[0;34m(self)\u001B[0m\n\u001B[1;32m   1342\u001B[0m \u001B[38;5;28;01mtry\u001B[39;00m:\n\u001B[1;32m   1343\u001B[0m     \u001B[38;5;28;01mtry\u001B[39;00m:\n\u001B[0;32m-> 1344\u001B[0m         \u001B[43mresponse\u001B[49m\u001B[38;5;241;43m.\u001B[39;49m\u001B[43mbegin\u001B[49m\u001B[43m(\u001B[49m\u001B[43m)\u001B[49m\n\u001B[1;32m   1345\u001B[0m     \u001B[38;5;28;01mexcept\u001B[39;00m \u001B[38;5;167;01mConnectionError\u001B[39;00m:\n\u001B[1;32m   1346\u001B[0m         \u001B[38;5;28mself\u001B[39m\u001B[38;5;241m.\u001B[39mclose()\n",
      "File \u001B[0;32m/Library/Developer/CommandLineTools/Library/Frameworks/Python3.framework/Versions/3.8/lib/python3.8/http/client.py:307\u001B[0m, in \u001B[0;36mHTTPResponse.begin\u001B[0;34m(self)\u001B[0m\n\u001B[1;32m    305\u001B[0m \u001B[38;5;66;03m# read until we get a non-100 response\u001B[39;00m\n\u001B[1;32m    306\u001B[0m \u001B[38;5;28;01mwhile\u001B[39;00m \u001B[38;5;28;01mTrue\u001B[39;00m:\n\u001B[0;32m--> 307\u001B[0m     version, status, reason \u001B[38;5;241m=\u001B[39m \u001B[38;5;28;43mself\u001B[39;49m\u001B[38;5;241;43m.\u001B[39;49m\u001B[43m_read_status\u001B[49m\u001B[43m(\u001B[49m\u001B[43m)\u001B[49m\n\u001B[1;32m    308\u001B[0m     \u001B[38;5;28;01mif\u001B[39;00m status \u001B[38;5;241m!=\u001B[39m CONTINUE:\n\u001B[1;32m    309\u001B[0m         \u001B[38;5;28;01mbreak\u001B[39;00m\n",
      "File \u001B[0;32m/Library/Developer/CommandLineTools/Library/Frameworks/Python3.framework/Versions/3.8/lib/python3.8/http/client.py:268\u001B[0m, in \u001B[0;36mHTTPResponse._read_status\u001B[0;34m(self)\u001B[0m\n\u001B[1;32m    267\u001B[0m \u001B[38;5;28;01mdef\u001B[39;00m \u001B[38;5;21m_read_status\u001B[39m(\u001B[38;5;28mself\u001B[39m):\n\u001B[0;32m--> 268\u001B[0m     line \u001B[38;5;241m=\u001B[39m \u001B[38;5;28mstr\u001B[39m(\u001B[38;5;28;43mself\u001B[39;49m\u001B[38;5;241;43m.\u001B[39;49m\u001B[43mfp\u001B[49m\u001B[38;5;241;43m.\u001B[39;49m\u001B[43mreadline\u001B[49m\u001B[43m(\u001B[49m\u001B[43m_MAXLINE\u001B[49m\u001B[43m \u001B[49m\u001B[38;5;241;43m+\u001B[39;49m\u001B[43m \u001B[49m\u001B[38;5;241;43m1\u001B[39;49m\u001B[43m)\u001B[49m, \u001B[38;5;124m\"\u001B[39m\u001B[38;5;124miso-8859-1\u001B[39m\u001B[38;5;124m\"\u001B[39m)\n\u001B[1;32m    269\u001B[0m     \u001B[38;5;28;01mif\u001B[39;00m \u001B[38;5;28mlen\u001B[39m(line) \u001B[38;5;241m>\u001B[39m _MAXLINE:\n\u001B[1;32m    270\u001B[0m         \u001B[38;5;28;01mraise\u001B[39;00m LineTooLong(\u001B[38;5;124m\"\u001B[39m\u001B[38;5;124mstatus line\u001B[39m\u001B[38;5;124m\"\u001B[39m)\n",
      "File \u001B[0;32m/Library/Developer/CommandLineTools/Library/Frameworks/Python3.framework/Versions/3.8/lib/python3.8/socket.py:669\u001B[0m, in \u001B[0;36mSocketIO.readinto\u001B[0;34m(self, b)\u001B[0m\n\u001B[1;32m    667\u001B[0m \u001B[38;5;28;01mwhile\u001B[39;00m \u001B[38;5;28;01mTrue\u001B[39;00m:\n\u001B[1;32m    668\u001B[0m     \u001B[38;5;28;01mtry\u001B[39;00m:\n\u001B[0;32m--> 669\u001B[0m         \u001B[38;5;28;01mreturn\u001B[39;00m \u001B[38;5;28;43mself\u001B[39;49m\u001B[38;5;241;43m.\u001B[39;49m\u001B[43m_sock\u001B[49m\u001B[38;5;241;43m.\u001B[39;49m\u001B[43mrecv_into\u001B[49m\u001B[43m(\u001B[49m\u001B[43mb\u001B[49m\u001B[43m)\u001B[49m\n\u001B[1;32m    670\u001B[0m     \u001B[38;5;28;01mexcept\u001B[39;00m timeout:\n\u001B[1;32m    671\u001B[0m         \u001B[38;5;28mself\u001B[39m\u001B[38;5;241m.\u001B[39m_timeout_occurred \u001B[38;5;241m=\u001B[39m \u001B[38;5;28;01mTrue\u001B[39;00m\n",
      "\u001B[0;31mKeyboardInterrupt\u001B[0m: "
     ]
    }
   ],
   "source": [
    "import requests\n",
    "import json\n",
    "import time\n",
    "import math\n",
    "from datetime import datetime, timedelta\n",
    "\n",
    "from tqdm import tqdm\n",
    "\n",
    "\"\"\"Функция, которая записывает в vacancies полученные данные по запросу к API \"Работа России\"\"\"\n",
    "\n",
    "def getDay(modifiedFrom: datetime):\n",
    "\n",
    "    modifiedTo = modifiedFrom + timedelta(minutes=10)\n",
    "    params = {\n",
    "        'modifiedFrom': f\"{modifiedFrom.strftime('%Y-%m-%d')}T{modifiedFrom.hour}:{modifiedFrom.minute}:00Z\",\n",
    "        'modifiedTo': f\"{modifiedTo.strftime('%Y-%m-%d')}T{modifiedTo.hour}:{modifiedTo.minute}:00Z\",\n",
    "        'limit': 100,\n",
    "        'offset': 0\n",
    "    }\n",
    "\n",
    "    req = requests.get('http://opendata.trudvsem.ru/api/v1/vacancies', params)\n",
    "    data = json.loads(req.content.decode())\n",
    "    req.close()\n",
    "    if data['results']:\n",
    "        vacancies = data['results']['vacancies']\n",
    "    else:\n",
    "        vacancies = []\n",
    "    total = int(data['meta']['total'])\n",
    "    if total > 10000:\n",
    "        raise Exception('total more than 10000')\n",
    "    for _ in tqdm(range(math.ceil(total // 100))):\n",
    "        time.sleep(0.1)\n",
    "        params['offset'] += 1\n",
    "        req = requests.get('http://opendata.trudvsem.ru/api/v1/vacancies', params)\n",
    "        data = json.loads(req.content.decode())\n",
    "        req.close()\n",
    "        if data['results']:\n",
    "            vacancies += data['results']['vacancies']\n",
    "    return vacancies\n",
    "\n",
    "# cобираем данные с 10 марта 2022 года (по дате раньше API не выдает данные), \n",
    "# итерируясь по 1 часу из-за ограничения на количество данных по 10000 записей за запрос\n",
    "\n",
    "start_time = datetime(year=2022, month=8, day=21, hour=4)\n",
    "end_time = datetime(year=2022, month=8, day=24)\n",
    "vacancies = []\n",
    "\n",
    "while start_time < end_time:\n",
    "    try:\n",
    "        vacancies += getDay(start_time)\n",
    "    except Exception as e:\n",
    "        print(e)\n",
    "        with open('backup.json', 'w') as file:\n",
    "            json.dump(vacancies, file)\n",
    "            break\n",
    "    start_time += timedelta(minutes=10)\n",
    "    print(start_time)"
   ]
  },
  {
   "cell_type": "markdown",
   "source": [],
   "metadata": {
    "collapsed": false,
    "pycharm": {
     "name": "#%% md\n"
    }
   }
  },
  {
   "cell_type": "code",
   "execution_count": 3,
   "metadata": {
    "pycharm": {
     "name": "#%%\n"
    }
   },
   "outputs": [
    {
     "ename": "KeyboardInterrupt",
     "evalue": "",
     "output_type": "error",
     "traceback": [
      "\u001B[0;31m---------------------------------------------------------------------------\u001B[0m",
      "\u001B[0;31mKeyboardInterrupt\u001B[0m                         Traceback (most recent call last)",
      "Input \u001B[0;32mIn [3]\u001B[0m, in \u001B[0;36m<cell line: 2>\u001B[0;34m()\u001B[0m\n\u001B[1;32m      1\u001B[0m \u001B[38;5;124;03m\"\"\"Сохраняем данные в json-файл\"\"\"\u001B[39;00m\n\u001B[1;32m      2\u001B[0m \u001B[38;5;28;01mwith\u001B[39;00m \u001B[38;5;28mopen\u001B[39m(\u001B[38;5;124m'\u001B[39m\u001B[38;5;124mfull_data08.json\u001B[39m\u001B[38;5;124m'\u001B[39m, \u001B[38;5;124m'\u001B[39m\u001B[38;5;124mw\u001B[39m\u001B[38;5;124m'\u001B[39m) \u001B[38;5;28;01mas\u001B[39;00m file:\n\u001B[0;32m----> 3\u001B[0m     \u001B[43mjson\u001B[49m\u001B[38;5;241;43m.\u001B[39;49m\u001B[43mdump\u001B[49m\u001B[43m(\u001B[49m\u001B[43mvacancies\u001B[49m\u001B[43m,\u001B[49m\u001B[43m \u001B[49m\u001B[43mfile\u001B[49m\u001B[43m)\u001B[49m\n",
      "File \u001B[0;32m/Library/Developer/CommandLineTools/Library/Frameworks/Python3.framework/Versions/3.8/lib/python3.8/json/__init__.py:179\u001B[0m, in \u001B[0;36mdump\u001B[0;34m(obj, fp, skipkeys, ensure_ascii, check_circular, allow_nan, cls, indent, separators, default, sort_keys, **kw)\u001B[0m\n\u001B[1;32m    173\u001B[0m     iterable \u001B[38;5;241m=\u001B[39m \u001B[38;5;28mcls\u001B[39m(skipkeys\u001B[38;5;241m=\u001B[39mskipkeys, ensure_ascii\u001B[38;5;241m=\u001B[39mensure_ascii,\n\u001B[1;32m    174\u001B[0m         check_circular\u001B[38;5;241m=\u001B[39mcheck_circular, allow_nan\u001B[38;5;241m=\u001B[39mallow_nan, indent\u001B[38;5;241m=\u001B[39mindent,\n\u001B[1;32m    175\u001B[0m         separators\u001B[38;5;241m=\u001B[39mseparators,\n\u001B[1;32m    176\u001B[0m         default\u001B[38;5;241m=\u001B[39mdefault, sort_keys\u001B[38;5;241m=\u001B[39msort_keys, \u001B[38;5;241m*\u001B[39m\u001B[38;5;241m*\u001B[39mkw)\u001B[38;5;241m.\u001B[39miterencode(obj)\n\u001B[1;32m    177\u001B[0m \u001B[38;5;66;03m# could accelerate with writelines in some versions of Python, at\u001B[39;00m\n\u001B[1;32m    178\u001B[0m \u001B[38;5;66;03m# a debuggability cost\u001B[39;00m\n\u001B[0;32m--> 179\u001B[0m \u001B[38;5;28;01mfor\u001B[39;00m chunk \u001B[38;5;129;01min\u001B[39;00m iterable:\n\u001B[1;32m    180\u001B[0m     fp\u001B[38;5;241m.\u001B[39mwrite(chunk)\n",
      "File \u001B[0;32m/Library/Developer/CommandLineTools/Library/Frameworks/Python3.framework/Versions/3.8/lib/python3.8/json/encoder.py:429\u001B[0m, in \u001B[0;36m_make_iterencode.<locals>._iterencode\u001B[0;34m(o, _current_indent_level)\u001B[0m\n\u001B[1;32m    427\u001B[0m     \u001B[38;5;28;01myield\u001B[39;00m _floatstr(o)\n\u001B[1;32m    428\u001B[0m \u001B[38;5;28;01melif\u001B[39;00m \u001B[38;5;28misinstance\u001B[39m(o, (\u001B[38;5;28mlist\u001B[39m, \u001B[38;5;28mtuple\u001B[39m)):\n\u001B[0;32m--> 429\u001B[0m     \u001B[38;5;28;01myield from\u001B[39;00m _iterencode_list(o, _current_indent_level)\n\u001B[1;32m    430\u001B[0m \u001B[38;5;28;01melif\u001B[39;00m \u001B[38;5;28misinstance\u001B[39m(o, \u001B[38;5;28mdict\u001B[39m):\n\u001B[1;32m    431\u001B[0m     \u001B[38;5;28;01myield from\u001B[39;00m _iterencode_dict(o, _current_indent_level)\n",
      "File \u001B[0;32m/Library/Developer/CommandLineTools/Library/Frameworks/Python3.framework/Versions/3.8/lib/python3.8/json/encoder.py:325\u001B[0m, in \u001B[0;36m_make_iterencode.<locals>._iterencode_list\u001B[0;34m(lst, _current_indent_level)\u001B[0m\n\u001B[1;32m    323\u001B[0m         \u001B[38;5;28;01melse\u001B[39;00m:\n\u001B[1;32m    324\u001B[0m             chunks \u001B[38;5;241m=\u001B[39m _iterencode(value, _current_indent_level)\n\u001B[0;32m--> 325\u001B[0m         \u001B[38;5;28;01myield from\u001B[39;00m chunks\n\u001B[1;32m    326\u001B[0m \u001B[38;5;28;01mif\u001B[39;00m newline_indent \u001B[38;5;129;01mis\u001B[39;00m \u001B[38;5;129;01mnot\u001B[39;00m \u001B[38;5;28;01mNone\u001B[39;00m:\n\u001B[1;32m    327\u001B[0m     _current_indent_level \u001B[38;5;241m-\u001B[39m\u001B[38;5;241m=\u001B[39m \u001B[38;5;241m1\u001B[39m\n",
      "File \u001B[0;32m/Library/Developer/CommandLineTools/Library/Frameworks/Python3.framework/Versions/3.8/lib/python3.8/json/encoder.py:405\u001B[0m, in \u001B[0;36m_make_iterencode.<locals>._iterencode_dict\u001B[0;34m(dct, _current_indent_level)\u001B[0m\n\u001B[1;32m    403\u001B[0m         \u001B[38;5;28;01melse\u001B[39;00m:\n\u001B[1;32m    404\u001B[0m             chunks \u001B[38;5;241m=\u001B[39m _iterencode(value, _current_indent_level)\n\u001B[0;32m--> 405\u001B[0m         \u001B[38;5;28;01myield from\u001B[39;00m chunks\n\u001B[1;32m    406\u001B[0m \u001B[38;5;28;01mif\u001B[39;00m newline_indent \u001B[38;5;129;01mis\u001B[39;00m \u001B[38;5;129;01mnot\u001B[39;00m \u001B[38;5;28;01mNone\u001B[39;00m:\n\u001B[1;32m    407\u001B[0m     _current_indent_level \u001B[38;5;241m-\u001B[39m\u001B[38;5;241m=\u001B[39m \u001B[38;5;241m1\u001B[39m\n",
      "File \u001B[0;32m/Library/Developer/CommandLineTools/Library/Frameworks/Python3.framework/Versions/3.8/lib/python3.8/json/encoder.py:405\u001B[0m, in \u001B[0;36m_make_iterencode.<locals>._iterencode_dict\u001B[0;34m(dct, _current_indent_level)\u001B[0m\n\u001B[1;32m    403\u001B[0m         \u001B[38;5;28;01melse\u001B[39;00m:\n\u001B[1;32m    404\u001B[0m             chunks \u001B[38;5;241m=\u001B[39m _iterencode(value, _current_indent_level)\n\u001B[0;32m--> 405\u001B[0m         \u001B[38;5;28;01myield from\u001B[39;00m chunks\n\u001B[1;32m    406\u001B[0m \u001B[38;5;28;01mif\u001B[39;00m newline_indent \u001B[38;5;129;01mis\u001B[39;00m \u001B[38;5;129;01mnot\u001B[39;00m \u001B[38;5;28;01mNone\u001B[39;00m:\n\u001B[1;32m    407\u001B[0m     _current_indent_level \u001B[38;5;241m-\u001B[39m\u001B[38;5;241m=\u001B[39m \u001B[38;5;241m1\u001B[39m\n",
      "File \u001B[0;32m/Library/Developer/CommandLineTools/Library/Frameworks/Python3.framework/Versions/3.8/lib/python3.8/json/encoder.py:356\u001B[0m, in \u001B[0;36m_make_iterencode.<locals>._iterencode_dict\u001B[0;34m(dct, _current_indent_level)\u001B[0m\n\u001B[1;32m    354\u001B[0m \u001B[38;5;28;01melse\u001B[39;00m:\n\u001B[1;32m    355\u001B[0m     items \u001B[38;5;241m=\u001B[39m dct\u001B[38;5;241m.\u001B[39mitems()\n\u001B[0;32m--> 356\u001B[0m \u001B[38;5;28;01mfor\u001B[39;00m key, value \u001B[38;5;129;01min\u001B[39;00m items:\n\u001B[1;32m    357\u001B[0m     \u001B[38;5;28;01mif\u001B[39;00m \u001B[38;5;28misinstance\u001B[39m(key, \u001B[38;5;28mstr\u001B[39m):\n\u001B[1;32m    358\u001B[0m         \u001B[38;5;28;01mpass\u001B[39;00m\n",
      "\u001B[0;31mKeyboardInterrupt\u001B[0m: "
     ]
    }
   ],
   "source": [
    "\"\"\"Сохраняем данные в json-файл\"\"\"\n",
    "with open('full_data08.json', 'w') as file:\n",
    "    json.dump(vacancies, file)"
   ]
  },
  {
   "cell_type": "code",
   "execution_count": null,
   "metadata": {
    "pycharm": {
     "name": "#%%\n"
    }
   },
   "outputs": [],
   "source": [
    "\"\"\"Преобразуем json-файл в датафрейм\"\"\"\n",
    "import pandas as pd\n",
    "import json\n",
    "\n",
    "with open('full_data08.json', 'r') as file:\n",
    "    df = pd.json_normalize(json.load(file))"
   ]
  },
  {
   "cell_type": "code",
   "execution_count": 3,
   "metadata": {
    "pycharm": {
     "name": "#%%\n"
    }
   },
   "outputs": [
    {
     "data": {
      "text/plain": [
       "Производство                                                        112474\n",
       "Здравоохранение и социальное обеспечение                             61924\n",
       "Образование, наука                                                   48972\n",
       "Продажи, закупки, снабжение, торговля                                34398\n",
       "Транспорт, автобизнес, логистика, склад, ВЭД                         24753\n",
       "ЖКХ, эксплуатация                                                    20474\n",
       "Строительство, ремонт, стройматериалы, недвижимость                  19229\n",
       "Пищевая промышленность                                               18325\n",
       "Сельское хозяйство, экология, ветеринария                            15853\n",
       "Консалтинг, стратегическое развитие, управление                      15020\n",
       "Работы, не требующие квалификации                                    11599\n",
       "Рабочие специальности                                                 9846\n",
       "Добывающая промышленность                                             8708\n",
       "Информационные технологии, телекоммуникации, связь                    8624\n",
       "Электроэнергетика                                                     8442\n",
       "Государственная служба, некоммерческие организации                    7450\n",
       "Искусство, культура и развлечения                                     7440\n",
       "Металлургия, металлообработка                                         7001\n",
       "Юриспруденция                                                         6891\n",
       "Банки, кредит, страхование, пенсионное обеспечение                    6822\n",
       "Лесная, деревообрабатывающая, целлюлозно-бумажная промышленность      6325\n",
       "Машиностроение                                                        5969\n",
       "Туризм, гостиницы, рестораны                                          5600\n",
       "Безопасность, службы охраны                                           4928\n",
       "Административная работа, секретариат, АХО                             4448\n",
       "Бухгалтерия, налоги, управленческий учет                              4206\n",
       "Химическая, нефтехимическая, топливная промышленность                 3701\n",
       "Услуги населению, сервисное обслуживание                              3619\n",
       "Маркетинг, реклама, PR                                                3361\n",
       "Легкая промышленность                                                 2295\n",
       "Спорт, фитнес, салоны красоты                                         1374\n",
       "Кадровая служба, управление персоналом                                 937\n",
       "Высший менеджмент                                                      573\n",
       "Домашний персонал                                                      132\n",
       "Плотники                                                                11\n",
       "Лес и лесозаготовительные работы                                         5\n",
       "Деревообрабатывающее производство                                        3\n",
       "Name: vacancy.category.specialisation, dtype: int64"
      ]
     },
     "execution_count": 3,
     "metadata": {},
     "output_type": "execute_result"
    }
   ],
   "source": [
    "df[\"vacancy.category.specialisation\"].value_counts()"
   ]
  },
  {
   "cell_type": "code",
   "execution_count": 2,
   "metadata": {
    "pycharm": {
     "name": "#%%\n"
    }
   },
   "outputs": [
    {
     "data": {
      "text/html": [
       "<div>\n",
       "<style scoped>\n",
       "    .dataframe tbody tr th:only-of-type {\n",
       "        vertical-align: middle;\n",
       "    }\n",
       "\n",
       "    .dataframe tbody tr th {\n",
       "        vertical-align: top;\n",
       "    }\n",
       "\n",
       "    .dataframe thead th {\n",
       "        text-align: right;\n",
       "    }\n",
       "</style>\n",
       "<table border=\"1\" class=\"dataframe\">\n",
       "  <thead>\n",
       "    <tr style=\"text-align: right;\">\n",
       "      <th></th>\n",
       "      <th>vacancy.id</th>\n",
       "      <th>vacancy.source</th>\n",
       "      <th>vacancy.region.region_code</th>\n",
       "      <th>vacancy.region.name</th>\n",
       "      <th>vacancy.company.ogrn</th>\n",
       "      <th>vacancy.company.site</th>\n",
       "      <th>vacancy.company.companycode</th>\n",
       "      <th>vacancy.company.hr-agency</th>\n",
       "      <th>vacancy.company.inn</th>\n",
       "      <th>vacancy.company.name</th>\n",
       "      <th>...</th>\n",
       "      <th>vacancy.term.text</th>\n",
       "      <th>vacancy.currency</th>\n",
       "      <th>vacancy.salary_max</th>\n",
       "      <th>vacancy.company.phone</th>\n",
       "      <th>vacancy.company.email</th>\n",
       "      <th>vacancy.company.logo</th>\n",
       "      <th>vacancy.social_protected</th>\n",
       "      <th>vacancy.company.fax</th>\n",
       "      <th>vacancy.company.code_industry_branch</th>\n",
       "      <th>vacancy.category.industry</th>\n",
       "    </tr>\n",
       "  </thead>\n",
       "  <tbody>\n",
       "    <tr>\n",
       "      <th>66</th>\n",
       "      <td>b74fc5b2-59f9-11ec-b40f-bf2cfe8c828d</td>\n",
       "      <td>Служба занятости</td>\n",
       "      <td>5400000000000</td>\n",
       "      <td>Новосибирская область</td>\n",
       "      <td>1025401504039</td>\n",
       "      <td>http://nokkii.ru/</td>\n",
       "      <td>1025401504039</td>\n",
       "      <td>False</td>\n",
       "      <td>5404131424</td>\n",
       "      <td>Государственное автономное профессиональное об...</td>\n",
       "      <td>...</td>\n",
       "      <td>Социальный пакет</td>\n",
       "      <td>«руб.»</td>\n",
       "      <td>30000</td>\n",
       "      <td>+7(383)3464043 доб. 249</td>\n",
       "      <td>ok-nokkii@mail.ru</td>\n",
       "      <td>NaN</td>\n",
       "      <td>NaN</td>\n",
       "      <td>NaN</td>\n",
       "      <td>NaN</td>\n",
       "      <td>NaN</td>\n",
       "    </tr>\n",
       "    <tr>\n",
       "      <th>115</th>\n",
       "      <td>8e6790c2-a16a-11ec-add7-bf2cfe8c828d</td>\n",
       "      <td>Служба занятости</td>\n",
       "      <td>5200000000000</td>\n",
       "      <td>Нижегородская область</td>\n",
       "      <td>1025202210538</td>\n",
       "      <td>NaN</td>\n",
       "      <td>1025202210538</td>\n",
       "      <td>False</td>\n",
       "      <td>5201004100</td>\n",
       "      <td>Отдел по вопросам культуры, спорта и молодежи ...</td>\n",
       "      <td>...</td>\n",
       "      <td>Социальный пакет</td>\n",
       "      <td>«руб.»</td>\n",
       "      <td>13890</td>\n",
       "      <td>+7(83179)53195</td>\n",
       "      <td>kultura.ardatov@yandex.ru</td>\n",
       "      <td>NaN</td>\n",
       "      <td>NaN</td>\n",
       "      <td>NaN</td>\n",
       "      <td>NaN</td>\n",
       "      <td>NaN</td>\n",
       "    </tr>\n",
       "    <tr>\n",
       "      <th>141</th>\n",
       "      <td>6d1bb722-e36f-11eb-9dd6-bf2cfe8c828d</td>\n",
       "      <td>Служба занятости</td>\n",
       "      <td>4200000000000</td>\n",
       "      <td>Кемеровская область</td>\n",
       "      <td>1034205018110</td>\n",
       "      <td>http://lad-dva.ru</td>\n",
       "      <td>1034205018110</td>\n",
       "      <td>False</td>\n",
       "      <td>4206002915</td>\n",
       "      <td>ООО  \"КОМПАНИЯ ЛАД-ДВА\"</td>\n",
       "      <td>...</td>\n",
       "      <td>Социальный пакет- График работы - понедельник-...</td>\n",
       "      <td>«руб.»</td>\n",
       "      <td>0</td>\n",
       "      <td>+7(3842)744444</td>\n",
       "      <td>kassa@lad-dva.ru</td>\n",
       "      <td>NaN</td>\n",
       "      <td>NaN</td>\n",
       "      <td>NaN</td>\n",
       "      <td>NaN</td>\n",
       "      <td>NaN</td>\n",
       "    </tr>\n",
       "    <tr>\n",
       "      <th>191</th>\n",
       "      <td>e11d2ef3-7d4e-11ec-b378-bf2cfe8c828d</td>\n",
       "      <td>Служба занятости</td>\n",
       "      <td>3600000000000</td>\n",
       "      <td>Воронежская область</td>\n",
       "      <td>1023600511448</td>\n",
       "      <td>NaN</td>\n",
       "      <td>1023600511448</td>\n",
       "      <td>False</td>\n",
       "      <td>3662180590</td>\n",
       "      <td>ОВО ПО ПАНИНСКОМУ РАЙОНУ-ФИЛИАЛ ФГКУ \"УВО ВНГ ...</td>\n",
       "      <td>...</td>\n",
       "      <td>Социальный пакетОФОРМЛЕНИЕ ПО ТК,СОЦ.ПАКЕТ</td>\n",
       "      <td>«руб.»</td>\n",
       "      <td>13890</td>\n",
       "      <td>+7(47344)4-71-82</td>\n",
       "      <td>panino_ovo@mail.ru</td>\n",
       "      <td>NaN</td>\n",
       "      <td>NaN</td>\n",
       "      <td>NaN</td>\n",
       "      <td>NaN</td>\n",
       "      <td>NaN</td>\n",
       "    </tr>\n",
       "    <tr>\n",
       "      <th>243</th>\n",
       "      <td>3c72e332-9fd7-11ec-add7-bf2cfe8c828d</td>\n",
       "      <td>Служба занятости</td>\n",
       "      <td>2300000000000</td>\n",
       "      <td>Краснодарский край</td>\n",
       "      <td>1022304246502</td>\n",
       "      <td>NaN</td>\n",
       "      <td>1022304246502</td>\n",
       "      <td>False</td>\n",
       "      <td>2340015390</td>\n",
       "      <td>ГОСУДАРСТВЕННОЕ КАЗЕННОЕ УЧРЕЖДЕНИЕ КРАСНОДАРС...</td>\n",
       "      <td>...</td>\n",
       "      <td>Социальный пакет</td>\n",
       "      <td>«руб.»</td>\n",
       "      <td>25000</td>\n",
       "      <td>+7(86168)54993</td>\n",
       "      <td>cb_kushev@mtsr.krasnodar.ru</td>\n",
       "      <td>NaN</td>\n",
       "      <td>NaN</td>\n",
       "      <td>NaN</td>\n",
       "      <td>NaN</td>\n",
       "      <td>NaN</td>\n",
       "    </tr>\n",
       "    <tr>\n",
       "      <th>...</th>\n",
       "      <td>...</td>\n",
       "      <td>...</td>\n",
       "      <td>...</td>\n",
       "      <td>...</td>\n",
       "      <td>...</td>\n",
       "      <td>...</td>\n",
       "      <td>...</td>\n",
       "      <td>...</td>\n",
       "      <td>...</td>\n",
       "      <td>...</td>\n",
       "      <td>...</td>\n",
       "      <td>...</td>\n",
       "      <td>...</td>\n",
       "      <td>...</td>\n",
       "      <td>...</td>\n",
       "      <td>...</td>\n",
       "      <td>...</td>\n",
       "      <td>...</td>\n",
       "      <td>...</td>\n",
       "      <td>...</td>\n",
       "      <td>...</td>\n",
       "    </tr>\n",
       "    <tr>\n",
       "      <th>359290</th>\n",
       "      <td>12fe3323-b2fa-11ec-9aad-bf2cfe8c828d</td>\n",
       "      <td>Служба занятости</td>\n",
       "      <td>1800000000000</td>\n",
       "      <td>Удмуртская Республика</td>\n",
       "      <td>1021801509828</td>\n",
       "      <td>NaN</td>\n",
       "      <td>1021801509828</td>\n",
       "      <td>False</td>\n",
       "      <td>1833000800</td>\n",
       "      <td>КПОУ УР \"Удмуртский республиканский колледж ку...</td>\n",
       "      <td>...</td>\n",
       "      <td>Социальный пакет</td>\n",
       "      <td>«руб.»</td>\n",
       "      <td>15974</td>\n",
       "      <td>+7(3412)444491</td>\n",
       "      <td>urkkult@mail.ru</td>\n",
       "      <td>NaN</td>\n",
       "      <td>NaN</td>\n",
       "      <td>+7(3412)444491</td>\n",
       "      <td>NaN</td>\n",
       "      <td>NaN</td>\n",
       "    </tr>\n",
       "    <tr>\n",
       "      <th>359309</th>\n",
       "      <td>eab00b13-0042-11ec-9dd6-bf2cfe8c828d</td>\n",
       "      <td>Служба занятости</td>\n",
       "      <td>5200000000000</td>\n",
       "      <td>Нижегородская область</td>\n",
       "      <td>1025203047385</td>\n",
       "      <td>NaN</td>\n",
       "      <td>1025203047385</td>\n",
       "      <td>False</td>\n",
       "      <td>5260070545</td>\n",
       "      <td>Муниципальное бюджетное учреждение культуры \"Н...</td>\n",
       "      <td>...</td>\n",
       "      <td>Социальный пакетРазделенный на части рабочий день</td>\n",
       "      <td>«руб.»</td>\n",
       "      <td>33800</td>\n",
       "      <td>+7(831)4308173</td>\n",
       "      <td>komedi@mail.ru</td>\n",
       "      <td>NaN</td>\n",
       "      <td>NaN</td>\n",
       "      <td>+7(831)4331476</td>\n",
       "      <td>NaN</td>\n",
       "      <td>NaN</td>\n",
       "    </tr>\n",
       "    <tr>\n",
       "      <th>359310</th>\n",
       "      <td>8351b2d3-0c71-11ec-9dd6-bf2cfe8c828d</td>\n",
       "      <td>Служба занятости</td>\n",
       "      <td>5200000000000</td>\n",
       "      <td>Нижегородская область</td>\n",
       "      <td>1025203047385</td>\n",
       "      <td>NaN</td>\n",
       "      <td>1025203047385</td>\n",
       "      <td>False</td>\n",
       "      <td>5260070545</td>\n",
       "      <td>Муниципальное бюджетное учреждение культуры \"Н...</td>\n",
       "      <td>...</td>\n",
       "      <td>Социальный пакет</td>\n",
       "      <td>«руб.»</td>\n",
       "      <td>16949</td>\n",
       "      <td>+7(831)4308173</td>\n",
       "      <td>komedi@mail.ru</td>\n",
       "      <td>NaN</td>\n",
       "      <td>NaN</td>\n",
       "      <td>+7(831)4331476</td>\n",
       "      <td>NaN</td>\n",
       "      <td>NaN</td>\n",
       "    </tr>\n",
       "    <tr>\n",
       "      <th>359323</th>\n",
       "      <td>8729ed62-9664-11eb-9dd6-bf2cfe8c828d</td>\n",
       "      <td>Служба занятости</td>\n",
       "      <td>5500000000000</td>\n",
       "      <td>Омская область</td>\n",
       "      <td>1115543001056</td>\n",
       "      <td>NaN</td>\n",
       "      <td>1115543001056</td>\n",
       "      <td>False</td>\n",
       "      <td>5519200201</td>\n",
       "      <td>БУ ЛМР \"ЦКИ ЛМР\"</td>\n",
       "      <td>...</td>\n",
       "      <td>Социальный пакет</td>\n",
       "      <td>«руб.»</td>\n",
       "      <td>23000</td>\n",
       "      <td>+721396</td>\n",
       "      <td>lubino-admkult@yandex.ru</td>\n",
       "      <td>NaN</td>\n",
       "      <td>NaN</td>\n",
       "      <td>NaN</td>\n",
       "      <td>NaN</td>\n",
       "      <td>NaN</td>\n",
       "    </tr>\n",
       "    <tr>\n",
       "      <th>359324</th>\n",
       "      <td>193534b2-ad23-11eb-9dd6-bf2cfe8c828d</td>\n",
       "      <td>Служба занятости</td>\n",
       "      <td>5500000000000</td>\n",
       "      <td>Омская область</td>\n",
       "      <td>1115543001056</td>\n",
       "      <td>NaN</td>\n",
       "      <td>1115543001056</td>\n",
       "      <td>False</td>\n",
       "      <td>5519200201</td>\n",
       "      <td>БУ ЛМР \"ЦКИ ЛМР\"</td>\n",
       "      <td>...</td>\n",
       "      <td>Социальный пакет</td>\n",
       "      <td>«руб.»</td>\n",
       "      <td>20000</td>\n",
       "      <td>+721396</td>\n",
       "      <td>lubino-admkult@yandex.ru</td>\n",
       "      <td>NaN</td>\n",
       "      <td>NaN</td>\n",
       "      <td>NaN</td>\n",
       "      <td>NaN</td>\n",
       "      <td>NaN</td>\n",
       "    </tr>\n",
       "  </tbody>\n",
       "</table>\n",
       "<p>28442 rows × 35 columns</p>\n",
       "</div>"
      ],
      "text/plain": [
       "                                  vacancy.id    vacancy.source  \\\n",
       "66      b74fc5b2-59f9-11ec-b40f-bf2cfe8c828d  Служба занятости   \n",
       "115     8e6790c2-a16a-11ec-add7-bf2cfe8c828d  Служба занятости   \n",
       "141     6d1bb722-e36f-11eb-9dd6-bf2cfe8c828d  Служба занятости   \n",
       "191     e11d2ef3-7d4e-11ec-b378-bf2cfe8c828d  Служба занятости   \n",
       "243     3c72e332-9fd7-11ec-add7-bf2cfe8c828d  Служба занятости   \n",
       "...                                      ...               ...   \n",
       "359290  12fe3323-b2fa-11ec-9aad-bf2cfe8c828d  Служба занятости   \n",
       "359309  eab00b13-0042-11ec-9dd6-bf2cfe8c828d  Служба занятости   \n",
       "359310  8351b2d3-0c71-11ec-9dd6-bf2cfe8c828d  Служба занятости   \n",
       "359323  8729ed62-9664-11eb-9dd6-bf2cfe8c828d  Служба занятости   \n",
       "359324  193534b2-ad23-11eb-9dd6-bf2cfe8c828d  Служба занятости   \n",
       "\n",
       "       vacancy.region.region_code    vacancy.region.name vacancy.company.ogrn  \\\n",
       "66                  5400000000000  Новосибирская область        1025401504039   \n",
       "115                 5200000000000  Нижегородская область        1025202210538   \n",
       "141                 4200000000000    Кемеровская область        1034205018110   \n",
       "191                 3600000000000    Воронежская область        1023600511448   \n",
       "243                 2300000000000     Краснодарский край        1022304246502   \n",
       "...                           ...                    ...                  ...   \n",
       "359290              1800000000000  Удмуртская Республика        1021801509828   \n",
       "359309              5200000000000  Нижегородская область        1025203047385   \n",
       "359310              5200000000000  Нижегородская область        1025203047385   \n",
       "359323              5500000000000         Омская область        1115543001056   \n",
       "359324              5500000000000         Омская область        1115543001056   \n",
       "\n",
       "       vacancy.company.site vacancy.company.companycode  \\\n",
       "66        http://nokkii.ru/               1025401504039   \n",
       "115                     NaN               1025202210538   \n",
       "141       http://lad-dva.ru               1034205018110   \n",
       "191                     NaN               1023600511448   \n",
       "243                     NaN               1022304246502   \n",
       "...                     ...                         ...   \n",
       "359290                  NaN               1021801509828   \n",
       "359309                  NaN               1025203047385   \n",
       "359310                  NaN               1025203047385   \n",
       "359323                  NaN               1115543001056   \n",
       "359324                  NaN               1115543001056   \n",
       "\n",
       "       vacancy.company.hr-agency vacancy.company.inn  \\\n",
       "66                         False          5404131424   \n",
       "115                        False          5201004100   \n",
       "141                        False          4206002915   \n",
       "191                        False          3662180590   \n",
       "243                        False          2340015390   \n",
       "...                          ...                 ...   \n",
       "359290                     False          1833000800   \n",
       "359309                     False          5260070545   \n",
       "359310                     False          5260070545   \n",
       "359323                     False          5519200201   \n",
       "359324                     False          5519200201   \n",
       "\n",
       "                                     vacancy.company.name  ...  \\\n",
       "66      Государственное автономное профессиональное об...  ...   \n",
       "115     Отдел по вопросам культуры, спорта и молодежи ...  ...   \n",
       "141                               ООО  \"КОМПАНИЯ ЛАД-ДВА\"  ...   \n",
       "191     ОВО ПО ПАНИНСКОМУ РАЙОНУ-ФИЛИАЛ ФГКУ \"УВО ВНГ ...  ...   \n",
       "243     ГОСУДАРСТВЕННОЕ КАЗЕННОЕ УЧРЕЖДЕНИЕ КРАСНОДАРС...  ...   \n",
       "...                                                   ...  ...   \n",
       "359290  КПОУ УР \"Удмуртский республиканский колледж ку...  ...   \n",
       "359309  Муниципальное бюджетное учреждение культуры \"Н...  ...   \n",
       "359310  Муниципальное бюджетное учреждение культуры \"Н...  ...   \n",
       "359323                                   БУ ЛМР \"ЦКИ ЛМР\"  ...   \n",
       "359324                                   БУ ЛМР \"ЦКИ ЛМР\"  ...   \n",
       "\n",
       "                                        vacancy.term.text vacancy.currency  \\\n",
       "66                                       Социальный пакет           «руб.»   \n",
       "115                                      Социальный пакет           «руб.»   \n",
       "141     Социальный пакет- График работы - понедельник-...           «руб.»   \n",
       "191            Социальный пакетОФОРМЛЕНИЕ ПО ТК,СОЦ.ПАКЕТ           «руб.»   \n",
       "243                                      Социальный пакет           «руб.»   \n",
       "...                                                   ...              ...   \n",
       "359290                                   Социальный пакет           «руб.»   \n",
       "359309  Социальный пакетРазделенный на части рабочий день           «руб.»   \n",
       "359310                                   Социальный пакет           «руб.»   \n",
       "359323                                   Социальный пакет           «руб.»   \n",
       "359324                                   Социальный пакет           «руб.»   \n",
       "\n",
       "       vacancy.salary_max    vacancy.company.phone  \\\n",
       "66                  30000  +7(383)3464043 доб. 249   \n",
       "115                 13890           +7(83179)53195   \n",
       "141                     0           +7(3842)744444   \n",
       "191                 13890         +7(47344)4-71-82   \n",
       "243                 25000           +7(86168)54993   \n",
       "...                   ...                      ...   \n",
       "359290              15974           +7(3412)444491   \n",
       "359309              33800           +7(831)4308173   \n",
       "359310              16949           +7(831)4308173   \n",
       "359323              23000                  +721396   \n",
       "359324              20000                  +721396   \n",
       "\n",
       "              vacancy.company.email vacancy.company.logo  \\\n",
       "66                ok-nokkii@mail.ru                  NaN   \n",
       "115       kultura.ardatov@yandex.ru                  NaN   \n",
       "141                kassa@lad-dva.ru                  NaN   \n",
       "191              panino_ovo@mail.ru                  NaN   \n",
       "243     cb_kushev@mtsr.krasnodar.ru                  NaN   \n",
       "...                             ...                  ...   \n",
       "359290              urkkult@mail.ru                  NaN   \n",
       "359309               komedi@mail.ru                  NaN   \n",
       "359310               komedi@mail.ru                  NaN   \n",
       "359323     lubino-admkult@yandex.ru                  NaN   \n",
       "359324     lubino-admkult@yandex.ru                  NaN   \n",
       "\n",
       "       vacancy.social_protected vacancy.company.fax  \\\n",
       "66                          NaN                 NaN   \n",
       "115                         NaN                 NaN   \n",
       "141                         NaN                 NaN   \n",
       "191                         NaN                 NaN   \n",
       "243                         NaN                 NaN   \n",
       "...                         ...                 ...   \n",
       "359290                      NaN      +7(3412)444491   \n",
       "359309                      NaN      +7(831)4331476   \n",
       "359310                      NaN      +7(831)4331476   \n",
       "359323                      NaN                 NaN   \n",
       "359324                      NaN                 NaN   \n",
       "\n",
       "       vacancy.company.code_industry_branch vacancy.category.industry  \n",
       "66                                      NaN                       NaN  \n",
       "115                                     NaN                       NaN  \n",
       "141                                     NaN                       NaN  \n",
       "191                                     NaN                       NaN  \n",
       "243                                     NaN                       NaN  \n",
       "...                                     ...                       ...  \n",
       "359290                                  NaN                       NaN  \n",
       "359309                                  NaN                       NaN  \n",
       "359310                                  NaN                       NaN  \n",
       "359323                                  NaN                       NaN  \n",
       "359324                                  NaN                       NaN  \n",
       "\n",
       "[28442 rows x 35 columns]"
      ]
     },
     "execution_count": 2,
     "metadata": {},
     "output_type": "execute_result"
    }
   ],
   "source": [
    "\"\"\"Выбираем нужные специализации\"\"\"\n",
    "\n",
    "df_filtered = df[(df[\"vacancy.category.specialisation\"] == \"Информационные технологии, телекоммуникации, связь\") \n",
    "| (df[\"vacancy.category.specialisation\"] == \"Искусство, культура и развлечения\") | \n",
    "(df[\"vacancy.category.specialisation\"] == \"Безопасность, службы охраны\") | \n",
    "(df[\"vacancy.category.specialisation\"] == \"Государственная служба, некоммерческие организации\")]\n",
    "df_filtered"
   ]
  },
  {
   "cell_type": "code",
   "execution_count": 186,
   "metadata": {
    "pycharm": {
     "name": "#%%\n"
    }
   },
   "outputs": [
    {
     "data": {
      "text/plain": [
       "Информационные технологии, телекоммуникации, связь    8624\n",
       "Государственная служба, некоммерческие организации    7450\n",
       "Искусство, культура и развлечения                     7440\n",
       "Безопасность, службы охраны                           4928\n",
       "Name: vacancy.category.specialisation, dtype: int64"
      ]
     },
     "execution_count": 186,
     "metadata": {},
     "output_type": "execute_result"
    }
   ],
   "source": [
    "df_filtered[\"vacancy.category.specialisation\"].value_counts()"
   ]
  },
  {
   "cell_type": "code",
   "execution_count": 3,
   "metadata": {
    "pycharm": {
     "name": "#%%\n"
    }
   },
   "outputs": [
    {
     "name": "stderr",
     "output_type": "stream",
     "text": [
      "/Users/bobenkom/opt/anaconda3/envs/editwarsdata/lib/python3.7/site-packages/ipykernel_launcher.py:16: SettingWithCopyWarning: \n",
      "A value is trying to be set on a copy of a slice from a DataFrame.\n",
      "Try using .loc[row_indexer,col_indexer] = value instead\n",
      "\n",
      "See the caveats in the documentation: https://pandas.pydata.org/pandas-docs/stable/user_guide/indexing.html#returning-a-view-versus-a-copy\n",
      "  \n"
     ]
    }
   ],
   "source": [
    "\"\"\"Преобразуем время в формат datetime\"\"\"\n",
    "from datetime import datetime\n",
    "\n",
    "def change_date(x):\n",
    "    try:\n",
    "        date = datetime.strptime(x, \"%Y-%m-%d\")\n",
    "        \n",
    "    except Exception as e: # нам известно о двух ошибках в записи времени\n",
    "         # если не получилось преобразовать в datetime, то исправляем эти две ошибки \n",
    "        if x == \"333322-03-11\":\n",
    "            return datetime.strptime('2022-03-11', \"%Y-%m-%d\")\n",
    "        return datetime.strptime('2022-03-28', \"%Y-%m-%d\")\n",
    "        \n",
    "    return date\n",
    "    \n",
    "df_filtered[\"vacancy.creation-date\"] = df_filtered[\"vacancy.creation-date\"].apply(change_date)"
   ]
  },
  {
   "cell_type": "code",
   "execution_count": 4,
   "metadata": {
    "pycharm": {
     "name": "#%%\n"
    }
   },
   "outputs": [
    {
     "name": "stderr",
     "output_type": "stream",
     "text": [
      "/Users/bobenkom/opt/anaconda3/envs/editwarsdata/lib/python3.7/site-packages/ipykernel_launcher.py:10: SettingWithCopyWarning: \n",
      "A value is trying to be set on a copy of a slice from a DataFrame.\n",
      "Try using .loc[row_indexer,col_indexer] = value instead\n",
      "\n",
      "See the caveats in the documentation: https://pandas.pydata.org/pandas-docs/stable/user_guide/indexing.html#returning-a-view-versus-a-copy\n",
      "  # Remove the CWD from sys.path while we load stuff.\n"
     ]
    }
   ],
   "source": [
    "\"\"\"Валидируем корректность даты\"\"\"\n",
    "\n",
    "def clean_date(x):\n",
    "    if x > datetime.strptime('2022-05-01', \"%Y-%m-%d\"):\n",
    "        return None\n",
    "    elif x < datetime.strptime('2016-01-01', \"%Y-%m-%d\"):\n",
    "        return None\n",
    "    return x\n",
    "\n",
    "df_filtered[\"vacancy.creation-date\"] = df_filtered[\"vacancy.creation-date\"].apply(clean_date)"
   ]
  },
  {
   "cell_type": "code",
   "execution_count": 5,
   "metadata": {
    "pycharm": {
     "name": "#%%\n"
    }
   },
   "outputs": [],
   "source": [
    "first_date = datetime.strptime('2016-01-01', \"%Y-%m-%d\") \n",
    "end_date = datetime.strptime('2022-05-01', \"%Y-%m-%d\")\n",
    "df_result = df_filtered.loc[(df_filtered[\"vacancy.creation-date\"] < end_date) & (df_filtered[\"vacancy.creation-date\"] > first_date)]\n",
    "df_result = df_result.reset_index().drop(columns = ['index'])"
   ]
  },
  {
   "cell_type": "code",
   "execution_count": 6,
   "metadata": {
    "pycharm": {
     "name": "#%%\n"
    }
   },
   "outputs": [
    {
     "data": {
      "image/png": "[encoded data removed]",
      "text/plain": [
       "<Figure size 1440x720 with 1 Axes>"
      ]
     },
     "metadata": {
      "needs_background": "light"
     },
     "output_type": "display_data"
    }
   ],
   "source": [
    "\"\"\"Визуализируем распредение вакансий по времени создания\"\"\"\n",
    "import matplotlib.pyplot as plt\n",
    "import seaborn as sns\n",
    "\n",
    "plt.figure(figsize=(20, 10))\n",
    "sns.histplot(data=df_result, x='vacancy.creation-date', color = 'navy', binwidth = 10, kde = True)\n",
    "plt.show()"
   ]
  },
  {
   "cell_type": "code",
   "execution_count": 7,
   "metadata": {
    "pycharm": {
     "name": "#%%\n"
    }
   },
   "outputs": [],
   "source": [
    "\"\"\"Сохраняем данные в файлы\"\"\"\n",
    "df_result.to_json('result_data.json')\n",
    "df_result.to_csv('result_data.csv')"
   ]
  }
 ],
 "metadata": {
  "interpreter": {
   "hash": "50df23e30a4738b8a8c03f0bcfd9db0a1cf9ef30d429922cc00e6ea41e4c7af5"
  },
  "kernelspec": {
   "display_name": "Python 3.7.13 64-bit ('editwarsdata': conda)",
   "name": "python3"
  },
  "language_info": {
   "codemirror_mode": {
    "name": "ipython",
    "version": 3
   },
   "file_extension": ".py",
   "mimetype": "text/x-python",
   "name": "python",
   "nbconvert_exporter": "python",
   "pygments_lexer": "ipython3",
   "version": "3.7.13"
  },
  "orig_nbformat": 4
 },
 "nbformat": 4,
 "nbformat_minor": 2
}