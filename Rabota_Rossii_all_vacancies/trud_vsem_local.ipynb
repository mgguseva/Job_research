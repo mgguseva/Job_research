{
 "cells": [
  {
   "cell_type": "code",
   "execution_count": null,
   "metadata": {
    "pycharm": {
     "name": "#%%\n"
    }
   },
   "outputs": [],
   "source": [
    "import requests\n",
    "import json\n",
    "import time\n",
    "import os\n",
    "import math\n",
    "from datetime import datetime, timedelta\n",
    "\n",
    "from tqdm import tqdm\n",
    "\n",
    "\"\"\"Функция, которая записывает в vacancies полученные данные по запросу к API \"Работа России\"\"\"\"\n",
    "\n",
    "def getDay(modifiedFrom: datetime):\n",
    "\n",
    "    modifiedTo = modifiedFrom + timedelta(hours=1)\n",
    "    params = {\n",
    "        'modifiedFrom': f\"{modifiedFrom.strftime('%Y-%m-%d')}T{modifiedFrom.hour}:00:00Z\",\n",
    "        'modifiedTo': f\"{modifiedTo.strftime('%Y-%m-%d')}T{modifiedTo.hour}:00:00Z\",\n",
    "        'limit': 100,\n",
    "        'offset': 0\n",
    "    }\n",
    "\n",
    "    req = requests.get('http://opendata.trudvsem.ru/api/v1/vacancies', params)\n",
    "    data = json.loads(req.content.decode())\n",
    "    req.close()\n",
    "    if data['results']:\n",
    "        vacancies = data['results']['vacancies']\n",
    "    else:\n",
    "        vacancies = []\n",
    "    total = int(data['meta']['total'])\n",
    "    if total > 10000:\n",
    "        raise Exception('total more than 10000')\n",
    "    for _ in tqdm(range(math.ceil(total // 100))):\n",
    "        time.sleep(0.1)\n",
    "        params['offset'] += 1\n",
    "        req = requests.get('http://opendata.trudvsem.ru/api/v1/vacancies', params)\n",
    "        data = json.loads(req.content.decode())\n",
    "        req.close()\n",
    "        if data['results']:\n",
    "            vacancies += data['results']['vacancies']\n",
    "    return vacancies\n",
    "\n",
    "# cобираем данные с 10 марта 2022 года (по дате раньше API не выдает данные), \n",
    "# итерируясь по 1 часу из-за ограничения на количество данных по 10000 записей за запрос\n",
    "\n",
    "start_time = datetime(year=2022, month=03, day=10)\n",
    "end_time = datetime(year=2022, month=5, day=1)\n",
    "\n",
    "vacancies = []\n",
    "\n",
    "while start_time < end_time:\n",
    "    try:\n",
    "        vacancies += getDay(start_time)\n",
    "    except Exception as e:\n",
    "        print(e)\n",
    "        with open('backup.json', 'w') as file:\n",
    "            json.dump(vacancies, file)\n",
    "            break\n",
    "    start_time += timedelta(hours=1)\n",
    "    print(start_time)"
   ]
  },
  {
   "cell_type": "code",
   "execution_count": null,
   "metadata": {
    "pycharm": {
     "name": "#%%\n"
    }
   },
   "outputs": [],
   "source": [
    "\"\"\"Сохраняем данные в json-файл\"\"\"\n",
    "with open('full_data.json', 'w') as file:\n",
    "    json.dump(vacancies, file)"
   ]
  },
  {
   "cell_type": "code",
   "execution_count": null,
   "metadata": {
    "pycharm": {
     "name": "#%%\n"
    }
   },
   "outputs": [],
   "source": [
    "\"\"\"Преобразуем json-файл в датафрейм\"\"\"\n",
    "import pandas as pd\n",
    "import json\n",
    "\n",
    "with open('full_data.json', 'r') as file:\n",
    "    df = pd.json_normalize(json.load(file))"
   ]
  },
  {
   "cell_type": "code",
   "execution_count": 27,
   "metadata": {
    "pycharm": {
     "name": "#%%\n"
    }
   },
   "outputs": [],
   "source": [
    "import pandas as pd\n",
    "import json\n",
    "\n",
    "with open('backup.json', 'r') as file1:\n",
    "    df1 = pd.json_normalize(json.load(file1))\n",
    "\n",
    "with open('full_data08.json', 'r') as file2:\n",
    "    df2 = pd.json_normalize(json.load(file2))\n",
    "\n",
    "# with open('third_data.json', 'r') as file3:\n",
    "#     df3 = pd.json_normalize(json.load(file3))\n",
    "\n",
    "df = pd.concat([df1, df2], sort = False, axis = 0)\n",
    "# df = pd.concat([df4, df3], sort = False, axis = 0)"
   ]
  },
  {
   "cell_type": "code",
   "execution_count": 28,
   "outputs": [],
   "source": [
    "df.drop_duplicates(subset=['vacancy.id'],keep='first',inplace=True)"
   ],
   "metadata": {
    "collapsed": false,
    "pycharm": {
     "name": "#%%\n"
    }
   }
  },
  {
   "cell_type": "code",
   "execution_count": 29,
   "outputs": [],
   "source": [
    "df_result = df.reset_index().drop(columns = ['index'],axis = 1)\n",
    "# df_result.to_csv(\"cleaned_data.csv\")"
   ],
   "metadata": {
    "collapsed": false,
    "pycharm": {
     "name": "#%%\n"
    }
   }
  },
  {
   "cell_type": "code",
   "execution_count": null,
   "outputs": [],
   "source": [],
   "metadata": {
    "collapsed": false,
    "pycharm": {
     "name": "#%%\n"
    }
   }
  },
  {
   "cell_type": "code",
   "execution_count": 15,
   "metadata": {
    "pycharm": {
     "name": "#%%\n"
    }
   },
   "outputs": [
    {
     "data": {
      "text/plain": "Производство                                                        58587\nОбразование, наука                                                  19500\nЗдравоохранение и социальное обеспечение                            18887\nПродажи, закупки, снабжение, торговля                               12171\nКонсалтинг, стратегическое развитие, управление                     11237\nПищевая промышленность                                               9944\nТранспорт, автобизнес, логистика, склад, ВЭД                         9472\nСтроительство, ремонт, стройматериалы, недвижимость                  6903\nЮриспруденция                                                        4753\nЖКХ, эксплуатация                                                    4182\nСельское хозяйство, экология, ветеринария                            3900\nБанки, кредит, страхование, пенсионное обеспечение                   2826\nМеталлургия, металлообработка                                        2461\nИскусство, культура и развлечения                                    2444\nЛесная, деревообрабатывающая, целлюлозно-бумажная промышленность     2398\nДобывающая промышленность                                            2228\nРаботы, не требующие квалификации                                    2178\nИнформационные технологии, телекоммуникации, связь                   1790\nМаркетинг, реклама, PR                                               1448\nГосударственная служба, некоммерческие организации                    915\nБезопасность, службы охраны                                           694\nТуризм, гостиницы, рестораны                                          655\nХимическая, нефтехимическая, топливная промышленность                 629\nРабочие специальности                                                 588\nМашиностроение                                                        532\nЭлектроэнергетика                                                     509\nЛегкая промышленность                                                 475\nАдминистративная работа, секретариат, АХО                             273\nБухгалтерия, налоги, управленческий учет                              213\nУслуги населению, сервисное обслуживание                              149\nВысший менеджмент                                                     129\nКадровая служба, управление персоналом                                 92\nСпорт, фитнес, салоны красоты                                          80\nПлотники                                                               14\nДеревообрабатывающее производство                                      10\nДомашний персонал                                                       9\nName: vacancy.category.specialisation, dtype: int64"
     },
     "execution_count": 15,
     "metadata": {},
     "output_type": "execute_result"
    }
   ],
   "source": [
    "df_result[\"vacancy.category.specialisation\"].value_counts()"
   ]
  },
  {
   "cell_type": "code",
   "execution_count": 17,
   "outputs": [],
   "source": [
    "try:\n",
    "    df_result[\"vacancy.creation-date\"].astype('datetime64')\n",
    "except:\n",
    "    None"
   ],
   "metadata": {
    "collapsed": false,
    "pycharm": {
     "name": "#%%\n"
    }
   }
  },
  {
   "cell_type": "code",
   "execution_count": 18,
   "outputs": [
    {
     "name": "stdout",
     "output_type": "stream",
     "text": [
      "<class 'pandas.core.frame.DataFrame'>\n",
      "RangeIndex: 183394 entries, 0 to 183393\n",
      "Data columns (total 35 columns):\n",
      " #   Column                                Non-Null Count   Dtype \n",
      "---  ------                                --------------   ----- \n",
      " 0   vacancy.id                            183394 non-null  object\n",
      " 1   vacancy.source                        183394 non-null  object\n",
      " 2   vacancy.region.region_code            183394 non-null  object\n",
      " 3   vacancy.region.name                   183394 non-null  object\n",
      " 4   vacancy.company.ogrn                  183335 non-null  object\n",
      " 5   vacancy.company.companycode           183394 non-null  object\n",
      " 6   vacancy.company.hr-agency             183394 non-null  bool  \n",
      " 7   vacancy.company.phone                 154072 non-null  object\n",
      " 8   vacancy.company.inn                   182753 non-null  object\n",
      " 9   vacancy.company.name                  183366 non-null  object\n",
      " 10  vacancy.company.kpp                   160339 non-null  object\n",
      " 11  vacancy.company.url                   183394 non-null  object\n",
      " 12  vacancy.creation-date                 183394 non-null  object\n",
      " 13  vacancy.salary                        183394 non-null  object\n",
      " 14  vacancy.salary_min                    183394 non-null  int64 \n",
      " 15  vacancy.salary_max                    183394 non-null  int64 \n",
      " 16  vacancy.job-name                      183394 non-null  object\n",
      " 17  vacancy.vac_url                       183394 non-null  object\n",
      " 18  vacancy.employment                    183393 non-null  object\n",
      " 19  vacancy.schedule                      182888 non-null  object\n",
      " 20  vacancy.duty                          180942 non-null  object\n",
      " 21  vacancy.category.specialisation       183275 non-null  object\n",
      " 22  vacancy.requirement.experience        183394 non-null  object\n",
      " 23  vacancy.addresses.address             183394 non-null  object\n",
      " 24  vacancy.currency                      183394 non-null  object\n",
      " 25  vacancy.company.site                  23756 non-null   object\n",
      " 26  vacancy.company.email                 151873 non-null  object\n",
      " 27  vacancy.requirement.education         173415 non-null  object\n",
      " 28  vacancy.requirement.qualification     168702 non-null  object\n",
      " 29  vacancy.term.text                     171262 non-null  object\n",
      " 30  vacancy.company.logo                  6940 non-null    object\n",
      " 31  vacancy.company.fax                   17714 non-null   object\n",
      " 32  vacancy.social_protected              9799 non-null    object\n",
      " 33  vacancy.company.code_industry_branch  450 non-null     object\n",
      " 34  vacancy.category.industry             450 non-null     object\n",
      "dtypes: bool(1), int64(2), object(32)\n",
      "memory usage: 47.7+ MB\n"
     ]
    }
   ],
   "source": [
    "df_result.info()"
   ],
   "metadata": {
    "collapsed": false,
    "pycharm": {
     "name": "#%%\n"
    }
   }
  },
  {
   "cell_type": "code",
   "execution_count": 50,
   "metadata": {
    "pycharm": {
     "name": "#%%\n"
    }
   },
   "outputs": [
    {
     "data": {
      "text/html": [
       "<div>\n",
       "<style scoped>\n",
       "    .dataframe tbody tr th:only-of-type {\n",
       "        vertical-align: middle;\n",
       "    }\n",
       "\n",
       "    .dataframe tbody tr th {\n",
       "        vertical-align: top;\n",
       "    }\n",
       "\n",
       "    .dataframe thead th {\n",
       "        text-align: right;\n",
       "    }\n",
       "</style>\n",
       "<table border=\"1\" class=\"dataframe\">\n",
       "  <thead>\n",
       "    <tr style=\"text-align: right;\">\n",
       "      <th></th>\n",
       "      <th>vacancy.id</th>\n",
       "      <th>vacancy.source</th>\n",
       "      <th>vacancy.region.region_code</th>\n",
       "      <th>vacancy.region.name</th>\n",
       "      <th>vacancy.company.ogrn</th>\n",
       "      <th>vacancy.company.site</th>\n",
       "      <th>vacancy.company.companycode</th>\n",
       "      <th>vacancy.company.hr-agency</th>\n",
       "      <th>vacancy.company.inn</th>\n",
       "      <th>vacancy.company.name</th>\n",
       "      <th>...</th>\n",
       "      <th>vacancy.term.text</th>\n",
       "      <th>vacancy.currency</th>\n",
       "      <th>vacancy.salary_max</th>\n",
       "      <th>vacancy.company.phone</th>\n",
       "      <th>vacancy.company.email</th>\n",
       "      <th>vacancy.company.logo</th>\n",
       "      <th>vacancy.social_protected</th>\n",
       "      <th>vacancy.company.fax</th>\n",
       "      <th>vacancy.company.code_industry_branch</th>\n",
       "      <th>vacancy.category.industry</th>\n",
       "    </tr>\n",
       "  </thead>\n",
       "  <tbody>\n",
       "    <tr>\n",
       "      <th>66</th>\n",
       "      <td>b74fc5b2-59f9-11ec-b40f-bf2cfe8c828d</td>\n",
       "      <td>Служба занятости</td>\n",
       "      <td>5400000000000</td>\n",
       "      <td>Новосибирская область</td>\n",
       "      <td>1025401504039</td>\n",
       "      <td>http://nokkii.ru/</td>\n",
       "      <td>1025401504039</td>\n",
       "      <td>False</td>\n",
       "      <td>5404131424</td>\n",
       "      <td>Государственное автономное профессиональное об...</td>\n",
       "      <td>...</td>\n",
       "      <td>Социальный пакет</td>\n",
       "      <td>«руб.»</td>\n",
       "      <td>30000</td>\n",
       "      <td>+7(383)3464043 доб. 249</td>\n",
       "      <td>ok-nokkii@mail.ru</td>\n",
       "      <td>NaN</td>\n",
       "      <td>NaN</td>\n",
       "      <td>NaN</td>\n",
       "      <td>NaN</td>\n",
       "      <td>NaN</td>\n",
       "    </tr>\n",
       "    <tr>\n",
       "      <th>115</th>\n",
       "      <td>8e6790c2-a16a-11ec-add7-bf2cfe8c828d</td>\n",
       "      <td>Служба занятости</td>\n",
       "      <td>5200000000000</td>\n",
       "      <td>Нижегородская область</td>\n",
       "      <td>1025202210538</td>\n",
       "      <td>NaN</td>\n",
       "      <td>1025202210538</td>\n",
       "      <td>False</td>\n",
       "      <td>5201004100</td>\n",
       "      <td>Отдел по вопросам культуры, спорта и молодежи ...</td>\n",
       "      <td>...</td>\n",
       "      <td>Социальный пакет</td>\n",
       "      <td>«руб.»</td>\n",
       "      <td>13890</td>\n",
       "      <td>+7(83179)53195</td>\n",
       "      <td>kultura.ardatov@yandex.ru</td>\n",
       "      <td>NaN</td>\n",
       "      <td>NaN</td>\n",
       "      <td>NaN</td>\n",
       "      <td>NaN</td>\n",
       "      <td>NaN</td>\n",
       "    </tr>\n",
       "    <tr>\n",
       "      <th>141</th>\n",
       "      <td>6d1bb722-e36f-11eb-9dd6-bf2cfe8c828d</td>\n",
       "      <td>Служба занятости</td>\n",
       "      <td>4200000000000</td>\n",
       "      <td>Кемеровская область</td>\n",
       "      <td>1034205018110</td>\n",
       "      <td>http://lad-dva.ru</td>\n",
       "      <td>1034205018110</td>\n",
       "      <td>False</td>\n",
       "      <td>4206002915</td>\n",
       "      <td>ООО  \"КОМПАНИЯ ЛАД-ДВА\"</td>\n",
       "      <td>...</td>\n",
       "      <td>Социальный пакет- График работы - понедельник-...</td>\n",
       "      <td>«руб.»</td>\n",
       "      <td>0</td>\n",
       "      <td>+7(3842)744444</td>\n",
       "      <td>kassa@lad-dva.ru</td>\n",
       "      <td>NaN</td>\n",
       "      <td>NaN</td>\n",
       "      <td>NaN</td>\n",
       "      <td>NaN</td>\n",
       "      <td>NaN</td>\n",
       "    </tr>\n",
       "    <tr>\n",
       "      <th>191</th>\n",
       "      <td>e11d2ef3-7d4e-11ec-b378-bf2cfe8c828d</td>\n",
       "      <td>Служба занятости</td>\n",
       "      <td>3600000000000</td>\n",
       "      <td>Воронежская область</td>\n",
       "      <td>1023600511448</td>\n",
       "      <td>NaN</td>\n",
       "      <td>1023600511448</td>\n",
       "      <td>False</td>\n",
       "      <td>3662180590</td>\n",
       "      <td>ОВО ПО ПАНИНСКОМУ РАЙОНУ-ФИЛИАЛ ФГКУ \"УВО ВНГ ...</td>\n",
       "      <td>...</td>\n",
       "      <td>Социальный пакетОФОРМЛЕНИЕ ПО ТК,СОЦ.ПАКЕТ</td>\n",
       "      <td>«руб.»</td>\n",
       "      <td>13890</td>\n",
       "      <td>+7(47344)4-71-82</td>\n",
       "      <td>panino_ovo@mail.ru</td>\n",
       "      <td>NaN</td>\n",
       "      <td>NaN</td>\n",
       "      <td>NaN</td>\n",
       "      <td>NaN</td>\n",
       "      <td>NaN</td>\n",
       "    </tr>\n",
       "    <tr>\n",
       "      <th>243</th>\n",
       "      <td>3c72e332-9fd7-11ec-add7-bf2cfe8c828d</td>\n",
       "      <td>Служба занятости</td>\n",
       "      <td>2300000000000</td>\n",
       "      <td>Краснодарский край</td>\n",
       "      <td>1022304246502</td>\n",
       "      <td>NaN</td>\n",
       "      <td>1022304246502</td>\n",
       "      <td>False</td>\n",
       "      <td>2340015390</td>\n",
       "      <td>ГОСУДАРСТВЕННОЕ КАЗЕННОЕ УЧРЕЖДЕНИЕ КРАСНОДАРС...</td>\n",
       "      <td>...</td>\n",
       "      <td>Социальный пакет</td>\n",
       "      <td>«руб.»</td>\n",
       "      <td>25000</td>\n",
       "      <td>+7(86168)54993</td>\n",
       "      <td>cb_kushev@mtsr.krasnodar.ru</td>\n",
       "      <td>NaN</td>\n",
       "      <td>NaN</td>\n",
       "      <td>NaN</td>\n",
       "      <td>NaN</td>\n",
       "      <td>NaN</td>\n",
       "    </tr>\n",
       "    <tr>\n",
       "      <th>...</th>\n",
       "      <td>...</td>\n",
       "      <td>...</td>\n",
       "      <td>...</td>\n",
       "      <td>...</td>\n",
       "      <td>...</td>\n",
       "      <td>...</td>\n",
       "      <td>...</td>\n",
       "      <td>...</td>\n",
       "      <td>...</td>\n",
       "      <td>...</td>\n",
       "      <td>...</td>\n",
       "      <td>...</td>\n",
       "      <td>...</td>\n",
       "      <td>...</td>\n",
       "      <td>...</td>\n",
       "      <td>...</td>\n",
       "      <td>...</td>\n",
       "      <td>...</td>\n",
       "      <td>...</td>\n",
       "      <td>...</td>\n",
       "      <td>...</td>\n",
       "    </tr>\n",
       "    <tr>\n",
       "      <th>359290</th>\n",
       "      <td>12fe3323-b2fa-11ec-9aad-bf2cfe8c828d</td>\n",
       "      <td>Служба занятости</td>\n",
       "      <td>1800000000000</td>\n",
       "      <td>Удмуртская Республика</td>\n",
       "      <td>1021801509828</td>\n",
       "      <td>NaN</td>\n",
       "      <td>1021801509828</td>\n",
       "      <td>False</td>\n",
       "      <td>1833000800</td>\n",
       "      <td>КПОУ УР \"Удмуртский республиканский колледж ку...</td>\n",
       "      <td>...</td>\n",
       "      <td>Социальный пакет</td>\n",
       "      <td>«руб.»</td>\n",
       "      <td>15974</td>\n",
       "      <td>+7(3412)444491</td>\n",
       "      <td>urkkult@mail.ru</td>\n",
       "      <td>NaN</td>\n",
       "      <td>NaN</td>\n",
       "      <td>+7(3412)444491</td>\n",
       "      <td>NaN</td>\n",
       "      <td>NaN</td>\n",
       "    </tr>\n",
       "    <tr>\n",
       "      <th>359309</th>\n",
       "      <td>eab00b13-0042-11ec-9dd6-bf2cfe8c828d</td>\n",
       "      <td>Служба занятости</td>\n",
       "      <td>5200000000000</td>\n",
       "      <td>Нижегородская область</td>\n",
       "      <td>1025203047385</td>\n",
       "      <td>NaN</td>\n",
       "      <td>1025203047385</td>\n",
       "      <td>False</td>\n",
       "      <td>5260070545</td>\n",
       "      <td>Муниципальное бюджетное учреждение культуры \"Н...</td>\n",
       "      <td>...</td>\n",
       "      <td>Социальный пакетРазделенный на части рабочий день</td>\n",
       "      <td>«руб.»</td>\n",
       "      <td>33800</td>\n",
       "      <td>+7(831)4308173</td>\n",
       "      <td>komedi@mail.ru</td>\n",
       "      <td>NaN</td>\n",
       "      <td>NaN</td>\n",
       "      <td>+7(831)4331476</td>\n",
       "      <td>NaN</td>\n",
       "      <td>NaN</td>\n",
       "    </tr>\n",
       "    <tr>\n",
       "      <th>359310</th>\n",
       "      <td>8351b2d3-0c71-11ec-9dd6-bf2cfe8c828d</td>\n",
       "      <td>Служба занятости</td>\n",
       "      <td>5200000000000</td>\n",
       "      <td>Нижегородская область</td>\n",
       "      <td>1025203047385</td>\n",
       "      <td>NaN</td>\n",
       "      <td>1025203047385</td>\n",
       "      <td>False</td>\n",
       "      <td>5260070545</td>\n",
       "      <td>Муниципальное бюджетное учреждение культуры \"Н...</td>\n",
       "      <td>...</td>\n",
       "      <td>Социальный пакет</td>\n",
       "      <td>«руб.»</td>\n",
       "      <td>16949</td>\n",
       "      <td>+7(831)4308173</td>\n",
       "      <td>komedi@mail.ru</td>\n",
       "      <td>NaN</td>\n",
       "      <td>NaN</td>\n",
       "      <td>+7(831)4331476</td>\n",
       "      <td>NaN</td>\n",
       "      <td>NaN</td>\n",
       "    </tr>\n",
       "    <tr>\n",
       "      <th>359323</th>\n",
       "      <td>8729ed62-9664-11eb-9dd6-bf2cfe8c828d</td>\n",
       "      <td>Служба занятости</td>\n",
       "      <td>5500000000000</td>\n",
       "      <td>Омская область</td>\n",
       "      <td>1115543001056</td>\n",
       "      <td>NaN</td>\n",
       "      <td>1115543001056</td>\n",
       "      <td>False</td>\n",
       "      <td>5519200201</td>\n",
       "      <td>БУ ЛМР \"ЦКИ ЛМР\"</td>\n",
       "      <td>...</td>\n",
       "      <td>Социальный пакет</td>\n",
       "      <td>«руб.»</td>\n",
       "      <td>23000</td>\n",
       "      <td>+721396</td>\n",
       "      <td>lubino-admkult@yandex.ru</td>\n",
       "      <td>NaN</td>\n",
       "      <td>NaN</td>\n",
       "      <td>NaN</td>\n",
       "      <td>NaN</td>\n",
       "      <td>NaN</td>\n",
       "    </tr>\n",
       "    <tr>\n",
       "      <th>359324</th>\n",
       "      <td>193534b2-ad23-11eb-9dd6-bf2cfe8c828d</td>\n",
       "      <td>Служба занятости</td>\n",
       "      <td>5500000000000</td>\n",
       "      <td>Омская область</td>\n",
       "      <td>1115543001056</td>\n",
       "      <td>NaN</td>\n",
       "      <td>1115543001056</td>\n",
       "      <td>False</td>\n",
       "      <td>5519200201</td>\n",
       "      <td>БУ ЛМР \"ЦКИ ЛМР\"</td>\n",
       "      <td>...</td>\n",
       "      <td>Социальный пакет</td>\n",
       "      <td>«руб.»</td>\n",
       "      <td>20000</td>\n",
       "      <td>+721396</td>\n",
       "      <td>lubino-admkult@yandex.ru</td>\n",
       "      <td>NaN</td>\n",
       "      <td>NaN</td>\n",
       "      <td>NaN</td>\n",
       "      <td>NaN</td>\n",
       "      <td>NaN</td>\n",
       "    </tr>\n",
       "  </tbody>\n",
       "</table>\n",
       "<p>28442 rows × 35 columns</p>\n",
       "</div>"
      ],
      "text/plain": [
       "                                  vacancy.id    vacancy.source  \\\n",
       "66      b74fc5b2-59f9-11ec-b40f-bf2cfe8c828d  Служба занятости   \n",
       "115     8e6790c2-a16a-11ec-add7-bf2cfe8c828d  Служба занятости   \n",
       "141     6d1bb722-e36f-11eb-9dd6-bf2cfe8c828d  Служба занятости   \n",
       "191     e11d2ef3-7d4e-11ec-b378-bf2cfe8c828d  Служба занятости   \n",
       "243     3c72e332-9fd7-11ec-add7-bf2cfe8c828d  Служба занятости   \n",
       "...                                      ...               ...   \n",
       "359290  12fe3323-b2fa-11ec-9aad-bf2cfe8c828d  Служба занятости   \n",
       "359309  eab00b13-0042-11ec-9dd6-bf2cfe8c828d  Служба занятости   \n",
       "359310  8351b2d3-0c71-11ec-9dd6-bf2cfe8c828d  Служба занятости   \n",
       "359323  8729ed62-9664-11eb-9dd6-bf2cfe8c828d  Служба занятости   \n",
       "359324  193534b2-ad23-11eb-9dd6-bf2cfe8c828d  Служба занятости   \n",
       "\n",
       "       vacancy.region.region_code    vacancy.region.name vacancy.company.ogrn  \\\n",
       "66                  5400000000000  Новосибирская область        1025401504039   \n",
       "115                 5200000000000  Нижегородская область        1025202210538   \n",
       "141                 4200000000000    Кемеровская область        1034205018110   \n",
       "191                 3600000000000    Воронежская область        1023600511448   \n",
       "243                 2300000000000     Краснодарский край        1022304246502   \n",
       "...                           ...                    ...                  ...   \n",
       "359290              1800000000000  Удмуртская Республика        1021801509828   \n",
       "359309              5200000000000  Нижегородская область        1025203047385   \n",
       "359310              5200000000000  Нижегородская область        1025203047385   \n",
       "359323              5500000000000         Омская область        1115543001056   \n",
       "359324              5500000000000         Омская область        1115543001056   \n",
       "\n",
       "       vacancy.company.site vacancy.company.companycode  \\\n",
       "66        http://nokkii.ru/               1025401504039   \n",
       "115                     NaN               1025202210538   \n",
       "141       http://lad-dva.ru               1034205018110   \n",
       "191                     NaN               1023600511448   \n",
       "243                     NaN               1022304246502   \n",
       "...                     ...                         ...   \n",
       "359290                  NaN               1021801509828   \n",
       "359309                  NaN               1025203047385   \n",
       "359310                  NaN               1025203047385   \n",
       "359323                  NaN               1115543001056   \n",
       "359324                  NaN               1115543001056   \n",
       "\n",
       "       vacancy.company.hr-agency vacancy.company.inn  \\\n",
       "66                         False          5404131424   \n",
       "115                        False          5201004100   \n",
       "141                        False          4206002915   \n",
       "191                        False          3662180590   \n",
       "243                        False          2340015390   \n",
       "...                          ...                 ...   \n",
       "359290                     False          1833000800   \n",
       "359309                     False          5260070545   \n",
       "359310                     False          5260070545   \n",
       "359323                     False          5519200201   \n",
       "359324                     False          5519200201   \n",
       "\n",
       "                                     vacancy.company.name  ...  \\\n",
       "66      Государственное автономное профессиональное об...  ...   \n",
       "115     Отдел по вопросам культуры, спорта и молодежи ...  ...   \n",
       "141                               ООО  \"КОМПАНИЯ ЛАД-ДВА\"  ...   \n",
       "191     ОВО ПО ПАНИНСКОМУ РАЙОНУ-ФИЛИАЛ ФГКУ \"УВО ВНГ ...  ...   \n",
       "243     ГОСУДАРСТВЕННОЕ КАЗЕННОЕ УЧРЕЖДЕНИЕ КРАСНОДАРС...  ...   \n",
       "...                                                   ...  ...   \n",
       "359290  КПОУ УР \"Удмуртский республиканский колледж ку...  ...   \n",
       "359309  Муниципальное бюджетное учреждение культуры \"Н...  ...   \n",
       "359310  Муниципальное бюджетное учреждение культуры \"Н...  ...   \n",
       "359323                                   БУ ЛМР \"ЦКИ ЛМР\"  ...   \n",
       "359324                                   БУ ЛМР \"ЦКИ ЛМР\"  ...   \n",
       "\n",
       "                                        vacancy.term.text vacancy.currency  \\\n",
       "66                                       Социальный пакет           «руб.»   \n",
       "115                                      Социальный пакет           «руб.»   \n",
       "141     Социальный пакет- График работы - понедельник-...           «руб.»   \n",
       "191            Социальный пакетОФОРМЛЕНИЕ ПО ТК,СОЦ.ПАКЕТ           «руб.»   \n",
       "243                                      Социальный пакет           «руб.»   \n",
       "...                                                   ...              ...   \n",
       "359290                                   Социальный пакет           «руб.»   \n",
       "359309  Социальный пакетРазделенный на части рабочий день           «руб.»   \n",
       "359310                                   Социальный пакет           «руб.»   \n",
       "359323                                   Социальный пакет           «руб.»   \n",
       "359324                                   Социальный пакет           «руб.»   \n",
       "\n",
       "       vacancy.salary_max    vacancy.company.phone  \\\n",
       "66                  30000  +7(383)3464043 доб. 249   \n",
       "115                 13890           +7(83179)53195   \n",
       "141                     0           +7(3842)744444   \n",
       "191                 13890         +7(47344)4-71-82   \n",
       "243                 25000           +7(86168)54993   \n",
       "...                   ...                      ...   \n",
       "359290              15974           +7(3412)444491   \n",
       "359309              33800           +7(831)4308173   \n",
       "359310              16949           +7(831)4308173   \n",
       "359323              23000                  +721396   \n",
       "359324              20000                  +721396   \n",
       "\n",
       "              vacancy.company.email vacancy.company.logo  \\\n",
       "66                ok-nokkii@mail.ru                  NaN   \n",
       "115       kultura.ardatov@yandex.ru                  NaN   \n",
       "141                kassa@lad-dva.ru                  NaN   \n",
       "191              panino_ovo@mail.ru                  NaN   \n",
       "243     cb_kushev@mtsr.krasnodar.ru                  NaN   \n",
       "...                             ...                  ...   \n",
       "359290              urkkult@mail.ru                  NaN   \n",
       "359309               komedi@mail.ru                  NaN   \n",
       "359310               komedi@mail.ru                  NaN   \n",
       "359323     lubino-admkult@yandex.ru                  NaN   \n",
       "359324     lubino-admkult@yandex.ru                  NaN   \n",
       "\n",
       "       vacancy.social_protected vacancy.company.fax  \\\n",
       "66                          NaN                 NaN   \n",
       "115                         NaN                 NaN   \n",
       "141                         NaN                 NaN   \n",
       "191                         NaN                 NaN   \n",
       "243                         NaN                 NaN   \n",
       "...                         ...                 ...   \n",
       "359290                      NaN      +7(3412)444491   \n",
       "359309                      NaN      +7(831)4331476   \n",
       "359310                      NaN      +7(831)4331476   \n",
       "359323                      NaN                 NaN   \n",
       "359324                      NaN                 NaN   \n",
       "\n",
       "       vacancy.company.code_industry_branch vacancy.category.industry  \n",
       "66                                      NaN                       NaN  \n",
       "115                                     NaN                       NaN  \n",
       "141                                     NaN                       NaN  \n",
       "191                                     NaN                       NaN  \n",
       "243                                     NaN                       NaN  \n",
       "...                                     ...                       ...  \n",
       "359290                                  NaN                       NaN  \n",
       "359309                                  NaN                       NaN  \n",
       "359310                                  NaN                       NaN  \n",
       "359323                                  NaN                       NaN  \n",
       "359324                                  NaN                       NaN  \n",
       "\n",
       "[28442 rows x 35 columns]"
      ]
     },
     "execution_count": 50,
     "metadata": {},
     "output_type": "execute_result"
    }
   ],
   "source": [
    "\"\"\"Выбираем нужные специализации\"\"\"\n",
    "\n",
    "df_filtered = df[(df[\"vacancy.category.specialisation\"] == \"Информационные технологии, телекоммуникации, связь\") \n",
    "| (df[\"vacancy.category.specialisation\"] == \"Искусство, культура и развлечения\") | \n",
    "(df[\"vacancy.category.specialisation\"] == \"Безопасность, службы охраны\") | \n",
    "(df[\"vacancy.category.specialisation\"] == \"Государственная служба, некоммерческие организации\")]\n",
    "df_filtered"
   ]
  },
  {
   "cell_type": "code",
   "execution_count": 186,
   "metadata": {
    "pycharm": {
     "name": "#%%\n"
    }
   },
   "outputs": [
    {
     "data": {
      "text/plain": [
       "Информационные технологии, телекоммуникации, связь    8624\n",
       "Государственная служба, некоммерческие организации    7450\n",
       "Искусство, культура и развлечения                     7440\n",
       "Безопасность, службы охраны                           4928\n",
       "Name: vacancy.category.specialisation, dtype: int64"
      ]
     },
     "execution_count": 186,
     "metadata": {},
     "output_type": "execute_result"
    }
   ],
   "source": [
    "df_filtered[\"vacancy.category.specialisation\"].value_counts()"
   ]
  },
  {
   "cell_type": "code",
   "execution_count": 51,
   "metadata": {
    "pycharm": {
     "name": "#%%\n"
    }
   },
   "outputs": [],
   "source": [
    "df_filtered = df_filtered.reset_index().drop(columns = ['index'])"
   ]
  },
  {
   "cell_type": "code",
   "execution_count": 30,
   "metadata": {
    "pycharm": {
     "name": "#%%\n"
    }
   },
   "outputs": [],
   "source": [
    "\"\"\"Преобразуем время в формат datetime\"\"\"\n",
    "from datetime import datetime\n",
    "\n",
    "def change_date(x):\n",
    "    try:\n",
    "        date = datetime.strptime(x, \"%Y-%m-%d\")\n",
    "        \n",
    "    except Exception as e: # нам известно о двух ошибках в записи времени\n",
    "         # если не получилось преобразовать в datetime, то исправляем эти две ошибки \n",
    "        if x == \"333322-03-11\":\n",
    "            return datetime.strptime('2022-03-11', \"%Y-%m-%d\")\n",
    "        return datetime.strptime('2022-03-28', \"%Y-%m-%d\")\n",
    "        \n",
    "    return date\n",
    "    \n",
    "df_result[\"vacancy.creation-date\"] = df_result[\"vacancy.creation-date\"].apply(change_date)"
   ]
  },
  {
   "cell_type": "code",
   "execution_count": 33,
   "outputs": [
    {
     "data": {
      "text/plain": "                                  vacancy.id     vacancy.source  \\\n0       f32fd635-d283-11ec-aa72-550ed7335bbe       Работодатель   \n1       f5bd5df1-1626-11ed-98cd-dbfed3997e57  INTERNET_RESOURCE   \n2       f5c6d3d1-1626-11ed-98cd-dbfed3997e57  INTERNET_RESOURCE   \n3       f65d4771-1626-11ed-98cd-dbfed3997e57  INTERNET_RESOURCE   \n4       9564cf12-1fef-11ed-aeb3-93f7cc862eb6   Служба занятости   \n...                                      ...                ...   \n183389  0a00a9c2-07a4-11ed-bddd-bf2cfe8c828d   Служба занятости   \n183390  66458102-ac8d-11ec-9aad-bf2cfe8c828d   Служба занятости   \n183391  664a3bf2-ac8d-11ec-9aad-bf2cfe8c828d   Служба занятости   \n183392  23930fc0-b5f8-11ec-9aad-bf2cfe8c828d   Служба занятости   \n183393  29d10882-f40d-11ec-9330-bf2cfe8c828d   Служба занятости   \n\n       vacancy.region.region_code    vacancy.region.name vacancy.company.ogrn  \\\n0                   7400000000000    Челябинская область        1027402929982   \n1                   3400000000000  Волгоградская область        5147746474134   \n2                   3400000000000  Волгоградская область        5147746474134   \n3                   5500000000000         Омская область        5147746474134   \n4                   2200000000000         Алтайский край        1022202523837   \n...                           ...                    ...                  ...   \n183389              2300000000000     Краснодарский край        1182375097750   \n183390              7600000000000    Ярославская область        1087627000031   \n183391              7600000000000    Ярославская область        1087627000031   \n183392              2300000000000     Краснодарский край        1160105050368   \n183393              2300000000000     Краснодарский край        1112312003033   \n\n                 vacancy.company.companycode  vacancy.company.hr-agency  \\\n0                              1027402929982                      False   \n1                              5147746474134                      False   \n2                              5147746474134                      False   \n3                              5147746474134                      False   \n4                              1022202523837                      False   \n...                                      ...                        ...   \n183389                         1182375097750                      False   \n183390                         1087627000031                      False   \n183391                         1087627000031                      False   \n183392                         1160105050368                      False   \n183393  3af7e810-d328-11eb-996f-e736a3d3ed84                      False   \n\n       vacancy.company.phone vacancy.company.inn  \\\n0          +7(351) 280-01-71          7451054361   \n1             +7(926)3270262          7709969870   \n2             +7(926)3270262          7709969870   \n3             +7(926)3270262          7709969870   \n4             +7(38556)21927          2265001797   \n...                      ...                 ...   \n183389        +7(918)9817134          2372024439   \n183390        +7(4852)679665          7627032220   \n183391        +7(4852)679665          7627032220   \n183392        +7(928)4165887          0107030181   \n183393                   NaN          2312180680   \n\n                                     vacancy.company.name  ...  \\\n0       Муниципальное автономное общеобразовательное у...  ...   \n1                                          ООО \"РДВ-СОФТ\"  ...   \n2                                          ООО \"РДВ-СОФТ\"  ...   \n3                                          ООО \"РДВ-СОФТ\"  ...   \n4       АДМИНИСТРАЦИЯ ПОСПЕЛИХИНСКОГО РАЙОНА АЛТАЙСКОГ...  ...   \n...                                                   ...  ...   \n183389  ОБЩЕСТВО С ОГРАНИЧЕННОЙ ОТВЕТСТВЕННОСТЬЮ \"АРМА...  ...   \n183390                           АО \"Племзавод Ярославка\"  ...   \n183391                           АО \"Племзавод Ярославка\"  ...   \n183392   ОБЩЕСТВО С ОГРАНИЧЕННОЙ ОТВЕТСТВЕННОСТЬЮ \"ГЕРОН\"  ...   \n183393                                          ООО ТК ЮГ  ...   \n\n          vacancy.company.site vacancy.company.email  \\\n0                          NaN                   NaN   \n1       https://www.rabota.ru/  a.shmakova@rabota.ru   \n2       https://www.rabota.ru/  a.shmakova@rabota.ru   \n3       https://www.rabota.ru/  a.shmakova@rabota.ru   \n4                          NaN        arnpsp@mail.ru   \n...                        ...                   ...   \n183389                     NaN       uprkom8@mail.ru   \n183390             http://Сайт    yaroslawka@mail.ru   \n183391             http://Сайт    yaroslawka@mail.ru   \n183392                     NaN   geron.ooo@yandex.ru   \n183393                     NaN                   NaN   \n\n       vacancy.requirement.education  \\\n0                                NaN   \n1                            Среднее   \n2                            Среднее   \n3                            Среднее   \n4                             Высшее   \n...                              ...   \n183389                       Среднее   \n183390                       Среднее   \n183391                       Среднее   \n183392      Среднее профессиональное   \n183393                       Среднее   \n\n                        vacancy.requirement.qualification  \\\n0                                                     NaN   \n1                                                     NaN   \n2                                                     NaN   \n3                                                     NaN   \n4       Сохраненное рабочее место<br/>Главный специали...   \n...                                                   ...   \n183389  Уборщик мест общего пользования в многоквартир...   \n183390                      -фасовщик<br/>Ответственность   \n183391    животноводческого отделения<br/>Ответственность   \n183392  Ответственность<br/>Дисциплинированность<br/>В...   \n183393  Возможны командировки.<br/>Квотируемое рабочее...   \n\n                                        vacancy.term.text  \\\n0                                                     NaN   \n1                                                     NaN   \n2                                                     NaN   \n3                                                     NaN   \n4       ЗдравохранениеПредоставление служ.жильяСоциаль...   \n...                                                   ...   \n183389                                   Социальный пакет   \n183390  Социальный пакетРабота по граф. смен. 2/2.  Об...   \n183391  Социальный пакетПредоставление жильяНормальная...   \n183392  Социальный пакетПредоставление спец.одеждыСист...   \n183393  Социальный пакетУсловия:\\n- Работа на автомоби...   \n\n        vacancy.company.logo vacancy.company.fax vacancy.social_protected  \\\n0                        NaN                 NaN                      NaN   \n1                        NaN                 NaN                      NaN   \n2                        NaN                 NaN                      NaN   \n3                        NaN                 NaN                      NaN   \n4                        NaN                 NaN                      NaN   \n...                      ...                 ...                      ...   \n183389                   NaN                 NaN                      NaN   \n183390                   NaN                 NaN                      NaN   \n183391                   NaN                 NaN                      NaN   \n183392                   NaN                 NaN                      NaN   \n183393                   NaN                 NaN                 Инвалиды   \n\n       vacancy.company.code_industry_branch vacancy.category.industry  \n0                                       NaN                       NaN  \n1                                       NaN                       NaN  \n2                                       NaN                       NaN  \n3                                       NaN                       NaN  \n4                                       NaN                       NaN  \n...                                     ...                       ...  \n183389                                  NaN                       NaN  \n183390                                  NaN                       NaN  \n183391                                  NaN                       NaN  \n183392                                  NaN                       NaN  \n183393                                  NaN                       NaN  \n\n[183394 rows x 35 columns]",
      "text/html": "<div>\n<style scoped>\n    .dataframe tbody tr th:only-of-type {\n        vertical-align: middle;\n    }\n\n    .dataframe tbody tr th {\n        vertical-align: top;\n    }\n\n    .dataframe thead th {\n        text-align: right;\n    }\n</style>\n<table border=\"1\" class=\"dataframe\">\n  <thead>\n    <tr style=\"text-align: right;\">\n      <th></th>\n      <th>vacancy.id</th>\n      <th>vacancy.source</th>\n      <th>vacancy.region.region_code</th>\n      <th>vacancy.region.name</th>\n      <th>vacancy.company.ogrn</th>\n      <th>vacancy.company.companycode</th>\n      <th>vacancy.company.hr-agency</th>\n      <th>vacancy.company.phone</th>\n      <th>vacancy.company.inn</th>\n      <th>vacancy.company.name</th>\n      <th>...</th>\n      <th>vacancy.company.site</th>\n      <th>vacancy.company.email</th>\n      <th>vacancy.requirement.education</th>\n      <th>vacancy.requirement.qualification</th>\n      <th>vacancy.term.text</th>\n      <th>vacancy.company.logo</th>\n      <th>vacancy.company.fax</th>\n      <th>vacancy.social_protected</th>\n      <th>vacancy.company.code_industry_branch</th>\n      <th>vacancy.category.industry</th>\n    </tr>\n  </thead>\n  <tbody>\n    <tr>\n      <th>0</th>\n      <td>f32fd635-d283-11ec-aa72-550ed7335bbe</td>\n      <td>Работодатель</td>\n      <td>7400000000000</td>\n      <td>Челябинская область</td>\n      <td>1027402929982</td>\n      <td>1027402929982</td>\n      <td>False</td>\n      <td>+7(351) 280-01-71</td>\n      <td>7451054361</td>\n      <td>Муниципальное автономное общеобразовательное у...</td>\n      <td>...</td>\n      <td>NaN</td>\n      <td>NaN</td>\n      <td>NaN</td>\n      <td>NaN</td>\n      <td>NaN</td>\n      <td>NaN</td>\n      <td>NaN</td>\n      <td>NaN</td>\n      <td>NaN</td>\n      <td>NaN</td>\n    </tr>\n    <tr>\n      <th>1</th>\n      <td>f5bd5df1-1626-11ed-98cd-dbfed3997e57</td>\n      <td>INTERNET_RESOURCE</td>\n      <td>3400000000000</td>\n      <td>Волгоградская область</td>\n      <td>5147746474134</td>\n      <td>5147746474134</td>\n      <td>False</td>\n      <td>+7(926)3270262</td>\n      <td>7709969870</td>\n      <td>ООО \"РДВ-СОФТ\"</td>\n      <td>...</td>\n      <td>https://www.rabota.ru/</td>\n      <td>a.shmakova@rabota.ru</td>\n      <td>Среднее</td>\n      <td>NaN</td>\n      <td>NaN</td>\n      <td>NaN</td>\n      <td>NaN</td>\n      <td>NaN</td>\n      <td>NaN</td>\n      <td>NaN</td>\n    </tr>\n    <tr>\n      <th>2</th>\n      <td>f5c6d3d1-1626-11ed-98cd-dbfed3997e57</td>\n      <td>INTERNET_RESOURCE</td>\n      <td>3400000000000</td>\n      <td>Волгоградская область</td>\n      <td>5147746474134</td>\n      <td>5147746474134</td>\n      <td>False</td>\n      <td>+7(926)3270262</td>\n      <td>7709969870</td>\n      <td>ООО \"РДВ-СОФТ\"</td>\n      <td>...</td>\n      <td>https://www.rabota.ru/</td>\n      <td>a.shmakova@rabota.ru</td>\n      <td>Среднее</td>\n      <td>NaN</td>\n      <td>NaN</td>\n      <td>NaN</td>\n      <td>NaN</td>\n      <td>NaN</td>\n      <td>NaN</td>\n      <td>NaN</td>\n    </tr>\n    <tr>\n      <th>3</th>\n      <td>f65d4771-1626-11ed-98cd-dbfed3997e57</td>\n      <td>INTERNET_RESOURCE</td>\n      <td>5500000000000</td>\n      <td>Омская область</td>\n      <td>5147746474134</td>\n      <td>5147746474134</td>\n      <td>False</td>\n      <td>+7(926)3270262</td>\n      <td>7709969870</td>\n      <td>ООО \"РДВ-СОФТ\"</td>\n      <td>...</td>\n      <td>https://www.rabota.ru/</td>\n      <td>a.shmakova@rabota.ru</td>\n      <td>Среднее</td>\n      <td>NaN</td>\n      <td>NaN</td>\n      <td>NaN</td>\n      <td>NaN</td>\n      <td>NaN</td>\n      <td>NaN</td>\n      <td>NaN</td>\n    </tr>\n    <tr>\n      <th>4</th>\n      <td>9564cf12-1fef-11ed-aeb3-93f7cc862eb6</td>\n      <td>Служба занятости</td>\n      <td>2200000000000</td>\n      <td>Алтайский край</td>\n      <td>1022202523837</td>\n      <td>1022202523837</td>\n      <td>False</td>\n      <td>+7(38556)21927</td>\n      <td>2265001797</td>\n      <td>АДМИНИСТРАЦИЯ ПОСПЕЛИХИНСКОГО РАЙОНА АЛТАЙСКОГ...</td>\n      <td>...</td>\n      <td>NaN</td>\n      <td>arnpsp@mail.ru</td>\n      <td>Высшее</td>\n      <td>Сохраненное рабочее место&lt;br/&gt;Главный специали...</td>\n      <td>ЗдравохранениеПредоставление служ.жильяСоциаль...</td>\n      <td>NaN</td>\n      <td>NaN</td>\n      <td>NaN</td>\n      <td>NaN</td>\n      <td>NaN</td>\n    </tr>\n    <tr>\n      <th>...</th>\n      <td>...</td>\n      <td>...</td>\n      <td>...</td>\n      <td>...</td>\n      <td>...</td>\n      <td>...</td>\n      <td>...</td>\n      <td>...</td>\n      <td>...</td>\n      <td>...</td>\n      <td>...</td>\n      <td>...</td>\n      <td>...</td>\n      <td>...</td>\n      <td>...</td>\n      <td>...</td>\n      <td>...</td>\n      <td>...</td>\n      <td>...</td>\n      <td>...</td>\n      <td>...</td>\n    </tr>\n    <tr>\n      <th>183389</th>\n      <td>0a00a9c2-07a4-11ed-bddd-bf2cfe8c828d</td>\n      <td>Служба занятости</td>\n      <td>2300000000000</td>\n      <td>Краснодарский край</td>\n      <td>1182375097750</td>\n      <td>1182375097750</td>\n      <td>False</td>\n      <td>+7(918)9817134</td>\n      <td>2372024439</td>\n      <td>ОБЩЕСТВО С ОГРАНИЧЕННОЙ ОТВЕТСТВЕННОСТЬЮ \"АРМА...</td>\n      <td>...</td>\n      <td>NaN</td>\n      <td>uprkom8@mail.ru</td>\n      <td>Среднее</td>\n      <td>Уборщик мест общего пользования в многоквартир...</td>\n      <td>Социальный пакет</td>\n      <td>NaN</td>\n      <td>NaN</td>\n      <td>NaN</td>\n      <td>NaN</td>\n      <td>NaN</td>\n    </tr>\n    <tr>\n      <th>183390</th>\n      <td>66458102-ac8d-11ec-9aad-bf2cfe8c828d</td>\n      <td>Служба занятости</td>\n      <td>7600000000000</td>\n      <td>Ярославская область</td>\n      <td>1087627000031</td>\n      <td>1087627000031</td>\n      <td>False</td>\n      <td>+7(4852)679665</td>\n      <td>7627032220</td>\n      <td>АО \"Племзавод Ярославка\"</td>\n      <td>...</td>\n      <td>http://Сайт</td>\n      <td>yaroslawka@mail.ru</td>\n      <td>Среднее</td>\n      <td>-фасовщик&lt;br/&gt;Ответственность</td>\n      <td>Социальный пакетРабота по граф. смен. 2/2.  Об...</td>\n      <td>NaN</td>\n      <td>NaN</td>\n      <td>NaN</td>\n      <td>NaN</td>\n      <td>NaN</td>\n    </tr>\n    <tr>\n      <th>183391</th>\n      <td>664a3bf2-ac8d-11ec-9aad-bf2cfe8c828d</td>\n      <td>Служба занятости</td>\n      <td>7600000000000</td>\n      <td>Ярославская область</td>\n      <td>1087627000031</td>\n      <td>1087627000031</td>\n      <td>False</td>\n      <td>+7(4852)679665</td>\n      <td>7627032220</td>\n      <td>АО \"Племзавод Ярославка\"</td>\n      <td>...</td>\n      <td>http://Сайт</td>\n      <td>yaroslawka@mail.ru</td>\n      <td>Среднее</td>\n      <td>животноводческого отделения&lt;br/&gt;Ответственность</td>\n      <td>Социальный пакетПредоставление жильяНормальная...</td>\n      <td>NaN</td>\n      <td>NaN</td>\n      <td>NaN</td>\n      <td>NaN</td>\n      <td>NaN</td>\n    </tr>\n    <tr>\n      <th>183392</th>\n      <td>23930fc0-b5f8-11ec-9aad-bf2cfe8c828d</td>\n      <td>Служба занятости</td>\n      <td>2300000000000</td>\n      <td>Краснодарский край</td>\n      <td>1160105050368</td>\n      <td>1160105050368</td>\n      <td>False</td>\n      <td>+7(928)4165887</td>\n      <td>0107030181</td>\n      <td>ОБЩЕСТВО С ОГРАНИЧЕННОЙ ОТВЕТСТВЕННОСТЬЮ \"ГЕРОН\"</td>\n      <td>...</td>\n      <td>NaN</td>\n      <td>geron.ooo@yandex.ru</td>\n      <td>Среднее профессиональное</td>\n      <td>Ответственность&lt;br/&gt;Дисциплинированность&lt;br/&gt;В...</td>\n      <td>Социальный пакетПредоставление спец.одеждыСист...</td>\n      <td>NaN</td>\n      <td>NaN</td>\n      <td>NaN</td>\n      <td>NaN</td>\n      <td>NaN</td>\n    </tr>\n    <tr>\n      <th>183393</th>\n      <td>29d10882-f40d-11ec-9330-bf2cfe8c828d</td>\n      <td>Служба занятости</td>\n      <td>2300000000000</td>\n      <td>Краснодарский край</td>\n      <td>1112312003033</td>\n      <td>3af7e810-d328-11eb-996f-e736a3d3ed84</td>\n      <td>False</td>\n      <td>NaN</td>\n      <td>2312180680</td>\n      <td>ООО ТК ЮГ</td>\n      <td>...</td>\n      <td>NaN</td>\n      <td>NaN</td>\n      <td>Среднее</td>\n      <td>Возможны командировки.&lt;br/&gt;Квотируемое рабочее...</td>\n      <td>Социальный пакетУсловия:\\n- Работа на автомоби...</td>\n      <td>NaN</td>\n      <td>NaN</td>\n      <td>Инвалиды</td>\n      <td>NaN</td>\n      <td>NaN</td>\n    </tr>\n  </tbody>\n</table>\n<p>183394 rows × 35 columns</p>\n</div>"
     },
     "execution_count": 33,
     "metadata": {},
     "output_type": "execute_result"
    }
   ],
   "source": [
    "df_result"
   ],
   "metadata": {
    "collapsed": false,
    "pycharm": {
     "name": "#%%\n"
    }
   }
  },
  {
   "cell_type": "code",
   "execution_count": 32,
   "metadata": {
    "pycharm": {
     "name": "#%%\n"
    }
   },
   "outputs": [],
   "source": [
    "\"\"\"Валидируем корректность даты\"\"\"\n",
    "\n",
    "def clean_date(x):\n",
    "    if x > datetime.strptime('2022-08-24', \"%Y-%m-%d\"):\n",
    "        return None\n",
    "    elif x < datetime.strptime('2016-01-01', \"%Y-%m-%d\"):\n",
    "        return None\n",
    "    return x\n",
    "\n",
    "df_result[\"vacancy.creation-date\"] = df_result[\"vacancy.creation-date\"].apply(clean_date)"
   ]
  },
  {
   "cell_type": "code",
   "execution_count": 24,
   "metadata": {
    "pycharm": {
     "name": "#%%\n"
    }
   },
   "outputs": [
    {
     "name": "stdout",
     "output_type": "stream",
     "text": [
      "<class 'pandas.core.frame.DataFrame'>\n",
      "RangeIndex: 183394 entries, 0 to 183393\n",
      "Data columns (total 35 columns):\n",
      " #   Column                                Non-Null Count   Dtype         \n",
      "---  ------                                --------------   -----         \n",
      " 0   vacancy.id                            183394 non-null  object        \n",
      " 1   vacancy.source                        183394 non-null  object        \n",
      " 2   vacancy.region.region_code            183394 non-null  object        \n",
      " 3   vacancy.region.name                   183394 non-null  object        \n",
      " 4   vacancy.company.ogrn                  183335 non-null  object        \n",
      " 5   vacancy.company.companycode           183394 non-null  object        \n",
      " 6   vacancy.company.hr-agency             183394 non-null  bool          \n",
      " 7   vacancy.company.phone                 154072 non-null  object        \n",
      " 8   vacancy.company.inn                   182753 non-null  object        \n",
      " 9   vacancy.company.name                  183366 non-null  object        \n",
      " 10  vacancy.company.kpp                   160339 non-null  object        \n",
      " 11  vacancy.company.url                   183394 non-null  object        \n",
      " 12  vacancy.creation-date                 183394 non-null  datetime64[ns]\n",
      " 13  vacancy.salary                        183394 non-null  object        \n",
      " 14  vacancy.salary_min                    183394 non-null  int64         \n",
      " 15  vacancy.salary_max                    183394 non-null  int64         \n",
      " 16  vacancy.job-name                      183394 non-null  object        \n",
      " 17  vacancy.vac_url                       183394 non-null  object        \n",
      " 18  vacancy.employment                    183393 non-null  object        \n",
      " 19  vacancy.schedule                      182888 non-null  object        \n",
      " 20  vacancy.duty                          180942 non-null  object        \n",
      " 21  vacancy.category.specialisation       183275 non-null  object        \n",
      " 22  vacancy.requirement.experience        183394 non-null  object        \n",
      " 23  vacancy.addresses.address             183394 non-null  object        \n",
      " 24  vacancy.currency                      183394 non-null  object        \n",
      " 25  vacancy.company.site                  23756 non-null   object        \n",
      " 26  vacancy.company.email                 151873 non-null  object        \n",
      " 27  vacancy.requirement.education         173415 non-null  object        \n",
      " 28  vacancy.requirement.qualification     168702 non-null  object        \n",
      " 29  vacancy.term.text                     171262 non-null  object        \n",
      " 30  vacancy.company.logo                  6940 non-null    object        \n",
      " 31  vacancy.company.fax                   17714 non-null   object        \n",
      " 32  vacancy.social_protected              9799 non-null    object        \n",
      " 33  vacancy.company.code_industry_branch  450 non-null     object        \n",
      " 34  vacancy.category.industry             450 non-null     object        \n",
      "dtypes: bool(1), datetime64[ns](1), int64(2), object(31)\n",
      "memory usage: 47.7+ MB\n"
     ]
    }
   ],
   "source": [
    "df_result.info()"
   ]
  },
  {
   "cell_type": "code",
   "execution_count": 57,
   "metadata": {
    "pycharm": {
     "name": "#%%\n"
    }
   },
   "outputs": [
    {
     "data": {
      "text/html": [
       "<div>\n",
       "<style scoped>\n",
       "    .dataframe tbody tr th:only-of-type {\n",
       "        vertical-align: middle;\n",
       "    }\n",
       "\n",
       "    .dataframe tbody tr th {\n",
       "        vertical-align: top;\n",
       "    }\n",
       "\n",
       "    .dataframe thead th {\n",
       "        text-align: right;\n",
       "    }\n",
       "</style>\n",
       "<table border=\"1\" class=\"dataframe\">\n",
       "  <thead>\n",
       "    <tr style=\"text-align: right;\">\n",
       "      <th></th>\n",
       "      <th>vacancy.id</th>\n",
       "      <th>vacancy.source</th>\n",
       "      <th>vacancy.region.region_code</th>\n",
       "      <th>vacancy.region.name</th>\n",
       "      <th>vacancy.company.ogrn</th>\n",
       "      <th>vacancy.company.site</th>\n",
       "      <th>vacancy.company.companycode</th>\n",
       "      <th>vacancy.company.hr-agency</th>\n",
       "      <th>vacancy.company.inn</th>\n",
       "      <th>vacancy.company.name</th>\n",
       "      <th>...</th>\n",
       "      <th>vacancy.term.text</th>\n",
       "      <th>vacancy.currency</th>\n",
       "      <th>vacancy.salary_max</th>\n",
       "      <th>vacancy.company.phone</th>\n",
       "      <th>vacancy.company.email</th>\n",
       "      <th>vacancy.company.logo</th>\n",
       "      <th>vacancy.social_protected</th>\n",
       "      <th>vacancy.company.fax</th>\n",
       "      <th>vacancy.company.code_industry_branch</th>\n",
       "      <th>vacancy.category.industry</th>\n",
       "    </tr>\n",
       "  </thead>\n",
       "  <tbody>\n",
       "    <tr>\n",
       "      <th>0</th>\n",
       "      <td>b74fc5b2-59f9-11ec-b40f-bf2cfe8c828d</td>\n",
       "      <td>Служба занятости</td>\n",
       "      <td>5400000000000</td>\n",
       "      <td>Новосибирская область</td>\n",
       "      <td>1025401504039</td>\n",
       "      <td>http://nokkii.ru/</td>\n",
       "      <td>1025401504039</td>\n",
       "      <td>False</td>\n",
       "      <td>5404131424</td>\n",
       "      <td>Государственное автономное профессиональное об...</td>\n",
       "      <td>...</td>\n",
       "      <td>Социальный пакет</td>\n",
       "      <td>«руб.»</td>\n",
       "      <td>30000</td>\n",
       "      <td>+7(383)3464043 доб. 249</td>\n",
       "      <td>ok-nokkii@mail.ru</td>\n",
       "      <td>NaN</td>\n",
       "      <td>NaN</td>\n",
       "      <td>NaN</td>\n",
       "      <td>NaN</td>\n",
       "      <td>NaN</td>\n",
       "    </tr>\n",
       "    <tr>\n",
       "      <th>1</th>\n",
       "      <td>8e6790c2-a16a-11ec-add7-bf2cfe8c828d</td>\n",
       "      <td>Служба занятости</td>\n",
       "      <td>5200000000000</td>\n",
       "      <td>Нижегородская область</td>\n",
       "      <td>1025202210538</td>\n",
       "      <td>NaN</td>\n",
       "      <td>1025202210538</td>\n",
       "      <td>False</td>\n",
       "      <td>5201004100</td>\n",
       "      <td>Отдел по вопросам культуры, спорта и молодежи ...</td>\n",
       "      <td>...</td>\n",
       "      <td>Социальный пакет</td>\n",
       "      <td>«руб.»</td>\n",
       "      <td>13890</td>\n",
       "      <td>+7(83179)53195</td>\n",
       "      <td>kultura.ardatov@yandex.ru</td>\n",
       "      <td>NaN</td>\n",
       "      <td>NaN</td>\n",
       "      <td>NaN</td>\n",
       "      <td>NaN</td>\n",
       "      <td>NaN</td>\n",
       "    </tr>\n",
       "    <tr>\n",
       "      <th>2</th>\n",
       "      <td>6d1bb722-e36f-11eb-9dd6-bf2cfe8c828d</td>\n",
       "      <td>Служба занятости</td>\n",
       "      <td>4200000000000</td>\n",
       "      <td>Кемеровская область</td>\n",
       "      <td>1034205018110</td>\n",
       "      <td>http://lad-dva.ru</td>\n",
       "      <td>1034205018110</td>\n",
       "      <td>False</td>\n",
       "      <td>4206002915</td>\n",
       "      <td>ООО  \"КОМПАНИЯ ЛАД-ДВА\"</td>\n",
       "      <td>...</td>\n",
       "      <td>Социальный пакет- График работы - понедельник-...</td>\n",
       "      <td>«руб.»</td>\n",
       "      <td>0</td>\n",
       "      <td>+7(3842)744444</td>\n",
       "      <td>kassa@lad-dva.ru</td>\n",
       "      <td>NaN</td>\n",
       "      <td>NaN</td>\n",
       "      <td>NaN</td>\n",
       "      <td>NaN</td>\n",
       "      <td>NaN</td>\n",
       "    </tr>\n",
       "    <tr>\n",
       "      <th>3</th>\n",
       "      <td>e11d2ef3-7d4e-11ec-b378-bf2cfe8c828d</td>\n",
       "      <td>Служба занятости</td>\n",
       "      <td>3600000000000</td>\n",
       "      <td>Воронежская область</td>\n",
       "      <td>1023600511448</td>\n",
       "      <td>NaN</td>\n",
       "      <td>1023600511448</td>\n",
       "      <td>False</td>\n",
       "      <td>3662180590</td>\n",
       "      <td>ОВО ПО ПАНИНСКОМУ РАЙОНУ-ФИЛИАЛ ФГКУ \"УВО ВНГ ...</td>\n",
       "      <td>...</td>\n",
       "      <td>Социальный пакетОФОРМЛЕНИЕ ПО ТК,СОЦ.ПАКЕТ</td>\n",
       "      <td>«руб.»</td>\n",
       "      <td>13890</td>\n",
       "      <td>+7(47344)4-71-82</td>\n",
       "      <td>panino_ovo@mail.ru</td>\n",
       "      <td>NaN</td>\n",
       "      <td>NaN</td>\n",
       "      <td>NaN</td>\n",
       "      <td>NaN</td>\n",
       "      <td>NaN</td>\n",
       "    </tr>\n",
       "    <tr>\n",
       "      <th>4</th>\n",
       "      <td>3c72e332-9fd7-11ec-add7-bf2cfe8c828d</td>\n",
       "      <td>Служба занятости</td>\n",
       "      <td>2300000000000</td>\n",
       "      <td>Краснодарский край</td>\n",
       "      <td>1022304246502</td>\n",
       "      <td>NaN</td>\n",
       "      <td>1022304246502</td>\n",
       "      <td>False</td>\n",
       "      <td>2340015390</td>\n",
       "      <td>ГОСУДАРСТВЕННОЕ КАЗЕННОЕ УЧРЕЖДЕНИЕ КРАСНОДАРС...</td>\n",
       "      <td>...</td>\n",
       "      <td>Социальный пакет</td>\n",
       "      <td>«руб.»</td>\n",
       "      <td>25000</td>\n",
       "      <td>+7(86168)54993</td>\n",
       "      <td>cb_kushev@mtsr.krasnodar.ru</td>\n",
       "      <td>NaN</td>\n",
       "      <td>NaN</td>\n",
       "      <td>NaN</td>\n",
       "      <td>NaN</td>\n",
       "      <td>NaN</td>\n",
       "    </tr>\n",
       "    <tr>\n",
       "      <th>...</th>\n",
       "      <td>...</td>\n",
       "      <td>...</td>\n",
       "      <td>...</td>\n",
       "      <td>...</td>\n",
       "      <td>...</td>\n",
       "      <td>...</td>\n",
       "      <td>...</td>\n",
       "      <td>...</td>\n",
       "      <td>...</td>\n",
       "      <td>...</td>\n",
       "      <td>...</td>\n",
       "      <td>...</td>\n",
       "      <td>...</td>\n",
       "      <td>...</td>\n",
       "      <td>...</td>\n",
       "      <td>...</td>\n",
       "      <td>...</td>\n",
       "      <td>...</td>\n",
       "      <td>...</td>\n",
       "      <td>...</td>\n",
       "      <td>...</td>\n",
       "    </tr>\n",
       "    <tr>\n",
       "      <th>28437</th>\n",
       "      <td>12fe3323-b2fa-11ec-9aad-bf2cfe8c828d</td>\n",
       "      <td>Служба занятости</td>\n",
       "      <td>1800000000000</td>\n",
       "      <td>Удмуртская Республика</td>\n",
       "      <td>1021801509828</td>\n",
       "      <td>NaN</td>\n",
       "      <td>1021801509828</td>\n",
       "      <td>False</td>\n",
       "      <td>1833000800</td>\n",
       "      <td>КПОУ УР \"Удмуртский республиканский колледж ку...</td>\n",
       "      <td>...</td>\n",
       "      <td>Социальный пакет</td>\n",
       "      <td>«руб.»</td>\n",
       "      <td>15974</td>\n",
       "      <td>+7(3412)444491</td>\n",
       "      <td>urkkult@mail.ru</td>\n",
       "      <td>NaN</td>\n",
       "      <td>NaN</td>\n",
       "      <td>+7(3412)444491</td>\n",
       "      <td>NaN</td>\n",
       "      <td>NaN</td>\n",
       "    </tr>\n",
       "    <tr>\n",
       "      <th>28438</th>\n",
       "      <td>eab00b13-0042-11ec-9dd6-bf2cfe8c828d</td>\n",
       "      <td>Служба занятости</td>\n",
       "      <td>5200000000000</td>\n",
       "      <td>Нижегородская область</td>\n",
       "      <td>1025203047385</td>\n",
       "      <td>NaN</td>\n",
       "      <td>1025203047385</td>\n",
       "      <td>False</td>\n",
       "      <td>5260070545</td>\n",
       "      <td>Муниципальное бюджетное учреждение культуры \"Н...</td>\n",
       "      <td>...</td>\n",
       "      <td>Социальный пакетРазделенный на части рабочий день</td>\n",
       "      <td>«руб.»</td>\n",
       "      <td>33800</td>\n",
       "      <td>+7(831)4308173</td>\n",
       "      <td>komedi@mail.ru</td>\n",
       "      <td>NaN</td>\n",
       "      <td>NaN</td>\n",
       "      <td>+7(831)4331476</td>\n",
       "      <td>NaN</td>\n",
       "      <td>NaN</td>\n",
       "    </tr>\n",
       "    <tr>\n",
       "      <th>28439</th>\n",
       "      <td>8351b2d3-0c71-11ec-9dd6-bf2cfe8c828d</td>\n",
       "      <td>Служба занятости</td>\n",
       "      <td>5200000000000</td>\n",
       "      <td>Нижегородская область</td>\n",
       "      <td>1025203047385</td>\n",
       "      <td>NaN</td>\n",
       "      <td>1025203047385</td>\n",
       "      <td>False</td>\n",
       "      <td>5260070545</td>\n",
       "      <td>Муниципальное бюджетное учреждение культуры \"Н...</td>\n",
       "      <td>...</td>\n",
       "      <td>Социальный пакет</td>\n",
       "      <td>«руб.»</td>\n",
       "      <td>16949</td>\n",
       "      <td>+7(831)4308173</td>\n",
       "      <td>komedi@mail.ru</td>\n",
       "      <td>NaN</td>\n",
       "      <td>NaN</td>\n",
       "      <td>+7(831)4331476</td>\n",
       "      <td>NaN</td>\n",
       "      <td>NaN</td>\n",
       "    </tr>\n",
       "    <tr>\n",
       "      <th>28440</th>\n",
       "      <td>8729ed62-9664-11eb-9dd6-bf2cfe8c828d</td>\n",
       "      <td>Служба занятости</td>\n",
       "      <td>5500000000000</td>\n",
       "      <td>Омская область</td>\n",
       "      <td>1115543001056</td>\n",
       "      <td>NaN</td>\n",
       "      <td>1115543001056</td>\n",
       "      <td>False</td>\n",
       "      <td>5519200201</td>\n",
       "      <td>БУ ЛМР \"ЦКИ ЛМР\"</td>\n",
       "      <td>...</td>\n",
       "      <td>Социальный пакет</td>\n",
       "      <td>«руб.»</td>\n",
       "      <td>23000</td>\n",
       "      <td>+721396</td>\n",
       "      <td>lubino-admkult@yandex.ru</td>\n",
       "      <td>NaN</td>\n",
       "      <td>NaN</td>\n",
       "      <td>NaN</td>\n",
       "      <td>NaN</td>\n",
       "      <td>NaN</td>\n",
       "    </tr>\n",
       "    <tr>\n",
       "      <th>28441</th>\n",
       "      <td>193534b2-ad23-11eb-9dd6-bf2cfe8c828d</td>\n",
       "      <td>Служба занятости</td>\n",
       "      <td>5500000000000</td>\n",
       "      <td>Омская область</td>\n",
       "      <td>1115543001056</td>\n",
       "      <td>NaN</td>\n",
       "      <td>1115543001056</td>\n",
       "      <td>False</td>\n",
       "      <td>5519200201</td>\n",
       "      <td>БУ ЛМР \"ЦКИ ЛМР\"</td>\n",
       "      <td>...</td>\n",
       "      <td>Социальный пакет</td>\n",
       "      <td>«руб.»</td>\n",
       "      <td>20000</td>\n",
       "      <td>+721396</td>\n",
       "      <td>lubino-admkult@yandex.ru</td>\n",
       "      <td>NaN</td>\n",
       "      <td>NaN</td>\n",
       "      <td>NaN</td>\n",
       "      <td>NaN</td>\n",
       "      <td>NaN</td>\n",
       "    </tr>\n",
       "  </tbody>\n",
       "</table>\n",
       "<p>28366 rows × 35 columns</p>\n",
       "</div>"
      ],
      "text/plain": [
       "                                 vacancy.id    vacancy.source  \\\n",
       "0      b74fc5b2-59f9-11ec-b40f-bf2cfe8c828d  Служба занятости   \n",
       "1      8e6790c2-a16a-11ec-add7-bf2cfe8c828d  Служба занятости   \n",
       "2      6d1bb722-e36f-11eb-9dd6-bf2cfe8c828d  Служба занятости   \n",
       "3      e11d2ef3-7d4e-11ec-b378-bf2cfe8c828d  Служба занятости   \n",
       "4      3c72e332-9fd7-11ec-add7-bf2cfe8c828d  Служба занятости   \n",
       "...                                     ...               ...   \n",
       "28437  12fe3323-b2fa-11ec-9aad-bf2cfe8c828d  Служба занятости   \n",
       "28438  eab00b13-0042-11ec-9dd6-bf2cfe8c828d  Служба занятости   \n",
       "28439  8351b2d3-0c71-11ec-9dd6-bf2cfe8c828d  Служба занятости   \n",
       "28440  8729ed62-9664-11eb-9dd6-bf2cfe8c828d  Служба занятости   \n",
       "28441  193534b2-ad23-11eb-9dd6-bf2cfe8c828d  Служба занятости   \n",
       "\n",
       "      vacancy.region.region_code    vacancy.region.name vacancy.company.ogrn  \\\n",
       "0                  5400000000000  Новосибирская область        1025401504039   \n",
       "1                  5200000000000  Нижегородская область        1025202210538   \n",
       "2                  4200000000000    Кемеровская область        1034205018110   \n",
       "3                  3600000000000    Воронежская область        1023600511448   \n",
       "4                  2300000000000     Краснодарский край        1022304246502   \n",
       "...                          ...                    ...                  ...   \n",
       "28437              1800000000000  Удмуртская Республика        1021801509828   \n",
       "28438              5200000000000  Нижегородская область        1025203047385   \n",
       "28439              5200000000000  Нижегородская область        1025203047385   \n",
       "28440              5500000000000         Омская область        1115543001056   \n",
       "28441              5500000000000         Омская область        1115543001056   \n",
       "\n",
       "      vacancy.company.site vacancy.company.companycode  \\\n",
       "0        http://nokkii.ru/               1025401504039   \n",
       "1                      NaN               1025202210538   \n",
       "2        http://lad-dva.ru               1034205018110   \n",
       "3                      NaN               1023600511448   \n",
       "4                      NaN               1022304246502   \n",
       "...                    ...                         ...   \n",
       "28437                  NaN               1021801509828   \n",
       "28438                  NaN               1025203047385   \n",
       "28439                  NaN               1025203047385   \n",
       "28440                  NaN               1115543001056   \n",
       "28441                  NaN               1115543001056   \n",
       "\n",
       "      vacancy.company.hr-agency vacancy.company.inn  \\\n",
       "0                         False          5404131424   \n",
       "1                         False          5201004100   \n",
       "2                         False          4206002915   \n",
       "3                         False          3662180590   \n",
       "4                         False          2340015390   \n",
       "...                         ...                 ...   \n",
       "28437                     False          1833000800   \n",
       "28438                     False          5260070545   \n",
       "28439                     False          5260070545   \n",
       "28440                     False          5519200201   \n",
       "28441                     False          5519200201   \n",
       "\n",
       "                                    vacancy.company.name  ...  \\\n",
       "0      Государственное автономное профессиональное об...  ...   \n",
       "1      Отдел по вопросам культуры, спорта и молодежи ...  ...   \n",
       "2                                ООО  \"КОМПАНИЯ ЛАД-ДВА\"  ...   \n",
       "3      ОВО ПО ПАНИНСКОМУ РАЙОНУ-ФИЛИАЛ ФГКУ \"УВО ВНГ ...  ...   \n",
       "4      ГОСУДАРСТВЕННОЕ КАЗЕННОЕ УЧРЕЖДЕНИЕ КРАСНОДАРС...  ...   \n",
       "...                                                  ...  ...   \n",
       "28437  КПОУ УР \"Удмуртский республиканский колледж ку...  ...   \n",
       "28438  Муниципальное бюджетное учреждение культуры \"Н...  ...   \n",
       "28439  Муниципальное бюджетное учреждение культуры \"Н...  ...   \n",
       "28440                                   БУ ЛМР \"ЦКИ ЛМР\"  ...   \n",
       "28441                                   БУ ЛМР \"ЦКИ ЛМР\"  ...   \n",
       "\n",
       "                                       vacancy.term.text vacancy.currency  \\\n",
       "0                                       Социальный пакет           «руб.»   \n",
       "1                                       Социальный пакет           «руб.»   \n",
       "2      Социальный пакет- График работы - понедельник-...           «руб.»   \n",
       "3             Социальный пакетОФОРМЛЕНИЕ ПО ТК,СОЦ.ПАКЕТ           «руб.»   \n",
       "4                                       Социальный пакет           «руб.»   \n",
       "...                                                  ...              ...   \n",
       "28437                                   Социальный пакет           «руб.»   \n",
       "28438  Социальный пакетРазделенный на части рабочий день           «руб.»   \n",
       "28439                                   Социальный пакет           «руб.»   \n",
       "28440                                   Социальный пакет           «руб.»   \n",
       "28441                                   Социальный пакет           «руб.»   \n",
       "\n",
       "      vacancy.salary_max    vacancy.company.phone  \\\n",
       "0                  30000  +7(383)3464043 доб. 249   \n",
       "1                  13890           +7(83179)53195   \n",
       "2                      0           +7(3842)744444   \n",
       "3                  13890         +7(47344)4-71-82   \n",
       "4                  25000           +7(86168)54993   \n",
       "...                  ...                      ...   \n",
       "28437              15974           +7(3412)444491   \n",
       "28438              33800           +7(831)4308173   \n",
       "28439              16949           +7(831)4308173   \n",
       "28440              23000                  +721396   \n",
       "28441              20000                  +721396   \n",
       "\n",
       "             vacancy.company.email vacancy.company.logo  \\\n",
       "0                ok-nokkii@mail.ru                  NaN   \n",
       "1        kultura.ardatov@yandex.ru                  NaN   \n",
       "2                 kassa@lad-dva.ru                  NaN   \n",
       "3               panino_ovo@mail.ru                  NaN   \n",
       "4      cb_kushev@mtsr.krasnodar.ru                  NaN   \n",
       "...                            ...                  ...   \n",
       "28437              urkkult@mail.ru                  NaN   \n",
       "28438               komedi@mail.ru                  NaN   \n",
       "28439               komedi@mail.ru                  NaN   \n",
       "28440     lubino-admkult@yandex.ru                  NaN   \n",
       "28441     lubino-admkult@yandex.ru                  NaN   \n",
       "\n",
       "      vacancy.social_protected vacancy.company.fax  \\\n",
       "0                          NaN                 NaN   \n",
       "1                          NaN                 NaN   \n",
       "2                          NaN                 NaN   \n",
       "3                          NaN                 NaN   \n",
       "4                          NaN                 NaN   \n",
       "...                        ...                 ...   \n",
       "28437                      NaN      +7(3412)444491   \n",
       "28438                      NaN      +7(831)4331476   \n",
       "28439                      NaN      +7(831)4331476   \n",
       "28440                      NaN                 NaN   \n",
       "28441                      NaN                 NaN   \n",
       "\n",
       "      vacancy.company.code_industry_branch vacancy.category.industry  \n",
       "0                                      NaN                       NaN  \n",
       "1                                      NaN                       NaN  \n",
       "2                                      NaN                       NaN  \n",
       "3                                      NaN                       NaN  \n",
       "4                                      NaN                       NaN  \n",
       "...                                    ...                       ...  \n",
       "28437                                  NaN                       NaN  \n",
       "28438                                  NaN                       NaN  \n",
       "28439                                  NaN                       NaN  \n",
       "28440                                  NaN                       NaN  \n",
       "28441                                  NaN                       NaN  \n",
       "\n",
       "[28366 rows x 35 columns]"
      ]
     },
     "execution_count": 57,
     "metadata": {},
     "output_type": "execute_result"
    }
   ],
   "source": [
    "first_date = datetime.strptime('2016-01-01', \"%Y-%m-%d\") \n",
    "end_date = datetime.strptime('2022-05-01', \"%Y-%m-%d\")\n",
    "df_result = df_filtered.loc[(df_filtered[\"vacancy.creation-date\"] < end_date) & (df_filtered[\"vacancy.creation-date\"] > first_date)]\n",
    "df_result"
   ]
  },
  {
   "cell_type": "code",
   "execution_count": 34,
   "metadata": {
    "pycharm": {
     "name": "#%%\n"
    }
   },
   "outputs": [
    {
     "data": {
      "text/plain": "<Figure size 1440x720 with 1 Axes>",
      "image/png": "[encoded data removed]"
     },
     "metadata": {
      "needs_background": "light"
     },
     "output_type": "display_data"
    }
   ],
   "source": [
    "\"\"\"Визуализируем распредение вакансий по времени создания\"\"\"\n",
    "import matplotlib.pyplot as plt\n",
    "import seaborn as sns\n",
    "\n",
    "plt.figure(figsize=(20, 10))\n",
    "sns.histplot(data=df_result, x='vacancy.creation-date', color = 'navy', kde = True)\n",
    "plt.show()"
   ]
  },
  {
   "cell_type": "code",
   "execution_count": 35,
   "metadata": {
    "pycharm": {
     "name": "#%%\n"
    }
   },
   "outputs": [],
   "source": [
    "# df_result.to_json('result_data.json')\n",
    "df_result.to_csv('result_data.csv')"
   ]
  },
  {
   "cell_type": "code",
   "execution_count": 5,
   "outputs": [
    {
     "name": "stderr",
     "output_type": "stream",
     "text": [
      "/var/folders/pf/sj5w0_zs1fs2qhqbvvcnn2500000gn/T/ipykernel_30021/675258569.py:3: DtypeWarning: Columns (8,11) have mixed types. Specify dtype option on import or set low_memory=False.\n",
      "  df = pd.read_csv(\"result_data.csv\")\n"
     ]
    },
    {
     "data": {
      "text/plain": "       Unnamed: 0                            vacancy.id    vacancy.source  \\\n0               0  b74fc5b2-59f9-11ec-b40f-bf2cfe8c828d  Служба занятости   \n1               1  8e6790c2-a16a-11ec-add7-bf2cfe8c828d  Служба занятости   \n2               2  6d1bb722-e36f-11eb-9dd6-bf2cfe8c828d  Служба занятости   \n3               3  e11d2ef3-7d4e-11ec-b378-bf2cfe8c828d  Служба занятости   \n4               4  3c72e332-9fd7-11ec-add7-bf2cfe8c828d  Служба занятости   \n...           ...                                   ...               ...   \n28361       28361  12fe3323-b2fa-11ec-9aad-bf2cfe8c828d  Служба занятости   \n28362       28362  eab00b13-0042-11ec-9dd6-bf2cfe8c828d  Служба занятости   \n28363       28363  8351b2d3-0c71-11ec-9dd6-bf2cfe8c828d  Служба занятости   \n28364       28364  8729ed62-9664-11eb-9dd6-bf2cfe8c828d  Служба занятости   \n28365       28365  193534b2-ad23-11eb-9dd6-bf2cfe8c828d  Служба занятости   \n\n       vacancy.region.region_code    vacancy.region.name  \\\n0                   5400000000000  Новосибирская область   \n1                   5200000000000  Нижегородская область   \n2                   4200000000000    Кемеровская область   \n3                   3600000000000    Воронежская область   \n4                   2300000000000     Краснодарский край   \n...                           ...                    ...   \n28361               1800000000000  Удмуртская Республика   \n28362               5200000000000  Нижегородская область   \n28363               5200000000000  Нижегородская область   \n28364               5500000000000         Омская область   \n28365               5500000000000         Омская область   \n\n       vacancy.company.ogrn vacancy.company.site vacancy.company.companycode  \\\n0              1.025402e+12    http://nokkii.ru/               1025401504039   \n1              1.025202e+12                  NaN               1025202210538   \n2              1.034205e+12    http://lad-dva.ru               1034205018110   \n3              1.023601e+12                  NaN               1023600511448   \n4              1.022304e+12                  NaN               1022304246502   \n...                     ...                  ...                         ...   \n28361          1.021802e+12                  NaN               1021801509828   \n28362          1.025203e+12                  NaN               1025203047385   \n28363          1.025203e+12                  NaN               1025203047385   \n28364          1.115543e+12                  NaN               1115543001056   \n28365          1.115543e+12                  NaN               1115543001056   \n\n      vacancy.company.hr-agency  vacancy.company.inn  ...  \\\n0                         False         5.404131e+09  ...   \n1                         False         5.201004e+09  ...   \n2                         False         4.206003e+09  ...   \n3                         False         3.662181e+09  ...   \n4                         False         2.340015e+09  ...   \n...                         ...                  ...  ...   \n28361                     False         1.833001e+09  ...   \n28362                     False         5.260071e+09  ...   \n28363                     False         5.260071e+09  ...   \n28364                     False         5.519200e+09  ...   \n28365                     False         5.519200e+09  ...   \n\n                                       vacancy.term.text vacancy.currency  \\\n0                                       Социальный пакет           «руб.»   \n1                                       Социальный пакет           «руб.»   \n2      Социальный пакет- График работы - понедельник-...           «руб.»   \n3             Социальный пакетОФОРМЛЕНИЕ ПО ТК,СОЦ.ПАКЕТ           «руб.»   \n4                                       Социальный пакет           «руб.»   \n...                                                  ...              ...   \n28361                                   Социальный пакет           «руб.»   \n28362  Социальный пакетРазделенный на части рабочий день           «руб.»   \n28363                                   Социальный пакет           «руб.»   \n28364                                   Социальный пакет           «руб.»   \n28365                                   Социальный пакет           «руб.»   \n\n      vacancy.salary_max    vacancy.company.phone  \\\n0                  30000  +7(383)3464043 доб. 249   \n1                  13890           +7(83179)53195   \n2                      0           +7(3842)744444   \n3                  13890         +7(47344)4-71-82   \n4                  25000           +7(86168)54993   \n...                  ...                      ...   \n28361              15974           +7(3412)444491   \n28362              33800           +7(831)4308173   \n28363              16949           +7(831)4308173   \n28364              23000                  +721396   \n28365              20000                  +721396   \n\n             vacancy.company.email  vacancy.company.logo  \\\n0                ok-nokkii@mail.ru                   NaN   \n1        kultura.ardatov@yandex.ru                   NaN   \n2                 kassa@lad-dva.ru                   NaN   \n3               panino_ovo@mail.ru                   NaN   \n4      cb_kushev@mtsr.krasnodar.ru                   NaN   \n...                            ...                   ...   \n28361              urkkult@mail.ru                   NaN   \n28362               komedi@mail.ru                   NaN   \n28363               komedi@mail.ru                   NaN   \n28364     lubino-admkult@yandex.ru                   NaN   \n28365     lubino-admkult@yandex.ru                   NaN   \n\n      vacancy.social_protected vacancy.company.fax  \\\n0                          NaN                 NaN   \n1                          NaN                 NaN   \n2                          NaN                 NaN   \n3                          NaN                 NaN   \n4                          NaN                 NaN   \n...                        ...                 ...   \n28361                      NaN      +7(3412)444491   \n28362                      NaN      +7(831)4331476   \n28363                      NaN      +7(831)4331476   \n28364                      NaN                 NaN   \n28365                      NaN                 NaN   \n\n      vacancy.company.code_industry_branch vacancy.category.industry  \n0                                      NaN                       NaN  \n1                                      NaN                       NaN  \n2                                      NaN                       NaN  \n3                                      NaN                       NaN  \n4                                      NaN                       NaN  \n...                                    ...                       ...  \n28361                                  NaN                       NaN  \n28362                                  NaN                       NaN  \n28363                                  NaN                       NaN  \n28364                                  NaN                       NaN  \n28365                                  NaN                       NaN  \n\n[28366 rows x 36 columns]",
      "text/html": "<div>\n<style scoped>\n    .dataframe tbody tr th:only-of-type {\n        vertical-align: middle;\n    }\n\n    .dataframe tbody tr th {\n        vertical-align: top;\n    }\n\n    .dataframe thead th {\n        text-align: right;\n    }\n</style>\n<table border=\"1\" class=\"dataframe\">\n  <thead>\n    <tr style=\"text-align: right;\">\n      <th></th>\n      <th>Unnamed: 0</th>\n      <th>vacancy.id</th>\n      <th>vacancy.source</th>\n      <th>vacancy.region.region_code</th>\n      <th>vacancy.region.name</th>\n      <th>vacancy.company.ogrn</th>\n      <th>vacancy.company.site</th>\n      <th>vacancy.company.companycode</th>\n      <th>vacancy.company.hr-agency</th>\n      <th>vacancy.company.inn</th>\n      <th>...</th>\n      <th>vacancy.term.text</th>\n      <th>vacancy.currency</th>\n      <th>vacancy.salary_max</th>\n      <th>vacancy.company.phone</th>\n      <th>vacancy.company.email</th>\n      <th>vacancy.company.logo</th>\n      <th>vacancy.social_protected</th>\n      <th>vacancy.company.fax</th>\n      <th>vacancy.company.code_industry_branch</th>\n      <th>vacancy.category.industry</th>\n    </tr>\n  </thead>\n  <tbody>\n    <tr>\n      <th>0</th>\n      <td>0</td>\n      <td>b74fc5b2-59f9-11ec-b40f-bf2cfe8c828d</td>\n      <td>Служба занятости</td>\n      <td>5400000000000</td>\n      <td>Новосибирская область</td>\n      <td>1.025402e+12</td>\n      <td>http://nokkii.ru/</td>\n      <td>1025401504039</td>\n      <td>False</td>\n      <td>5.404131e+09</td>\n      <td>...</td>\n      <td>Социальный пакет</td>\n      <td>«руб.»</td>\n      <td>30000</td>\n      <td>+7(383)3464043 доб. 249</td>\n      <td>ok-nokkii@mail.ru</td>\n      <td>NaN</td>\n      <td>NaN</td>\n      <td>NaN</td>\n      <td>NaN</td>\n      <td>NaN</td>\n    </tr>\n    <tr>\n      <th>1</th>\n      <td>1</td>\n      <td>8e6790c2-a16a-11ec-add7-bf2cfe8c828d</td>\n      <td>Служба занятости</td>\n      <td>5200000000000</td>\n      <td>Нижегородская область</td>\n      <td>1.025202e+12</td>\n      <td>NaN</td>\n      <td>1025202210538</td>\n      <td>False</td>\n      <td>5.201004e+09</td>\n      <td>...</td>\n      <td>Социальный пакет</td>\n      <td>«руб.»</td>\n      <td>13890</td>\n      <td>+7(83179)53195</td>\n      <td>kultura.ardatov@yandex.ru</td>\n      <td>NaN</td>\n      <td>NaN</td>\n      <td>NaN</td>\n      <td>NaN</td>\n      <td>NaN</td>\n    </tr>\n    <tr>\n      <th>2</th>\n      <td>2</td>\n      <td>6d1bb722-e36f-11eb-9dd6-bf2cfe8c828d</td>\n      <td>Служба занятости</td>\n      <td>4200000000000</td>\n      <td>Кемеровская область</td>\n      <td>1.034205e+12</td>\n      <td>http://lad-dva.ru</td>\n      <td>1034205018110</td>\n      <td>False</td>\n      <td>4.206003e+09</td>\n      <td>...</td>\n      <td>Социальный пакет- График работы - понедельник-...</td>\n      <td>«руб.»</td>\n      <td>0</td>\n      <td>+7(3842)744444</td>\n      <td>kassa@lad-dva.ru</td>\n      <td>NaN</td>\n      <td>NaN</td>\n      <td>NaN</td>\n      <td>NaN</td>\n      <td>NaN</td>\n    </tr>\n    <tr>\n      <th>3</th>\n      <td>3</td>\n      <td>e11d2ef3-7d4e-11ec-b378-bf2cfe8c828d</td>\n      <td>Служба занятости</td>\n      <td>3600000000000</td>\n      <td>Воронежская область</td>\n      <td>1.023601e+12</td>\n      <td>NaN</td>\n      <td>1023600511448</td>\n      <td>False</td>\n      <td>3.662181e+09</td>\n      <td>...</td>\n      <td>Социальный пакетОФОРМЛЕНИЕ ПО ТК,СОЦ.ПАКЕТ</td>\n      <td>«руб.»</td>\n      <td>13890</td>\n      <td>+7(47344)4-71-82</td>\n      <td>panino_ovo@mail.ru</td>\n      <td>NaN</td>\n      <td>NaN</td>\n      <td>NaN</td>\n      <td>NaN</td>\n      <td>NaN</td>\n    </tr>\n    <tr>\n      <th>4</th>\n      <td>4</td>\n      <td>3c72e332-9fd7-11ec-add7-bf2cfe8c828d</td>\n      <td>Служба занятости</td>\n      <td>2300000000000</td>\n      <td>Краснодарский край</td>\n      <td>1.022304e+12</td>\n      <td>NaN</td>\n      <td>1022304246502</td>\n      <td>False</td>\n      <td>2.340015e+09</td>\n      <td>...</td>\n      <td>Социальный пакет</td>\n      <td>«руб.»</td>\n      <td>25000</td>\n      <td>+7(86168)54993</td>\n      <td>cb_kushev@mtsr.krasnodar.ru</td>\n      <td>NaN</td>\n      <td>NaN</td>\n      <td>NaN</td>\n      <td>NaN</td>\n      <td>NaN</td>\n    </tr>\n    <tr>\n      <th>...</th>\n      <td>...</td>\n      <td>...</td>\n      <td>...</td>\n      <td>...</td>\n      <td>...</td>\n      <td>...</td>\n      <td>...</td>\n      <td>...</td>\n      <td>...</td>\n      <td>...</td>\n      <td>...</td>\n      <td>...</td>\n      <td>...</td>\n      <td>...</td>\n      <td>...</td>\n      <td>...</td>\n      <td>...</td>\n      <td>...</td>\n      <td>...</td>\n      <td>...</td>\n      <td>...</td>\n    </tr>\n    <tr>\n      <th>28361</th>\n      <td>28361</td>\n      <td>12fe3323-b2fa-11ec-9aad-bf2cfe8c828d</td>\n      <td>Служба занятости</td>\n      <td>1800000000000</td>\n      <td>Удмуртская Республика</td>\n      <td>1.021802e+12</td>\n      <td>NaN</td>\n      <td>1021801509828</td>\n      <td>False</td>\n      <td>1.833001e+09</td>\n      <td>...</td>\n      <td>Социальный пакет</td>\n      <td>«руб.»</td>\n      <td>15974</td>\n      <td>+7(3412)444491</td>\n      <td>urkkult@mail.ru</td>\n      <td>NaN</td>\n      <td>NaN</td>\n      <td>+7(3412)444491</td>\n      <td>NaN</td>\n      <td>NaN</td>\n    </tr>\n    <tr>\n      <th>28362</th>\n      <td>28362</td>\n      <td>eab00b13-0042-11ec-9dd6-bf2cfe8c828d</td>\n      <td>Служба занятости</td>\n      <td>5200000000000</td>\n      <td>Нижегородская область</td>\n      <td>1.025203e+12</td>\n      <td>NaN</td>\n      <td>1025203047385</td>\n      <td>False</td>\n      <td>5.260071e+09</td>\n      <td>...</td>\n      <td>Социальный пакетРазделенный на части рабочий день</td>\n      <td>«руб.»</td>\n      <td>33800</td>\n      <td>+7(831)4308173</td>\n      <td>komedi@mail.ru</td>\n      <td>NaN</td>\n      <td>NaN</td>\n      <td>+7(831)4331476</td>\n      <td>NaN</td>\n      <td>NaN</td>\n    </tr>\n    <tr>\n      <th>28363</th>\n      <td>28363</td>\n      <td>8351b2d3-0c71-11ec-9dd6-bf2cfe8c828d</td>\n      <td>Служба занятости</td>\n      <td>5200000000000</td>\n      <td>Нижегородская область</td>\n      <td>1.025203e+12</td>\n      <td>NaN</td>\n      <td>1025203047385</td>\n      <td>False</td>\n      <td>5.260071e+09</td>\n      <td>...</td>\n      <td>Социальный пакет</td>\n      <td>«руб.»</td>\n      <td>16949</td>\n      <td>+7(831)4308173</td>\n      <td>komedi@mail.ru</td>\n      <td>NaN</td>\n      <td>NaN</td>\n      <td>+7(831)4331476</td>\n      <td>NaN</td>\n      <td>NaN</td>\n    </tr>\n    <tr>\n      <th>28364</th>\n      <td>28364</td>\n      <td>8729ed62-9664-11eb-9dd6-bf2cfe8c828d</td>\n      <td>Служба занятости</td>\n      <td>5500000000000</td>\n      <td>Омская область</td>\n      <td>1.115543e+12</td>\n      <td>NaN</td>\n      <td>1115543001056</td>\n      <td>False</td>\n      <td>5.519200e+09</td>\n      <td>...</td>\n      <td>Социальный пакет</td>\n      <td>«руб.»</td>\n      <td>23000</td>\n      <td>+721396</td>\n      <td>lubino-admkult@yandex.ru</td>\n      <td>NaN</td>\n      <td>NaN</td>\n      <td>NaN</td>\n      <td>NaN</td>\n      <td>NaN</td>\n    </tr>\n    <tr>\n      <th>28365</th>\n      <td>28365</td>\n      <td>193534b2-ad23-11eb-9dd6-bf2cfe8c828d</td>\n      <td>Служба занятости</td>\n      <td>5500000000000</td>\n      <td>Омская область</td>\n      <td>1.115543e+12</td>\n      <td>NaN</td>\n      <td>1115543001056</td>\n      <td>False</td>\n      <td>5.519200e+09</td>\n      <td>...</td>\n      <td>Социальный пакет</td>\n      <td>«руб.»</td>\n      <td>20000</td>\n      <td>+721396</td>\n      <td>lubino-admkult@yandex.ru</td>\n      <td>NaN</td>\n      <td>NaN</td>\n      <td>NaN</td>\n      <td>NaN</td>\n      <td>NaN</td>\n    </tr>\n  </tbody>\n</table>\n<p>28366 rows × 36 columns</p>\n</div>"
     },
     "execution_count": 5,
     "metadata": {},
     "output_type": "execute_result"
    }
   ],
   "source": [
    "import pandas as pd\n",
    "\n",
    "df = pd.read_csv(\"result_data.csv\")\n",
    "df"
   ],
   "metadata": {
    "collapsed": false,
    "pycharm": {
     "name": "#%%\n"
    }
   }
  },
  {
   "cell_type": "code",
   "execution_count": 10,
   "outputs": [
    {
     "data": {
      "text/plain": "       Unnamed: 0                            vacancy.id    vacancy.source  \\\n0               0  b74fc5b2-59f9-11ec-b40f-bf2cfe8c828d  Служба занятости   \n1               1  8e6790c2-a16a-11ec-add7-bf2cfe8c828d  Служба занятости   \n2               2  6d1bb722-e36f-11eb-9dd6-bf2cfe8c828d  Служба занятости   \n3               3  e11d2ef3-7d4e-11ec-b378-bf2cfe8c828d  Служба занятости   \n4               4  3c72e332-9fd7-11ec-add7-bf2cfe8c828d  Служба занятости   \n...           ...                                   ...               ...   \n28361       28361  12fe3323-b2fa-11ec-9aad-bf2cfe8c828d  Служба занятости   \n28362       28362  eab00b13-0042-11ec-9dd6-bf2cfe8c828d  Служба занятости   \n28363       28363  8351b2d3-0c71-11ec-9dd6-bf2cfe8c828d  Служба занятости   \n28364       28364  8729ed62-9664-11eb-9dd6-bf2cfe8c828d  Служба занятости   \n28365       28365  193534b2-ad23-11eb-9dd6-bf2cfe8c828d  Служба занятости   \n\n       vacancy.region.region_code    vacancy.region.name  \\\n0                   5400000000000  Новосибирская область   \n1                   5200000000000  Нижегородская область   \n2                   4200000000000    Кемеровская область   \n3                   3600000000000    Воронежская область   \n4                   2300000000000     Краснодарский край   \n...                           ...                    ...   \n28361               1800000000000  Удмуртская Республика   \n28362               5200000000000  Нижегородская область   \n28363               5200000000000  Нижегородская область   \n28364               5500000000000         Омская область   \n28365               5500000000000         Омская область   \n\n       vacancy.company.ogrn vacancy.company.site vacancy.company.companycode  \\\n0              1.025402e+12    http://nokkii.ru/               1025401504039   \n1              1.025202e+12                  NaN               1025202210538   \n2              1.034205e+12    http://lad-dva.ru               1034205018110   \n3              1.023601e+12                  NaN               1023600511448   \n4              1.022304e+12                  NaN               1022304246502   \n...                     ...                  ...                         ...   \n28361          1.021802e+12                  NaN               1021801509828   \n28362          1.025203e+12                  NaN               1025203047385   \n28363          1.025203e+12                  NaN               1025203047385   \n28364          1.115543e+12                  NaN               1115543001056   \n28365          1.115543e+12                  NaN               1115543001056   \n\n      vacancy.company.hr-agency  vacancy.company.inn  ...  \\\n0                         False         5.404131e+09  ...   \n1                         False         5.201004e+09  ...   \n2                         False         4.206003e+09  ...   \n3                         False         3.662181e+09  ...   \n4                         False         2.340015e+09  ...   \n...                         ...                  ...  ...   \n28361                     False         1.833001e+09  ...   \n28362                     False         5.260071e+09  ...   \n28363                     False         5.260071e+09  ...   \n28364                     False         5.519200e+09  ...   \n28365                     False         5.519200e+09  ...   \n\n                                       vacancy.term.text vacancy.currency  \\\n0                                       Социальный пакет           «руб.»   \n1                                       Социальный пакет           «руб.»   \n2      Социальный пакет- График работы - понедельник-...           «руб.»   \n3             Социальный пакетОФОРМЛЕНИЕ ПО ТК,СОЦ.ПАКЕТ           «руб.»   \n4                                       Социальный пакет           «руб.»   \n...                                                  ...              ...   \n28361                                   Социальный пакет           «руб.»   \n28362  Социальный пакетРазделенный на части рабочий день           «руб.»   \n28363                                   Социальный пакет           «руб.»   \n28364                                   Социальный пакет           «руб.»   \n28365                                   Социальный пакет           «руб.»   \n\n      vacancy.salary_max    vacancy.company.phone  \\\n0                  30000  +7(383)3464043 доб. 249   \n1                  13890           +7(83179)53195   \n2                      0           +7(3842)744444   \n3                  13890         +7(47344)4-71-82   \n4                  25000           +7(86168)54993   \n...                  ...                      ...   \n28361              15974           +7(3412)444491   \n28362              33800           +7(831)4308173   \n28363              16949           +7(831)4308173   \n28364              23000                  +721396   \n28365              20000                  +721396   \n\n             vacancy.company.email  vacancy.company.logo  \\\n0                ok-nokkii@mail.ru                   NaN   \n1        kultura.ardatov@yandex.ru                   NaN   \n2                 kassa@lad-dva.ru                   NaN   \n3               panino_ovo@mail.ru                   NaN   \n4      cb_kushev@mtsr.krasnodar.ru                   NaN   \n...                            ...                   ...   \n28361              urkkult@mail.ru                   NaN   \n28362               komedi@mail.ru                   NaN   \n28363               komedi@mail.ru                   NaN   \n28364     lubino-admkult@yandex.ru                   NaN   \n28365     lubino-admkult@yandex.ru                   NaN   \n\n      vacancy.social_protected vacancy.company.fax  \\\n0                          NaN                 NaN   \n1                          NaN                 NaN   \n2                          NaN                 NaN   \n3                          NaN                 NaN   \n4                          NaN                 NaN   \n...                        ...                 ...   \n28361                      NaN      +7(3412)444491   \n28362                      NaN      +7(831)4331476   \n28363                      NaN      +7(831)4331476   \n28364                      NaN                 NaN   \n28365                      NaN                 NaN   \n\n      vacancy.company.code_industry_branch vacancy.category.industry  \n0                                      NaN                       NaN  \n1                                      NaN                       NaN  \n2                                      NaN                       NaN  \n3                                      NaN                       NaN  \n4                                      NaN                       NaN  \n...                                    ...                       ...  \n28361                                  NaN                       NaN  \n28362                                  NaN                       NaN  \n28363                                  NaN                       NaN  \n28364                                  NaN                       NaN  \n28365                                  NaN                       NaN  \n\n[28366 rows x 36 columns]",
      "text/html": "<div>\n<style scoped>\n    .dataframe tbody tr th:only-of-type {\n        vertical-align: middle;\n    }\n\n    .dataframe tbody tr th {\n        vertical-align: top;\n    }\n\n    .dataframe thead th {\n        text-align: right;\n    }\n</style>\n<table border=\"1\" class=\"dataframe\">\n  <thead>\n    <tr style=\"text-align: right;\">\n      <th></th>\n      <th>Unnamed: 0</th>\n      <th>vacancy.id</th>\n      <th>vacancy.source</th>\n      <th>vacancy.region.region_code</th>\n      <th>vacancy.region.name</th>\n      <th>vacancy.company.ogrn</th>\n      <th>vacancy.company.site</th>\n      <th>vacancy.company.companycode</th>\n      <th>vacancy.company.hr-agency</th>\n      <th>vacancy.company.inn</th>\n      <th>...</th>\n      <th>vacancy.term.text</th>\n      <th>vacancy.currency</th>\n      <th>vacancy.salary_max</th>\n      <th>vacancy.company.phone</th>\n      <th>vacancy.company.email</th>\n      <th>vacancy.company.logo</th>\n      <th>vacancy.social_protected</th>\n      <th>vacancy.company.fax</th>\n      <th>vacancy.company.code_industry_branch</th>\n      <th>vacancy.category.industry</th>\n    </tr>\n  </thead>\n  <tbody>\n    <tr>\n      <th>0</th>\n      <td>0</td>\n      <td>b74fc5b2-59f9-11ec-b40f-bf2cfe8c828d</td>\n      <td>Служба занятости</td>\n      <td>5400000000000</td>\n      <td>Новосибирская область</td>\n      <td>1.025402e+12</td>\n      <td>http://nokkii.ru/</td>\n      <td>1025401504039</td>\n      <td>False</td>\n      <td>5.404131e+09</td>\n      <td>...</td>\n      <td>Социальный пакет</td>\n      <td>«руб.»</td>\n      <td>30000</td>\n      <td>+7(383)3464043 доб. 249</td>\n      <td>ok-nokkii@mail.ru</td>\n      <td>NaN</td>\n      <td>NaN</td>\n      <td>NaN</td>\n      <td>NaN</td>\n      <td>NaN</td>\n    </tr>\n    <tr>\n      <th>1</th>\n      <td>1</td>\n      <td>8e6790c2-a16a-11ec-add7-bf2cfe8c828d</td>\n      <td>Служба занятости</td>\n      <td>5200000000000</td>\n      <td>Нижегородская область</td>\n      <td>1.025202e+12</td>\n      <td>NaN</td>\n      <td>1025202210538</td>\n      <td>False</td>\n      <td>5.201004e+09</td>\n      <td>...</td>\n      <td>Социальный пакет</td>\n      <td>«руб.»</td>\n      <td>13890</td>\n      <td>+7(83179)53195</td>\n      <td>kultura.ardatov@yandex.ru</td>\n      <td>NaN</td>\n      <td>NaN</td>\n      <td>NaN</td>\n      <td>NaN</td>\n      <td>NaN</td>\n    </tr>\n    <tr>\n      <th>2</th>\n      <td>2</td>\n      <td>6d1bb722-e36f-11eb-9dd6-bf2cfe8c828d</td>\n      <td>Служба занятости</td>\n      <td>4200000000000</td>\n      <td>Кемеровская область</td>\n      <td>1.034205e+12</td>\n      <td>http://lad-dva.ru</td>\n      <td>1034205018110</td>\n      <td>False</td>\n      <td>4.206003e+09</td>\n      <td>...</td>\n      <td>Социальный пакет- График работы - понедельник-...</td>\n      <td>«руб.»</td>\n      <td>0</td>\n      <td>+7(3842)744444</td>\n      <td>kassa@lad-dva.ru</td>\n      <td>NaN</td>\n      <td>NaN</td>\n      <td>NaN</td>\n      <td>NaN</td>\n      <td>NaN</td>\n    </tr>\n    <tr>\n      <th>3</th>\n      <td>3</td>\n      <td>e11d2ef3-7d4e-11ec-b378-bf2cfe8c828d</td>\n      <td>Служба занятости</td>\n      <td>3600000000000</td>\n      <td>Воронежская область</td>\n      <td>1.023601e+12</td>\n      <td>NaN</td>\n      <td>1023600511448</td>\n      <td>False</td>\n      <td>3.662181e+09</td>\n      <td>...</td>\n      <td>Социальный пакетОФОРМЛЕНИЕ ПО ТК,СОЦ.ПАКЕТ</td>\n      <td>«руб.»</td>\n      <td>13890</td>\n      <td>+7(47344)4-71-82</td>\n      <td>panino_ovo@mail.ru</td>\n      <td>NaN</td>\n      <td>NaN</td>\n      <td>NaN</td>\n      <td>NaN</td>\n      <td>NaN</td>\n    </tr>\n    <tr>\n      <th>4</th>\n      <td>4</td>\n      <td>3c72e332-9fd7-11ec-add7-bf2cfe8c828d</td>\n      <td>Служба занятости</td>\n      <td>2300000000000</td>\n      <td>Краснодарский край</td>\n      <td>1.022304e+12</td>\n      <td>NaN</td>\n      <td>1022304246502</td>\n      <td>False</td>\n      <td>2.340015e+09</td>\n      <td>...</td>\n      <td>Социальный пакет</td>\n      <td>«руб.»</td>\n      <td>25000</td>\n      <td>+7(86168)54993</td>\n      <td>cb_kushev@mtsr.krasnodar.ru</td>\n      <td>NaN</td>\n      <td>NaN</td>\n      <td>NaN</td>\n      <td>NaN</td>\n      <td>NaN</td>\n    </tr>\n    <tr>\n      <th>...</th>\n      <td>...</td>\n      <td>...</td>\n      <td>...</td>\n      <td>...</td>\n      <td>...</td>\n      <td>...</td>\n      <td>...</td>\n      <td>...</td>\n      <td>...</td>\n      <td>...</td>\n      <td>...</td>\n      <td>...</td>\n      <td>...</td>\n      <td>...</td>\n      <td>...</td>\n      <td>...</td>\n      <td>...</td>\n      <td>...</td>\n      <td>...</td>\n      <td>...</td>\n      <td>...</td>\n    </tr>\n    <tr>\n      <th>28361</th>\n      <td>28361</td>\n      <td>12fe3323-b2fa-11ec-9aad-bf2cfe8c828d</td>\n      <td>Служба занятости</td>\n      <td>1800000000000</td>\n      <td>Удмуртская Республика</td>\n      <td>1.021802e+12</td>\n      <td>NaN</td>\n      <td>1021801509828</td>\n      <td>False</td>\n      <td>1.833001e+09</td>\n      <td>...</td>\n      <td>Социальный пакет</td>\n      <td>«руб.»</td>\n      <td>15974</td>\n      <td>+7(3412)444491</td>\n      <td>urkkult@mail.ru</td>\n      <td>NaN</td>\n      <td>NaN</td>\n      <td>+7(3412)444491</td>\n      <td>NaN</td>\n      <td>NaN</td>\n    </tr>\n    <tr>\n      <th>28362</th>\n      <td>28362</td>\n      <td>eab00b13-0042-11ec-9dd6-bf2cfe8c828d</td>\n      <td>Служба занятости</td>\n      <td>5200000000000</td>\n      <td>Нижегородская область</td>\n      <td>1.025203e+12</td>\n      <td>NaN</td>\n      <td>1025203047385</td>\n      <td>False</td>\n      <td>5.260071e+09</td>\n      <td>...</td>\n      <td>Социальный пакетРазделенный на части рабочий день</td>\n      <td>«руб.»</td>\n      <td>33800</td>\n      <td>+7(831)4308173</td>\n      <td>komedi@mail.ru</td>\n      <td>NaN</td>\n      <td>NaN</td>\n      <td>+7(831)4331476</td>\n      <td>NaN</td>\n      <td>NaN</td>\n    </tr>\n    <tr>\n      <th>28363</th>\n      <td>28363</td>\n      <td>8351b2d3-0c71-11ec-9dd6-bf2cfe8c828d</td>\n      <td>Служба занятости</td>\n      <td>5200000000000</td>\n      <td>Нижегородская область</td>\n      <td>1.025203e+12</td>\n      <td>NaN</td>\n      <td>1025203047385</td>\n      <td>False</td>\n      <td>5.260071e+09</td>\n      <td>...</td>\n      <td>Социальный пакет</td>\n      <td>«руб.»</td>\n      <td>16949</td>\n      <td>+7(831)4308173</td>\n      <td>komedi@mail.ru</td>\n      <td>NaN</td>\n      <td>NaN</td>\n      <td>+7(831)4331476</td>\n      <td>NaN</td>\n      <td>NaN</td>\n    </tr>\n    <tr>\n      <th>28364</th>\n      <td>28364</td>\n      <td>8729ed62-9664-11eb-9dd6-bf2cfe8c828d</td>\n      <td>Служба занятости</td>\n      <td>5500000000000</td>\n      <td>Омская область</td>\n      <td>1.115543e+12</td>\n      <td>NaN</td>\n      <td>1115543001056</td>\n      <td>False</td>\n      <td>5.519200e+09</td>\n      <td>...</td>\n      <td>Социальный пакет</td>\n      <td>«руб.»</td>\n      <td>23000</td>\n      <td>+721396</td>\n      <td>lubino-admkult@yandex.ru</td>\n      <td>NaN</td>\n      <td>NaN</td>\n      <td>NaN</td>\n      <td>NaN</td>\n      <td>NaN</td>\n    </tr>\n    <tr>\n      <th>28365</th>\n      <td>28365</td>\n      <td>193534b2-ad23-11eb-9dd6-bf2cfe8c828d</td>\n      <td>Служба занятости</td>\n      <td>5500000000000</td>\n      <td>Омская область</td>\n      <td>1.115543e+12</td>\n      <td>NaN</td>\n      <td>1115543001056</td>\n      <td>False</td>\n      <td>5.519200e+09</td>\n      <td>...</td>\n      <td>Социальный пакет</td>\n      <td>«руб.»</td>\n      <td>20000</td>\n      <td>+721396</td>\n      <td>lubino-admkult@yandex.ru</td>\n      <td>NaN</td>\n      <td>NaN</td>\n      <td>NaN</td>\n      <td>NaN</td>\n      <td>NaN</td>\n    </tr>\n  </tbody>\n</table>\n<p>28366 rows × 36 columns</p>\n</div>"
     },
     "execution_count": 10,
     "metadata": {},
     "output_type": "execute_result"
    }
   ],
   "source": [
    "df"
   ],
   "metadata": {
    "collapsed": false,
    "pycharm": {
     "name": "#%%\n"
    }
   }
  },
  {
   "cell_type": "code",
   "execution_count": 9,
   "outputs": [
    {
     "name": "stdout",
     "output_type": "stream",
     "text": [
      "<class 'pandas.core.frame.DataFrame'>\n",
      "RangeIndex: 28366 entries, 0 to 28365\n",
      "Data columns (total 36 columns):\n",
      " #   Column                                Non-Null Count  Dtype         \n",
      "---  ------                                --------------  -----         \n",
      " 0   Unnamed: 0                            28366 non-null  int64         \n",
      " 1   vacancy.id                            28366 non-null  object        \n",
      " 2   vacancy.source                        28366 non-null  object        \n",
      " 3   vacancy.region.region_code            28366 non-null  int64         \n",
      " 4   vacancy.region.name                   28366 non-null  object        \n",
      " 5   vacancy.company.ogrn                  28353 non-null  float64       \n",
      " 6   vacancy.company.site                  6925 non-null   object        \n",
      " 7   vacancy.company.companycode           28363 non-null  object        \n",
      " 8   vacancy.company.hr-agency             28363 non-null  object        \n",
      " 9   vacancy.company.inn                   28325 non-null  float64       \n",
      " 10  vacancy.company.name                  28342 non-null  object        \n",
      " 11  vacancy.company.kpp                   26907 non-null  object        \n",
      " 12  vacancy.company.url                   28363 non-null  object        \n",
      " 13  vacancy.creation-date                 28366 non-null  datetime64[ns]\n",
      " 14  vacancy.salary                        27756 non-null  object        \n",
      " 15  vacancy.salary_min                    28366 non-null  int64         \n",
      " 16  vacancy.job-name                      28366 non-null  object        \n",
      " 17  vacancy.vac_url                       28366 non-null  object        \n",
      " 18  vacancy.employment                    28366 non-null  object        \n",
      " 19  vacancy.schedule                      28308 non-null  object        \n",
      " 20  vacancy.duty                          26826 non-null  object        \n",
      " 21  vacancy.category.specialisation       28366 non-null  object        \n",
      " 22  vacancy.requirement.education         22608 non-null  object        \n",
      " 23  vacancy.requirement.qualification     12138 non-null  object        \n",
      " 24  vacancy.requirement.experience        28366 non-null  object        \n",
      " 25  vacancy.addresses.address             28366 non-null  object        \n",
      " 26  vacancy.term.text                     14479 non-null  object        \n",
      " 27  vacancy.currency                      28366 non-null  object        \n",
      " 28  vacancy.salary_max                    28366 non-null  int64         \n",
      " 29  vacancy.company.phone                 24306 non-null  object        \n",
      " 30  vacancy.company.email                 23390 non-null  object        \n",
      " 31  vacancy.company.logo                  2546 non-null   object        \n",
      " 32  vacancy.social_protected              2842 non-null   object        \n",
      " 33  vacancy.company.fax                   3000 non-null   object        \n",
      " 34  vacancy.company.code_industry_branch  60 non-null     object        \n",
      " 35  vacancy.category.industry             60 non-null     object        \n",
      "dtypes: datetime64[ns](1), float64(2), int64(4), object(29)\n",
      "memory usage: 7.8+ MB\n"
     ]
    }
   ],
   "source": [
    " df.info()"
   ],
   "metadata": {
    "collapsed": false,
    "pycharm": {
     "name": "#%%\n"
    }
   }
  },
  {
   "cell_type": "code",
   "execution_count": 8,
   "outputs": [],
   "source": [
    "df[\"vacancy.creation-date\"] = df[\"vacancy.creation-date\"].astype(\"datetime64\")"
   ],
   "metadata": {
    "collapsed": false,
    "pycharm": {
     "name": "#%%\n"
    }
   }
  },
  {
   "cell_type": "code",
   "execution_count": 11,
   "outputs": [],
   "source": [
    "df_first_period = df[(df[\"vacancy.creation-date\"] >= \"2022-01-01\") & (df[\"vacancy.creation-date\"] < \"2022-02-25\")]"
   ],
   "metadata": {
    "collapsed": false,
    "pycharm": {
     "name": "#%%\n"
    }
   }
  },
  {
   "cell_type": "code",
   "execution_count": 13,
   "outputs": [],
   "source": [
    "df_first_period.to_csv(\"first_period.csv\")"
   ],
   "metadata": {
    "collapsed": false,
    "pycharm": {
     "name": "#%%\n"
    }
   }
  },
  {
   "cell_type": "code",
   "execution_count": 15,
   "outputs": [],
   "source": [
    "df_second_period = df[(df[\"vacancy.creation-date\"] >= \"2022-02-25\") & (df[\"vacancy.creation-date\"] < \"2022-04-23\")]"
   ],
   "metadata": {
    "collapsed": false,
    "pycharm": {
     "name": "#%%\n"
    }
   }
  },
  {
   "cell_type": "code",
   "execution_count": 16,
   "outputs": [
    {
     "data": {
      "text/plain": "       Unnamed: 0                            vacancy.id    vacancy.source  \\\n0               0  b74fc5b2-59f9-11ec-b40f-bf2cfe8c828d  Служба занятости   \n1               1  8e6790c2-a16a-11ec-add7-bf2cfe8c828d  Служба занятости   \n2               2  6d1bb722-e36f-11eb-9dd6-bf2cfe8c828d  Служба занятости   \n4               4  3c72e332-9fd7-11ec-add7-bf2cfe8c828d  Служба занятости   \n6               6  35307332-9be0-11ec-add7-bf2cfe8c828d  Служба занятости   \n...           ...                                   ...               ...   \n28361       28361  12fe3323-b2fa-11ec-9aad-bf2cfe8c828d  Служба занятости   \n28362       28362  eab00b13-0042-11ec-9dd6-bf2cfe8c828d  Служба занятости   \n28363       28363  8351b2d3-0c71-11ec-9dd6-bf2cfe8c828d  Служба занятости   \n28364       28364  8729ed62-9664-11eb-9dd6-bf2cfe8c828d  Служба занятости   \n28365       28365  193534b2-ad23-11eb-9dd6-bf2cfe8c828d  Служба занятости   \n\n       vacancy.region.region_code    vacancy.region.name  \\\n0                   5400000000000  Новосибирская область   \n1                   5200000000000  Нижегородская область   \n2                   4200000000000    Кемеровская область   \n4                   2300000000000     Краснодарский край   \n6                   3800000000000      Иркутская область   \n...                           ...                    ...   \n28361               1800000000000  Удмуртская Республика   \n28362               5200000000000  Нижегородская область   \n28363               5200000000000  Нижегородская область   \n28364               5500000000000         Омская область   \n28365               5500000000000         Омская область   \n\n       vacancy.company.ogrn vacancy.company.site vacancy.company.companycode  \\\n0              1.025402e+12    http://nokkii.ru/               1025401504039   \n1              1.025202e+12                  NaN               1025202210538   \n2              1.034205e+12    http://lad-dva.ru               1034205018110   \n4              1.022304e+12                  NaN               1022304246502   \n6              3.163850e+14                  NaN             316385000114745   \n...                     ...                  ...                         ...   \n28361          1.021802e+12                  NaN               1021801509828   \n28362          1.025203e+12                  NaN               1025203047385   \n28363          1.025203e+12                  NaN               1025203047385   \n28364          1.115543e+12                  NaN               1115543001056   \n28365          1.115543e+12                  NaN               1115543001056   \n\n      vacancy.company.hr-agency  vacancy.company.inn  ...  \\\n0                         False         5.404131e+09  ...   \n1                         False         5.201004e+09  ...   \n2                         False         4.206003e+09  ...   \n4                         False         2.340015e+09  ...   \n6                         False         3.826009e+11  ...   \n...                         ...                  ...  ...   \n28361                     False         1.833001e+09  ...   \n28362                     False         5.260071e+09  ...   \n28363                     False         5.260071e+09  ...   \n28364                     False         5.519200e+09  ...   \n28365                     False         5.519200e+09  ...   \n\n                                       vacancy.term.text vacancy.currency  \\\n0                                       Социальный пакет           «руб.»   \n1                                       Социальный пакет           «руб.»   \n2      Социальный пакет- График работы - понедельник-...           «руб.»   \n4                                       Социальный пакет           «руб.»   \n6                      Социальный пакет0,25 ст. от 22224           «руб.»   \n...                                                  ...              ...   \n28361                                   Социальный пакет           «руб.»   \n28362  Социальный пакетРазделенный на части рабочий день           «руб.»   \n28363                                   Социальный пакет           «руб.»   \n28364                                   Социальный пакет           «руб.»   \n28365                                   Социальный пакет           «руб.»   \n\n      vacancy.salary_max    vacancy.company.phone  \\\n0                  30000  +7(383)3464043 доб. 249   \n1                  13890           +7(83179)53195   \n2                      0           +7(3842)744444   \n4                  25000           +7(86168)54993   \n6                      0           +7(904)1349983   \n...                  ...                      ...   \n28361              15974           +7(3412)444491   \n28362              33800           +7(831)4308173   \n28363              16949           +7(831)4308173   \n28364              23000                  +721396   \n28365              20000                  +721396   \n\n             vacancy.company.email  vacancy.company.logo  \\\n0                ok-nokkii@mail.ru                   NaN   \n1        kultura.ardatov@yandex.ru                   NaN   \n2                 kassa@lad-dva.ru                   NaN   \n4      cb_kushev@mtsr.krasnodar.ru                   NaN   \n6                        1@mail.ru                   NaN   \n...                            ...                   ...   \n28361              urkkult@mail.ru                   NaN   \n28362               komedi@mail.ru                   NaN   \n28363               komedi@mail.ru                   NaN   \n28364     lubino-admkult@yandex.ru                   NaN   \n28365     lubino-admkult@yandex.ru                   NaN   \n\n      vacancy.social_protected vacancy.company.fax  \\\n0                          NaN                 NaN   \n1                          NaN                 NaN   \n2                          NaN                 NaN   \n4                          NaN                 NaN   \n6                          NaN                 NaN   \n...                        ...                 ...   \n28361                      NaN      +7(3412)444491   \n28362                      NaN      +7(831)4331476   \n28363                      NaN      +7(831)4331476   \n28364                      NaN                 NaN   \n28365                      NaN                 NaN   \n\n      vacancy.company.code_industry_branch vacancy.category.industry  \n0                                      NaN                       NaN  \n1                                      NaN                       NaN  \n2                                      NaN                       NaN  \n4                                      NaN                       NaN  \n6                                      NaN                       NaN  \n...                                    ...                       ...  \n28361                                  NaN                       NaN  \n28362                                  NaN                       NaN  \n28363                                  NaN                       NaN  \n28364                                  NaN                       NaN  \n28365                                  NaN                       NaN  \n\n[14697 rows x 36 columns]",
      "text/html": "<div>\n<style scoped>\n    .dataframe tbody tr th:only-of-type {\n        vertical-align: middle;\n    }\n\n    .dataframe tbody tr th {\n        vertical-align: top;\n    }\n\n    .dataframe thead th {\n        text-align: right;\n    }\n</style>\n<table border=\"1\" class=\"dataframe\">\n  <thead>\n    <tr style=\"text-align: right;\">\n      <th></th>\n      <th>Unnamed: 0</th>\n      <th>vacancy.id</th>\n      <th>vacancy.source</th>\n      <th>vacancy.region.region_code</th>\n      <th>vacancy.region.name</th>\n      <th>vacancy.company.ogrn</th>\n      <th>vacancy.company.site</th>\n      <th>vacancy.company.companycode</th>\n      <th>vacancy.company.hr-agency</th>\n      <th>vacancy.company.inn</th>\n      <th>...</th>\n      <th>vacancy.term.text</th>\n      <th>vacancy.currency</th>\n      <th>vacancy.salary_max</th>\n      <th>vacancy.company.phone</th>\n      <th>vacancy.company.email</th>\n      <th>vacancy.company.logo</th>\n      <th>vacancy.social_protected</th>\n      <th>vacancy.company.fax</th>\n      <th>vacancy.company.code_industry_branch</th>\n      <th>vacancy.category.industry</th>\n    </tr>\n  </thead>\n  <tbody>\n    <tr>\n      <th>0</th>\n      <td>0</td>\n      <td>b74fc5b2-59f9-11ec-b40f-bf2cfe8c828d</td>\n      <td>Служба занятости</td>\n      <td>5400000000000</td>\n      <td>Новосибирская область</td>\n      <td>1.025402e+12</td>\n      <td>http://nokkii.ru/</td>\n      <td>1025401504039</td>\n      <td>False</td>\n      <td>5.404131e+09</td>\n      <td>...</td>\n      <td>Социальный пакет</td>\n      <td>«руб.»</td>\n      <td>30000</td>\n      <td>+7(383)3464043 доб. 249</td>\n      <td>ok-nokkii@mail.ru</td>\n      <td>NaN</td>\n      <td>NaN</td>\n      <td>NaN</td>\n      <td>NaN</td>\n      <td>NaN</td>\n    </tr>\n    <tr>\n      <th>1</th>\n      <td>1</td>\n      <td>8e6790c2-a16a-11ec-add7-bf2cfe8c828d</td>\n      <td>Служба занятости</td>\n      <td>5200000000000</td>\n      <td>Нижегородская область</td>\n      <td>1.025202e+12</td>\n      <td>NaN</td>\n      <td>1025202210538</td>\n      <td>False</td>\n      <td>5.201004e+09</td>\n      <td>...</td>\n      <td>Социальный пакет</td>\n      <td>«руб.»</td>\n      <td>13890</td>\n      <td>+7(83179)53195</td>\n      <td>kultura.ardatov@yandex.ru</td>\n      <td>NaN</td>\n      <td>NaN</td>\n      <td>NaN</td>\n      <td>NaN</td>\n      <td>NaN</td>\n    </tr>\n    <tr>\n      <th>2</th>\n      <td>2</td>\n      <td>6d1bb722-e36f-11eb-9dd6-bf2cfe8c828d</td>\n      <td>Служба занятости</td>\n      <td>4200000000000</td>\n      <td>Кемеровская область</td>\n      <td>1.034205e+12</td>\n      <td>http://lad-dva.ru</td>\n      <td>1034205018110</td>\n      <td>False</td>\n      <td>4.206003e+09</td>\n      <td>...</td>\n      <td>Социальный пакет- График работы - понедельник-...</td>\n      <td>«руб.»</td>\n      <td>0</td>\n      <td>+7(3842)744444</td>\n      <td>kassa@lad-dva.ru</td>\n      <td>NaN</td>\n      <td>NaN</td>\n      <td>NaN</td>\n      <td>NaN</td>\n      <td>NaN</td>\n    </tr>\n    <tr>\n      <th>4</th>\n      <td>4</td>\n      <td>3c72e332-9fd7-11ec-add7-bf2cfe8c828d</td>\n      <td>Служба занятости</td>\n      <td>2300000000000</td>\n      <td>Краснодарский край</td>\n      <td>1.022304e+12</td>\n      <td>NaN</td>\n      <td>1022304246502</td>\n      <td>False</td>\n      <td>2.340015e+09</td>\n      <td>...</td>\n      <td>Социальный пакет</td>\n      <td>«руб.»</td>\n      <td>25000</td>\n      <td>+7(86168)54993</td>\n      <td>cb_kushev@mtsr.krasnodar.ru</td>\n      <td>NaN</td>\n      <td>NaN</td>\n      <td>NaN</td>\n      <td>NaN</td>\n      <td>NaN</td>\n    </tr>\n    <tr>\n      <th>6</th>\n      <td>6</td>\n      <td>35307332-9be0-11ec-add7-bf2cfe8c828d</td>\n      <td>Служба занятости</td>\n      <td>3800000000000</td>\n      <td>Иркутская область</td>\n      <td>3.163850e+14</td>\n      <td>NaN</td>\n      <td>316385000114745</td>\n      <td>False</td>\n      <td>3.826009e+11</td>\n      <td>...</td>\n      <td>Социальный пакет0,25 ст. от 22224</td>\n      <td>«руб.»</td>\n      <td>0</td>\n      <td>+7(904)1349983</td>\n      <td>1@mail.ru</td>\n      <td>NaN</td>\n      <td>NaN</td>\n      <td>NaN</td>\n      <td>NaN</td>\n      <td>NaN</td>\n    </tr>\n    <tr>\n      <th>...</th>\n      <td>...</td>\n      <td>...</td>\n      <td>...</td>\n      <td>...</td>\n      <td>...</td>\n      <td>...</td>\n      <td>...</td>\n      <td>...</td>\n      <td>...</td>\n      <td>...</td>\n      <td>...</td>\n      <td>...</td>\n      <td>...</td>\n      <td>...</td>\n      <td>...</td>\n      <td>...</td>\n      <td>...</td>\n      <td>...</td>\n      <td>...</td>\n      <td>...</td>\n      <td>...</td>\n    </tr>\n    <tr>\n      <th>28361</th>\n      <td>28361</td>\n      <td>12fe3323-b2fa-11ec-9aad-bf2cfe8c828d</td>\n      <td>Служба занятости</td>\n      <td>1800000000000</td>\n      <td>Удмуртская Республика</td>\n      <td>1.021802e+12</td>\n      <td>NaN</td>\n      <td>1021801509828</td>\n      <td>False</td>\n      <td>1.833001e+09</td>\n      <td>...</td>\n      <td>Социальный пакет</td>\n      <td>«руб.»</td>\n      <td>15974</td>\n      <td>+7(3412)444491</td>\n      <td>urkkult@mail.ru</td>\n      <td>NaN</td>\n      <td>NaN</td>\n      <td>+7(3412)444491</td>\n      <td>NaN</td>\n      <td>NaN</td>\n    </tr>\n    <tr>\n      <th>28362</th>\n      <td>28362</td>\n      <td>eab00b13-0042-11ec-9dd6-bf2cfe8c828d</td>\n      <td>Служба занятости</td>\n      <td>5200000000000</td>\n      <td>Нижегородская область</td>\n      <td>1.025203e+12</td>\n      <td>NaN</td>\n      <td>1025203047385</td>\n      <td>False</td>\n      <td>5.260071e+09</td>\n      <td>...</td>\n      <td>Социальный пакетРазделенный на части рабочий день</td>\n      <td>«руб.»</td>\n      <td>33800</td>\n      <td>+7(831)4308173</td>\n      <td>komedi@mail.ru</td>\n      <td>NaN</td>\n      <td>NaN</td>\n      <td>+7(831)4331476</td>\n      <td>NaN</td>\n      <td>NaN</td>\n    </tr>\n    <tr>\n      <th>28363</th>\n      <td>28363</td>\n      <td>8351b2d3-0c71-11ec-9dd6-bf2cfe8c828d</td>\n      <td>Служба занятости</td>\n      <td>5200000000000</td>\n      <td>Нижегородская область</td>\n      <td>1.025203e+12</td>\n      <td>NaN</td>\n      <td>1025203047385</td>\n      <td>False</td>\n      <td>5.260071e+09</td>\n      <td>...</td>\n      <td>Социальный пакет</td>\n      <td>«руб.»</td>\n      <td>16949</td>\n      <td>+7(831)4308173</td>\n      <td>komedi@mail.ru</td>\n      <td>NaN</td>\n      <td>NaN</td>\n      <td>+7(831)4331476</td>\n      <td>NaN</td>\n      <td>NaN</td>\n    </tr>\n    <tr>\n      <th>28364</th>\n      <td>28364</td>\n      <td>8729ed62-9664-11eb-9dd6-bf2cfe8c828d</td>\n      <td>Служба занятости</td>\n      <td>5500000000000</td>\n      <td>Омская область</td>\n      <td>1.115543e+12</td>\n      <td>NaN</td>\n      <td>1115543001056</td>\n      <td>False</td>\n      <td>5.519200e+09</td>\n      <td>...</td>\n      <td>Социальный пакет</td>\n      <td>«руб.»</td>\n      <td>23000</td>\n      <td>+721396</td>\n      <td>lubino-admkult@yandex.ru</td>\n      <td>NaN</td>\n      <td>NaN</td>\n      <td>NaN</td>\n      <td>NaN</td>\n      <td>NaN</td>\n    </tr>\n    <tr>\n      <th>28365</th>\n      <td>28365</td>\n      <td>193534b2-ad23-11eb-9dd6-bf2cfe8c828d</td>\n      <td>Служба занятости</td>\n      <td>5500000000000</td>\n      <td>Омская область</td>\n      <td>1.115543e+12</td>\n      <td>NaN</td>\n      <td>1115543001056</td>\n      <td>False</td>\n      <td>5.519200e+09</td>\n      <td>...</td>\n      <td>Социальный пакет</td>\n      <td>«руб.»</td>\n      <td>20000</td>\n      <td>+721396</td>\n      <td>lubino-admkult@yandex.ru</td>\n      <td>NaN</td>\n      <td>NaN</td>\n      <td>NaN</td>\n      <td>NaN</td>\n      <td>NaN</td>\n    </tr>\n  </tbody>\n</table>\n<p>14697 rows × 36 columns</p>\n</div>"
     },
     "execution_count": 16,
     "metadata": {},
     "output_type": "execute_result"
    }
   ],
   "source": [
    "df_second_period"
   ],
   "metadata": {
    "collapsed": false,
    "pycharm": {
     "name": "#%%\n"
    }
   }
  },
  {
   "cell_type": "code",
   "execution_count": 17,
   "outputs": [],
   "source": [
    "df_second_period.to_csv(\"second_period.csv\")"
   ],
   "metadata": {
    "collapsed": false,
    "pycharm": {
     "name": "#%%\n"
    }
   }
  },
  {
   "cell_type": "code",
   "execution_count": null,
   "outputs": [],
   "source": [],
   "metadata": {
    "collapsed": false,
    "pycharm": {
     "name": "#%%\n"
    }
   }
  }
 ],
 "metadata": {
  "interpreter": {
   "hash": "50df23e30a4738b8a8c03f0bcfd9db0a1cf9ef30d429922cc00e6ea41e4c7af5"
  },
  "kernelspec": {
   "display_name": "Python 3.7.13 64-bit ('editwarsdata': conda)",
   "name": "python3"
  },
  "language_info": {
   "codemirror_mode": {
    "name": "ipython",
    "version": 3
   },
   "file_extension": ".py",
   "mimetype": "text/x-python",
   "name": "python",
   "nbconvert_exporter": "python",
   "pygments_lexer": "ipython3",
   "version": "3.7.13"
  },
  "orig_nbformat": 4
 },
 "nbformat": 4,
 "nbformat_minor": 2
}